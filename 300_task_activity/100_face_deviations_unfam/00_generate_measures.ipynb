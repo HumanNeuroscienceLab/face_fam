{
 "cells": [
  {
   "cell_type": "markdown",
   "metadata": {},
   "source": [
    "This script will compile shape/texture measure for later voxelwise analyses."
   ]
  },
  {
   "cell_type": "code",
   "execution_count": 37,
   "metadata": {
    "collapsed": true
   },
   "outputs": [],
   "source": [
    "import os\n",
    "import pandas as pd\n",
    "import numpy as np\n",
    "import readline\n",
    "import rpy2\n",
    "import rpy2.robjects as robjects\n",
    "r = robjects.r\n",
    "\n",
    "import rpy2.robjects.numpy2ri\n",
    "rpy2.robjects.numpy2ri.activate()\n",
    "\n",
    "from rpy2.robjects import pandas2ri\n",
    "pandas2ri.activate()\n",
    "\n",
    "from sklearn.preprocessing import scale"
   ]
  },
  {
   "cell_type": "code",
   "execution_count": 38,
   "metadata": {
    "collapsed": false
   },
   "outputs": [],
   "source": [
    "%matplotlib inline\n",
    "import matplotlib.pyplot as plt\n",
    "\n",
    "from tqdm import tqdm\n",
    "from menpo.shape import PointCloud"
   ]
  },
  {
   "cell_type": "markdown",
   "metadata": {},
   "source": [
    "## Load\n",
    "\n",
    "Load the preprocessing steps"
   ]
  },
  {
   "cell_type": "code",
   "execution_count": 53,
   "metadata": {
    "collapsed": true
   },
   "outputs": [],
   "source": [
    "idir  = \"/data1/famface01/analysis/encoding/12_Features/identity_shape_analysis\"\n",
    "ifile = '%s/a01_preproc_shape_stim.npz' % idir\n",
    "data  = np.load(ifile)"
   ]
  },
  {
   "cell_type": "markdown",
   "metadata": {},
   "source": [
    "Load the texture PCA comps"
   ]
  },
  {
   "cell_type": "code",
   "execution_count": 40,
   "metadata": {
    "collapsed": true
   },
   "outputs": [],
   "source": [
    "idir = \"/data1/famface01/analysis/encoding/12_Features/identity_pca\"\n",
    "texture_scores = pd.read_csv(os.path.join(idir, \"texture_pca_scores.csv\"))\n",
    "texture_sym_scores = pd.read_csv(os.path.join(idir, \"texture_sym_pca_scores.csv\"))\n",
    "\n",
    "t_eigs = np.loadtxt(os.path.join(idir, \"texture_pca_eigs.txt\"))\n",
    "ts_eigs = np.loadtxt(os.path.join(idir, \"texture_sym_pca_eigs.txt\"))"
   ]
  },
  {
   "cell_type": "markdown",
   "metadata": {},
   "source": [
    "Load the shape PCA comps"
   ]
  },
  {
   "cell_type": "code",
   "execution_count": 41,
   "metadata": {
    "collapsed": true
   },
   "outputs": [],
   "source": [
    "idir = \"/data1/famface01/analysis/encoding/12_Features/identity_pca\"\n",
    "shape_scores = pd.read_csv(os.path.join(idir, \"shape_pca_scores.csv\"))\n",
    "shape_sym_scores = pd.read_csv(os.path.join(idir, \"shape_sym_pca_scores.csv\"))\n",
    "\n",
    "s_eigs = np.loadtxt(os.path.join(idir, \"shape_pca_eigs.txt\"))\n",
    "ss_eigs = np.loadtxt(os.path.join(idir, \"shape_sym_pca_eigs.txt\"))"
   ]
  },
  {
   "cell_type": "markdown",
   "metadata": {},
   "source": [
    "Remove the video names in the first column."
   ]
  },
  {
   "cell_type": "code",
   "execution_count": 42,
   "metadata": {
    "collapsed": false
   },
   "outputs": [
    {
     "name": "stdout",
     "output_type": "stream",
     "text": [
      "True\n",
      "True\n",
      "True\n"
     ]
    }
   ],
   "source": [
    "vnames = data['vidnames']\n",
    "print(np.alltrue(vnames == texture_sym_scores.ix[:,0]))\n",
    "print(np.alltrue(vnames == shape_scores.ix[:,0]))\n",
    "print(np.alltrue(vnames == shape_sym_scores.ix[:,0]))"
   ]
  },
  {
   "cell_type": "code",
   "execution_count": 43,
   "metadata": {
    "collapsed": true
   },
   "outputs": [],
   "source": [
    "texture_scores = texture_scores.ix[:,1:]\n",
    "texture_sym_scores = texture_sym_scores.ix[:,1:]\n",
    "\n",
    "shape_scores = shape_scores.ix[:,1:]\n",
    "shape_sym_scores = shape_sym_scores.ix[:,1:]"
   ]
  },
  {
   "cell_type": "code",
   "execution_count": 44,
   "metadata": {
    "collapsed": false
   },
   "outputs": [
    {
     "data": {
      "text/html": [
       "<div>\n",
       "<table border=\"1\" class=\"dataframe\">\n",
       "  <thead>\n",
       "    <tr style=\"text-align: right;\">\n",
       "      <th></th>\n",
       "      <th>0</th>\n",
       "      <th>1</th>\n",
       "      <th>2</th>\n",
       "      <th>3</th>\n",
       "      <th>4</th>\n",
       "    </tr>\n",
       "  </thead>\n",
       "  <tbody>\n",
       "    <tr>\n",
       "      <th>0</th>\n",
       "      <td>14</td>\n",
       "      <td>Ahmed_Chalabi_U000_vid06_clip05_2secs</td>\n",
       "      <td>3</td>\n",
       "      <td>unfam</td>\n",
       "      <td>/data1/famface01/data/stimuli/vids/eight_frame...</td>\n",
       "    </tr>\n",
       "    <tr>\n",
       "      <th>1</th>\n",
       "      <td>14</td>\n",
       "      <td>Ahmed_Chalabi_U000_vid06_clip05_2secs</td>\n",
       "      <td>9</td>\n",
       "      <td>unfam</td>\n",
       "      <td>/data1/famface01/data/stimuli/vids/eight_frame...</td>\n",
       "    </tr>\n",
       "    <tr>\n",
       "      <th>2</th>\n",
       "      <td>14</td>\n",
       "      <td>Ahmed_Chalabi_U000_vid06_clip05_2secs</td>\n",
       "      <td>15</td>\n",
       "      <td>unfam</td>\n",
       "      <td>/data1/famface01/data/stimuli/vids/eight_frame...</td>\n",
       "    </tr>\n",
       "    <tr>\n",
       "      <th>3</th>\n",
       "      <td>14</td>\n",
       "      <td>Ahmed_Chalabi_U000_vid06_clip05_2secs</td>\n",
       "      <td>21</td>\n",
       "      <td>unfam</td>\n",
       "      <td>/data1/famface01/data/stimuli/vids/eight_frame...</td>\n",
       "    </tr>\n",
       "    <tr>\n",
       "      <th>4</th>\n",
       "      <td>14</td>\n",
       "      <td>Ahmed_Chalabi_U000_vid06_clip05_2secs</td>\n",
       "      <td>27</td>\n",
       "      <td>unfam</td>\n",
       "      <td>/data1/famface01/data/stimuli/vids/eight_frame...</td>\n",
       "    </tr>\n",
       "  </tbody>\n",
       "</table>\n",
       "</div>"
      ],
      "text/plain": [
       "    0                                      1   2      3  \\\n",
       "0  14  Ahmed_Chalabi_U000_vid06_clip05_2secs   3  unfam   \n",
       "1  14  Ahmed_Chalabi_U000_vid06_clip05_2secs   9  unfam   \n",
       "2  14  Ahmed_Chalabi_U000_vid06_clip05_2secs  15  unfam   \n",
       "3  14  Ahmed_Chalabi_U000_vid06_clip05_2secs  21  unfam   \n",
       "4  14  Ahmed_Chalabi_U000_vid06_clip05_2secs  27  unfam   \n",
       "\n",
       "                                                   4  \n",
       "0  /data1/famface01/data/stimuli/vids/eight_frame...  \n",
       "1  /data1/famface01/data/stimuli/vids/eight_frame...  \n",
       "2  /data1/famface01/data/stimuli/vids/eight_frame...  \n",
       "3  /data1/famface01/data/stimuli/vids/eight_frame...  \n",
       "4  /data1/famface01/data/stimuli/vids/eight_frame...  "
      ]
     },
     "execution_count": 44,
     "metadata": {},
     "output_type": "execute_result"
    }
   ],
   "source": [
    "pd.DataFrame(data['unfam_df']).head()"
   ]
  },
  {
   "cell_type": "code",
   "execution_count": 46,
   "metadata": {
    "collapsed": false
   },
   "outputs": [
    {
     "data": {
      "text/plain": [
       "array([ 0.43,  0.66,  0.72,  0.76,  0.79,  0.82,  0.83,  0.84,  0.85,  0.86])"
      ]
     },
     "execution_count": 46,
     "metadata": {},
     "output_type": "execute_result"
    }
   ],
   "source": [
    "t_eigs[:,1].round(2)[:10]"
   ]
  },
  {
   "cell_type": "code",
   "execution_count": 47,
   "metadata": {
    "collapsed": false
   },
   "outputs": [
    {
     "data": {
      "text/plain": [
       "['mirror_ref_shape',\n",
       " 'ref_shape',\n",
       " 'step01_scale',\n",
       " 'step02_pose_mse',\n",
       " 'step02_pose_scores',\n",
       " 'step03_eye_blink',\n",
       " 'step04_mouth',\n",
       " 'step05_frame_shapes',\n",
       " 'step06_diff_shapes',\n",
       " 'step06_mean_shapes',\n",
       " 'step07_diff_sym_shapes',\n",
       " 'step07_mean_sym_shapes',\n",
       " 'unfam_df',\n",
       " 'vidnames']"
      ]
     },
     "execution_count": 47,
     "metadata": {},
     "output_type": "execute_result"
    }
   ],
   "source": [
    "sorted(data.keys())"
   ]
  },
  {
   "cell_type": "code",
   "execution_count": 48,
   "metadata": {
    "collapsed": false
   },
   "outputs": [],
   "source": [
    "subj = \"sub02\"\n",
    "infile = \"/data1/famface01/analysis/encoding/ShapeAnalysis/data/roi_n_more_%s.rda\" % subj\n",
    "r.load(infile)\n",
    "\n",
    "# Variables\n",
    "onsets     = np.array(r.dat.rx2('basics').rx2('timing').rx2('onset'))\n",
    "questions  = np.array(r['as.character'](r.dat.rx2('basics').rx2('timing').rx2('question')))\n",
    "runs       = np.array(r.dat.rx2('basics').rx2('timing').rx2('run'))\n",
    "uruns      = np.unique(runs)\n",
    "timing     = pandas2ri.ri2py(r.dat.rx2('basics').rx2('timing'))"
   ]
  },
  {
   "cell_type": "code",
   "execution_count": 49,
   "metadata": {
    "collapsed": false
   },
   "outputs": [
    {
     "name": "stdout",
     "output_type": "stream",
     "text": [
      "[1] \"frame.df\"     \"frame.timing\" \"timing\"      \n",
      "\n"
     ]
    },
    {
     "data": {
      "text/html": [
       "<div>\n",
       "<table border=\"1\" class=\"dataframe\">\n",
       "  <thead>\n",
       "    <tr style=\"text-align: right;\">\n",
       "      <th></th>\n",
       "      <th>frame.ind</th>\n",
       "      <th>func.ind</th>\n",
       "      <th>run</th>\n",
       "      <th>onset</th>\n",
       "      <th>local.onset</th>\n",
       "      <th>duration</th>\n",
       "      <th>frame</th>\n",
       "      <th>video</th>\n",
       "    </tr>\n",
       "  </thead>\n",
       "  <tbody>\n",
       "    <tr>\n",
       "      <th>4913</th>\n",
       "      <td>2457</td>\n",
       "      <td>1</td>\n",
       "      <td>1</td>\n",
       "      <td>0.001467</td>\n",
       "      <td>0.001467</td>\n",
       "      <td>0.25</td>\n",
       "      <td>3</td>\n",
       "      <td>Hank_Aaron_U067_vid03_clip04_2secs</td>\n",
       "    </tr>\n",
       "    <tr>\n",
       "      <th>4915</th>\n",
       "      <td>2458</td>\n",
       "      <td>1</td>\n",
       "      <td>1</td>\n",
       "      <td>0.251467</td>\n",
       "      <td>0.251467</td>\n",
       "      <td>0.25</td>\n",
       "      <td>9</td>\n",
       "      <td>Hank_Aaron_U067_vid03_clip04_2secs</td>\n",
       "    </tr>\n",
       "    <tr>\n",
       "      <th>4917</th>\n",
       "      <td>2459</td>\n",
       "      <td>1</td>\n",
       "      <td>1</td>\n",
       "      <td>0.501467</td>\n",
       "      <td>0.501467</td>\n",
       "      <td>0.25</td>\n",
       "      <td>15</td>\n",
       "      <td>Hank_Aaron_U067_vid03_clip04_2secs</td>\n",
       "    </tr>\n",
       "    <tr>\n",
       "      <th>4919</th>\n",
       "      <td>2460</td>\n",
       "      <td>1</td>\n",
       "      <td>1</td>\n",
       "      <td>0.751467</td>\n",
       "      <td>0.751467</td>\n",
       "      <td>0.25</td>\n",
       "      <td>21</td>\n",
       "      <td>Hank_Aaron_U067_vid03_clip04_2secs</td>\n",
       "    </tr>\n",
       "    <tr>\n",
       "      <th>4921</th>\n",
       "      <td>2461</td>\n",
       "      <td>1</td>\n",
       "      <td>1</td>\n",
       "      <td>1.001467</td>\n",
       "      <td>1.001467</td>\n",
       "      <td>0.25</td>\n",
       "      <td>27</td>\n",
       "      <td>Hank_Aaron_U067_vid03_clip04_2secs</td>\n",
       "    </tr>\n",
       "  </tbody>\n",
       "</table>\n",
       "</div>"
      ],
      "text/plain": [
       "      frame.ind  func.ind  run     onset  local.onset  duration  frame  \\\n",
       "4913       2457         1    1  0.001467     0.001467      0.25      3   \n",
       "4915       2458         1    1  0.251467     0.251467      0.25      9   \n",
       "4917       2459         1    1  0.501467     0.501467      0.25     15   \n",
       "4919       2460         1    1  0.751467     0.751467      0.25     21   \n",
       "4921       2461         1    1  1.001467     1.001467      0.25     27   \n",
       "\n",
       "                                   video  \n",
       "4913  Hank_Aaron_U067_vid03_clip04_2secs  \n",
       "4915  Hank_Aaron_U067_vid03_clip04_2secs  \n",
       "4917  Hank_Aaron_U067_vid03_clip04_2secs  \n",
       "4919  Hank_Aaron_U067_vid03_clip04_2secs  \n",
       "4921  Hank_Aaron_U067_vid03_clip04_2secs  "
      ]
     },
     "execution_count": 49,
     "metadata": {},
     "output_type": "execute_result"
    }
   ],
   "source": [
    "print(r.names(r.dat.rx2('basics')))\n",
    "#print(r.dat.rx2('basics').rx2('frame.timing'))\n",
    "pandas2ri.ri2py_dataframe(r.dat.rx2('basics').rx2('frame.timing')).head()"
   ]
  },
  {
   "cell_type": "markdown",
   "metadata": {},
   "source": [
    "## Measures\n",
    "\n",
    "1. Scale\n",
    "2. Pose Scores (4)\n",
    "3. Mouth Scores (2)\n"
   ]
  },
  {
   "cell_type": "code",
   "execution_count": 54,
   "metadata": {
    "collapsed": false
   },
   "outputs": [
    {
     "data": {
      "text/plain": [
       "['mirror_ref_shape',\n",
       " 'ref_shape',\n",
       " 'step01_frame_shapes',\n",
       " 'step01_scale',\n",
       " 'step02_frame_shapes',\n",
       " 'step02_pose_mse',\n",
       " 'step02_pose_scores',\n",
       " 'step03_eye_blink',\n",
       " 'step04_mouth',\n",
       " 'step05_frame_shapes',\n",
       " 'step06_diff_shapes',\n",
       " 'step06_mean_shapes',\n",
       " 'step07_diff_sym_shapes',\n",
       " 'step07_mean_sym_shapes',\n",
       " 'unfam_df',\n",
       " 'vidnames']"
      ]
     },
     "execution_count": 54,
     "metadata": {},
     "output_type": "execute_result"
    }
   ],
   "source": [
    "sorted(data.keys())"
   ]
  },
  {
   "cell_type": "code",
   "execution_count": 176,
   "metadata": {
    "collapsed": true
   },
   "outputs": [],
   "source": [
    "def eucdist(mat1, mat2):\n",
    "    return np.mean(np.sqrt(np.sum((mat1 - mat2)**2, axis=1)))\n",
    "\n",
    "def shape_framewise_diff(frame_dat):\n",
    "    \"\"\"Gets the framewise displacement for each frame to the next within a given video\"\"\"\n",
    "    n = frame_dat.shape[2]\n",
    "    fds = []\n",
    "    for i in range(n-1):\n",
    "        fd = eucdist(frame_dat[:,:,i], frame_dat[:,:,i+1])\n",
    "        fds.append(fd)\n",
    "    fds = np.array(fds)\n",
    "    return fds"
   ]
  },
  {
   "cell_type": "markdown",
   "metadata": {},
   "source": [
    "### Absolute Mean Measures\n",
    "\n",
    "We average the values across the time (2s) for each video."
   ]
  },
  {
   "cell_type": "code",
   "execution_count": 76,
   "metadata": {
    "collapsed": false
   },
   "outputs": [],
   "source": [
    "# We loop through the starting indices to average\n",
    "start_inds0 = np.array(r.seq(0,data['step01_scale'].shape[0]-1,8))\n",
    "start_inds1 = np.array(r.seq(1,data['step05_frame_shapes'].shape[2]-1,8))"
   ]
  },
  {
   "cell_type": "markdown",
   "metadata": {},
   "source": [
    "#### 1: Scale"
   ]
  },
  {
   "cell_type": "code",
   "execution_count": 83,
   "metadata": {
    "collapsed": false,
    "scrolled": true
   },
   "outputs": [
    {
     "name": "stderr",
     "output_type": "stream",
     "text": [
      "  9%|▉         | 79/864 [00:00<00:01, 784.68it/s]"
     ]
    },
    {
     "name": "stdout",
     "output_type": "stream",
     "text": [
      "(6912,)\n"
     ]
    },
    {
     "name": "stderr",
     "output_type": "stream",
     "text": [
      "100%|██████████| 864/864 [00:00<00:00, 1332.79it/s]\n"
     ]
    }
   ],
   "source": [
    "print data['step01_scale'].shape\n",
    "\n",
    "r01_scale = []\n",
    "for si in tqdm(start_inds0):\n",
    "    ret = data['step01_scale'][si:(si+8)].mean()\n",
    "    r01_scale.append(ret)\n",
    "r01_scale = np.array(r01_scale)"
   ]
  },
  {
   "cell_type": "code",
   "execution_count": 78,
   "metadata": {
    "collapsed": false
   },
   "outputs": [
    {
     "data": {
      "text/plain": [
       "array([ 1.06733281,  1.62719121,  1.47620884,  0.96738301,  1.16950446,\n",
       "        0.97519623,  1.00904329,  1.21312513,  1.40379761,  1.53728191])"
      ]
     },
     "execution_count": 78,
     "metadata": {},
     "output_type": "execute_result"
    }
   ],
   "source": [
    "r01_scale[:10]"
   ]
  },
  {
   "cell_type": "markdown",
   "metadata": {},
   "source": [
    "#### 2: Pose"
   ]
  },
  {
   "cell_type": "code",
   "execution_count": 84,
   "metadata": {
    "collapsed": false
   },
   "outputs": [
    {
     "name": "stderr",
     "output_type": "stream",
     "text": [
      "  4%|▍         | 34/864 [00:00<00:02, 333.20it/s]"
     ]
    },
    {
     "name": "stdout",
     "output_type": "stream",
     "text": [
      "(6913, 4)\n"
     ]
    },
    {
     "name": "stderr",
     "output_type": "stream",
     "text": [
      "100%|██████████| 864/864 [00:01<00:00, 632.34it/s]\n"
     ]
    }
   ],
   "source": [
    "print data['step02_pose_scores'].shape\n",
    "\n",
    "r02_pose_scores = []\n",
    "for si in tqdm(start_inds1):\n",
    "    ret = data['step02_pose_scores'][si:(si+8)].mean(axis=0)\n",
    "    r02_pose_scores.append(ret)\n",
    "r02_pose_scores = np.array(r02_pose_scores)"
   ]
  },
  {
   "cell_type": "code",
   "execution_count": 87,
   "metadata": {
    "collapsed": false
   },
   "outputs": [
    {
     "name": "stderr",
     "output_type": "stream",
     "text": [
      "  9%|▉         | 80/864 [00:00<00:00, 799.84it/s]"
     ]
    },
    {
     "name": "stdout",
     "output_type": "stream",
     "text": [
      "(6912,)\n"
     ]
    },
    {
     "name": "stderr",
     "output_type": "stream",
     "text": [
      "100%|██████████| 864/864 [00:00<00:00, 1358.36it/s]\n"
     ]
    }
   ],
   "source": [
    "print data['step02_pose_mse'].shape\n",
    "\n",
    "r02_pose_mse = []\n",
    "for si in tqdm(start_inds0):\n",
    "    ret = data['step02_pose_mse'][si:(si+8)].mean(axis=0)\n",
    "    r02_pose_mse.append(ret)\n",
    "r02_pose_mse = np.array(r02_pose_mse)"
   ]
  },
  {
   "cell_type": "code",
   "execution_count": 86,
   "metadata": {
    "collapsed": false
   },
   "outputs": [
    {
     "name": "stdout",
     "output_type": "stream",
     "text": [
      "[[ -8.42720388  -6.19560762   0.68772958   2.06813895]\n",
      " [-21.7606128    1.03601492   9.73275981   6.35362464]\n",
      " [-28.64019732 -11.52983994   8.93943451   8.68348722]\n",
      " [  6.15050415  -0.9389162   -1.36363926   0.6573992 ]\n",
      " [ 16.92368515  -7.52300944  -9.91625609  -0.94378705]\n",
      " [  5.74490258  -8.16558051 -14.88125815  -2.59604937]\n",
      " [ 17.90257589  23.09640839   1.75668514  -2.87079993]\n",
      " [ -9.20061788   9.48205803  -1.85683018   6.52272864]\n",
      " [ -6.34429651   4.06956126   3.84822612   4.61830454]\n",
      " [ 50.32581611  -5.75037103   3.64468669  -3.0515002 ]]\n",
      "[ 1.95059986  7.99294113  6.94414171  4.76169268  9.24024728  8.13471252\n",
      "  2.2132205   3.40540888  2.33876336  4.58919439]\n"
     ]
    }
   ],
   "source": [
    "print r02_pose_scores[:10]\n",
    "print r02_pose_mse[:10]"
   ]
  },
  {
   "cell_type": "markdown",
   "metadata": {},
   "source": [
    "#### 3: Mouth"
   ]
  },
  {
   "cell_type": "code",
   "execution_count": 88,
   "metadata": {
    "collapsed": false
   },
   "outputs": [
    {
     "name": "stderr",
     "output_type": "stream",
     "text": [
      "  7%|▋         | 57/864 [00:00<00:01, 567.42it/s]"
     ]
    },
    {
     "name": "stdout",
     "output_type": "stream",
     "text": [
      "(6912, 2)\n"
     ]
    },
    {
     "name": "stderr",
     "output_type": "stream",
     "text": [
      "100%|██████████| 864/864 [00:00<00:00, 966.56it/s]\n"
     ]
    }
   ],
   "source": [
    "print data['step04_mouth'].shape\n",
    "\n",
    "r03_mouth_scores = []\n",
    "for si in tqdm(start_inds1):\n",
    "    ret = data['step04_mouth'][si:(si+8)].mean(axis=0)\n",
    "    r03_mouth_scores.append(ret)\n",
    "r03_mouth_scores = np.array(r03_mouth_scores)"
   ]
  },
  {
   "cell_type": "markdown",
   "metadata": {},
   "source": [
    "#### 4: Left Over\n",
    "\n",
    "We take the difference of each frame from the mean frame. This reflects anything that we haven't captured with our pose or mouth removal business."
   ]
  },
  {
   "cell_type": "code",
   "execution_count": 91,
   "metadata": {
    "collapsed": false
   },
   "outputs": [
    {
     "name": "stderr",
     "output_type": "stream",
     "text": [
      "  0%|          | 1/864 [00:00<01:34,  9.17it/s]"
     ]
    },
    {
     "name": "stdout",
     "output_type": "stream",
     "text": [
      "(68, 2, 6913)\n",
      "(864, 68, 2)\n"
     ]
    },
    {
     "name": "stderr",
     "output_type": "stream",
     "text": [
      "100%|██████████| 864/864 [01:11<00:00, 12.14it/s]\n"
     ]
    }
   ],
   "source": [
    "print data['step05_frame_shapes'].shape\n",
    "print data['step06_mean_shapes'].shape\n",
    "\n",
    "r04_mean_fds = []\n",
    "for i,si in tqdm(enumerate(start_inds1), total=len(start_inds1)):\n",
    "    frame_shapes = data['step05_frame_shapes'][:,:,si:(si+8)]\n",
    "    fds = []\n",
    "    for j in range(8):\n",
    "        ret = eucdist(data['step06_mean_shapes'][i], frame_shapes[:,:,j])\n",
    "        fds.append(ret)\n",
    "    r04_mean_fds.append(np.array(fds).mean())\n",
    "r04_mean_fds = np.array(r04_mean_fds)"
   ]
  },
  {
   "cell_type": "code",
   "execution_count": 92,
   "metadata": {
    "collapsed": false
   },
   "outputs": [
    {
     "data": {
      "text/plain": [
       "array([ 0.79081297,  0.8345708 ,  1.67425297,  1.10693008,  1.50433418,\n",
       "        2.40202122,  0.92493662,  0.66811677,  1.01575574,  0.99981011])"
      ]
     },
     "execution_count": 92,
     "metadata": {},
     "output_type": "execute_result"
    }
   ],
   "source": [
    "r04_mean_fds[:10]"
   ]
  },
  {
   "cell_type": "markdown",
   "metadata": {
    "collapsed": true
   },
   "source": [
    "#### 5: Face Asymmetry \n",
    "\n",
    "Compare the non-mirror to the mirror face."
   ]
  },
  {
   "cell_type": "code",
   "execution_count": 97,
   "metadata": {
    "collapsed": false
   },
   "outputs": [
    {
     "name": "stderr",
     "output_type": "stream",
     "text": [
      "  1%|          | 6/864 [00:00<00:15, 55.45it/s]"
     ]
    },
    {
     "name": "stdout",
     "output_type": "stream",
     "text": [
      "(864, 68, 2)\n"
     ]
    },
    {
     "name": "stderr",
     "output_type": "stream",
     "text": [
      "100%|██████████| 864/864 [00:08<00:00, 101.11it/s]\n"
     ]
    }
   ],
   "source": [
    "print data['step06_mean_shapes'].shape\n",
    "\n",
    "r05_asym = []\n",
    "for i in tqdm(range(data['step06_mean_shapes'].shape[0])):\n",
    "    asym = eucdist(data['step06_mean_shapes'][i], data['step07_mean_sym_shapes'][i])\n",
    "    r05_asym.append(asym)\n",
    "r05_asym = np.array(r05_asym)"
   ]
  },
  {
   "cell_type": "code",
   "execution_count": 96,
   "metadata": {
    "collapsed": false
   },
   "outputs": [
    {
     "data": {
      "text/plain": [
       "<matplotlib.axes._subplots.AxesSubplot at 0x7fcd743c23d0>"
      ]
     },
     "execution_count": 96,
     "metadata": {},
     "output_type": "execute_result"
    },
    {
     "data": {
      "image/png": "[encoded data removed]",
      "text/plain": [
       "<matplotlib.figure.Figure at 0x7fcd742bd250>"
      ]
     },
     "metadata": {},
     "output_type": "display_data"
    }
   ],
   "source": [
    "pd.Series(r05_asym).plot()"
   ]
  },
  {
   "cell_type": "markdown",
   "metadata": {},
   "source": [
    "#### 6: Mean Sym Face\n",
    "\n",
    "Compare to reference."
   ]
  },
  {
   "cell_type": "code",
   "execution_count": 98,
   "metadata": {
    "collapsed": false
   },
   "outputs": [
    {
     "name": "stderr",
     "output_type": "stream",
     "text": [
      "100%|██████████| 864/864 [00:04<00:00, 206.18it/s]\n"
     ]
    }
   ],
   "source": [
    "r06_mean_face = []\n",
    "for i in tqdm(range(data['step06_mean_shapes'].shape[0])):\n",
    "    d = eucdist(data['step07_mean_sym_shapes'][i], data['mirror_ref_shape'])\n",
    "    r06_mean_face.append(d)\n",
    "r06_mean_face = np.array(r06_mean_face)"
   ]
  },
  {
   "cell_type": "code",
   "execution_count": 99,
   "metadata": {
    "collapsed": false
   },
   "outputs": [
    {
     "data": {
      "text/plain": [
       "<matplotlib.axes._subplots.AxesSubplot at 0x7fcd743af2d0>"
      ]
     },
     "execution_count": 99,
     "metadata": {},
     "output_type": "execute_result"
    },
    {
     "data": {
      "image/png": "[encoded data removed]",
      "text/plain": [
       "<matplotlib.figure.Figure at 0x7fcd743afe90>"
      ]
     },
     "metadata": {},
     "output_type": "display_data"
    }
   ],
   "source": [
    "pd.Series(r06_mean_face).plot()"
   ]
  },
  {
   "cell_type": "markdown",
   "metadata": {},
   "source": [
    "#### 7: PCA Comps"
   ]
  },
  {
   "cell_type": "code",
   "execution_count": 116,
   "metadata": {
    "collapsed": false
   },
   "outputs": [],
   "source": [
    "from sklearn.metrics.pairwise import euclidean_distances\n",
    "r07_pca_texture = euclidean_distances(texture_sym_scores.ix[:,:200], np.zeros((1,200)))[:,0]\n",
    "r07_pca_shape = euclidean_distances(shape_sym_scores.ix[:,:50], np.zeros((1,50)))[:,0]"
   ]
  },
  {
   "cell_type": "code",
   "execution_count": 120,
   "metadata": {
    "collapsed": false
   },
   "outputs": [
    {
     "name": "stdout",
     "output_type": "stream",
     "text": [
      "[[ 1.          0.95747892]\n",
      " [ 0.95747892  1.        ]]\n",
      "[[ 1.          0.09930876]\n",
      " [ 0.09930876  1.        ]]\n"
     ]
    }
   ],
   "source": [
    "# Note that since pca shape is very related to the mean shape, we won't use it (or maybe could use that instead of mean face)\n",
    "print np.corrcoef(r07_pca_shape, r06_mean_face)\n",
    "print np.corrcoef(r07_pca_texture, r06_mean_face)"
   ]
  },
  {
   "cell_type": "markdown",
   "metadata": {},
   "source": [
    "#### Save Mean Measures"
   ]
  },
  {
   "cell_type": "code",
   "execution_count": 156,
   "metadata": {
    "collapsed": false
   },
   "outputs": [],
   "source": [
    "rs = np.hstack((r01_scale.reshape(-1,1), r02_pose_scores, r02_pose_mse.reshape(-1,1), r03_mouth_scores, \n",
    "           r04_mean_fds.reshape(-1,1), r05_asym.reshape(-1,1), r06_mean_face.reshape(-1,1), \n",
    "           r07_pca_texture.reshape(-1,1), r07_pca_shape.reshape(-1,1)))\n",
    "cols = [\"scale\"] + [\"pose_scores\"]*4 + [\"pose_mse\"] + [\"mouth_scores\"]*2 + [\"mean_fds\"] + [\"asym\"] + [\"mean_face\"] + [\"pca_texture\"] + [\"pca_shape\"]\n",
    "cols = np.array(cols).flatten()\n",
    "rs = pd.DataFrame(rs, columns=cols)\n",
    "rs['vids'] = vnames"
   ]
  },
  {
   "cell_type": "code",
   "execution_count": 157,
   "metadata": {
    "collapsed": true
   },
   "outputs": [],
   "source": [
    "odir = \"/data1/famface01/command/misc/face_representations/300_task_activity/100_face_deviations_unfam\"\n",
    "rs.to_csv('%s/measures/z_mean_vid_vals.csv' % odir)"
   ]
  },
  {
   "cell_type": "code",
   "execution_count": 188,
   "metadata": {
    "collapsed": false
   },
   "outputs": [
    {
     "data": {
      "text/html": [
       "<div>\n",
       "<table border=\"1\" class=\"dataframe\">\n",
       "  <thead>\n",
       "    <tr style=\"text-align: right;\">\n",
       "      <th></th>\n",
       "      <th>scale</th>\n",
       "      <th>pose_scores</th>\n",
       "      <th>pose_scores</th>\n",
       "      <th>pose_scores</th>\n",
       "      <th>pose_scores</th>\n",
       "      <th>pose_mse</th>\n",
       "      <th>mouth_scores</th>\n",
       "      <th>mouth_scores</th>\n",
       "      <th>mean_fds</th>\n",
       "      <th>asym</th>\n",
       "      <th>mean_face</th>\n",
       "      <th>pca_texture</th>\n",
       "      <th>pca_shape</th>\n",
       "      <th>vids</th>\n",
       "    </tr>\n",
       "  </thead>\n",
       "  <tbody>\n",
       "    <tr>\n",
       "      <th>0</th>\n",
       "      <td>1.067333</td>\n",
       "      <td>-8.427204</td>\n",
       "      <td>-6.195608</td>\n",
       "      <td>0.687730</td>\n",
       "      <td>2.068139</td>\n",
       "      <td>1.490583</td>\n",
       "      <td>5.127390</td>\n",
       "      <td>-6.181855</td>\n",
       "      <td>0.790813</td>\n",
       "      <td>0.766045</td>\n",
       "      <td>2.459303</td>\n",
       "      <td>25.010695</td>\n",
       "      <td>22.265316</td>\n",
       "      <td>Ahmed_Chalabi_U000_vid06_clip05_2secs</td>\n",
       "    </tr>\n",
       "    <tr>\n",
       "      <th>1</th>\n",
       "      <td>1.627191</td>\n",
       "      <td>-21.760613</td>\n",
       "      <td>1.036015</td>\n",
       "      <td>9.732760</td>\n",
       "      <td>6.353625</td>\n",
       "      <td>7.363038</td>\n",
       "      <td>-7.930919</td>\n",
       "      <td>-4.339049</td>\n",
       "      <td>0.834571</td>\n",
       "      <td>0.917694</td>\n",
       "      <td>1.612777</td>\n",
       "      <td>42.269194</td>\n",
       "      <td>15.487359</td>\n",
       "      <td>Aidan_Quinn_vid01_clip03_2secs</td>\n",
       "    </tr>\n",
       "    <tr>\n",
       "      <th>2</th>\n",
       "      <td>1.476209</td>\n",
       "      <td>-28.640197</td>\n",
       "      <td>-11.529840</td>\n",
       "      <td>8.939435</td>\n",
       "      <td>8.683487</td>\n",
       "      <td>8.002943</td>\n",
       "      <td>11.169752</td>\n",
       "      <td>-0.244552</td>\n",
       "      <td>1.674253</td>\n",
       "      <td>1.497517</td>\n",
       "      <td>1.349106</td>\n",
       "      <td>23.447567</td>\n",
       "      <td>12.269977</td>\n",
       "      <td>Aisha_Hinds_vid05_clip02_2secs</td>\n",
       "    </tr>\n",
       "    <tr>\n",
       "      <th>3</th>\n",
       "      <td>0.967383</td>\n",
       "      <td>6.150504</td>\n",
       "      <td>-0.938916</td>\n",
       "      <td>-1.363639</td>\n",
       "      <td>0.657399</td>\n",
       "      <td>3.852070</td>\n",
       "      <td>5.438789</td>\n",
       "      <td>2.982217</td>\n",
       "      <td>1.106930</td>\n",
       "      <td>0.879046</td>\n",
       "      <td>1.306958</td>\n",
       "      <td>18.846613</td>\n",
       "      <td>13.454824</td>\n",
       "      <td>Aishwarya_Rai_vid05_clip06_2secs</td>\n",
       "    </tr>\n",
       "    <tr>\n",
       "      <th>4</th>\n",
       "      <td>1.169504</td>\n",
       "      <td>16.923685</td>\n",
       "      <td>-7.523009</td>\n",
       "      <td>-9.916256</td>\n",
       "      <td>-0.943787</td>\n",
       "      <td>9.387803</td>\n",
       "      <td>-4.184852</td>\n",
       "      <td>-1.192604</td>\n",
       "      <td>1.504334</td>\n",
       "      <td>1.197112</td>\n",
       "      <td>1.484421</td>\n",
       "      <td>35.532192</td>\n",
       "      <td>14.677188</td>\n",
       "      <td>AJ_Cook_vid03_clip01_2secs</td>\n",
       "    </tr>\n",
       "  </tbody>\n",
       "</table>\n",
       "</div>"
      ],
      "text/plain": [
       "      scale  pose_scores  pose_scores  pose_scores  pose_scores  pose_mse  \\\n",
       "0  1.067333    -8.427204    -6.195608     0.687730     2.068139  1.490583   \n",
       "1  1.627191   -21.760613     1.036015     9.732760     6.353625  7.363038   \n",
       "2  1.476209   -28.640197   -11.529840     8.939435     8.683487  8.002943   \n",
       "3  0.967383     6.150504    -0.938916    -1.363639     0.657399  3.852070   \n",
       "4  1.169504    16.923685    -7.523009    -9.916256    -0.943787  9.387803   \n",
       "\n",
       "   mouth_scores  mouth_scores  mean_fds      asym  mean_face  pca_texture  \\\n",
       "0      5.127390     -6.181855  0.790813  0.766045   2.459303    25.010695   \n",
       "1     -7.930919     -4.339049  0.834571  0.917694   1.612777    42.269194   \n",
       "2     11.169752     -0.244552  1.674253  1.497517   1.349106    23.447567   \n",
       "3      5.438789      2.982217  1.106930  0.879046   1.306958    18.846613   \n",
       "4     -4.184852     -1.192604  1.504334  1.197112   1.484421    35.532192   \n",
       "\n",
       "   pca_shape                                   vids  \n",
       "0  22.265316  Ahmed_Chalabi_U000_vid06_clip05_2secs  \n",
       "1  15.487359         Aidan_Quinn_vid01_clip03_2secs  \n",
       "2  12.269977         Aisha_Hinds_vid05_clip02_2secs  \n",
       "3  13.454824       Aishwarya_Rai_vid05_clip06_2secs  \n",
       "4  14.677188             AJ_Cook_vid03_clip01_2secs  "
      ]
     },
     "execution_count": 188,
     "metadata": {},
     "output_type": "execute_result"
    }
   ],
   "source": [
    "rs.ix[:,:].head()"
   ]
  },
  {
   "cell_type": "markdown",
   "metadata": {},
   "source": [
    "### Relative Measures (within vid)"
   ]
  },
  {
   "cell_type": "markdown",
   "metadata": {},
   "source": [
    "#### 1: Scale"
   ]
  },
  {
   "cell_type": "code",
   "execution_count": 165,
   "metadata": {
    "collapsed": false,
    "scrolled": true
   },
   "outputs": [
    {
     "name": "stderr",
     "output_type": "stream",
     "text": [
      "  9%|▉         | 79/864 [00:00<00:00, 788.81it/s]"
     ]
    },
    {
     "name": "stdout",
     "output_type": "stream",
     "text": [
      "(6912,)\n"
     ]
    },
    {
     "name": "stderr",
     "output_type": "stream",
     "text": [
      "100%|██████████| 864/864 [00:00<00:00, 1330.58it/s]\n"
     ]
    }
   ],
   "source": [
    "print data['step01_scale'].shape\n",
    "\n",
    "d01_scale = []\n",
    "for si in tqdm(start_inds0):\n",
    "    vdat = data['step01_scale'][si:(si+8)]\n",
    "    ret  = np.diff(vdat).mean()\n",
    "    d01_scale.append(ret)\n",
    "d01_scale = np.array(d01_scale)"
   ]
  },
  {
   "cell_type": "code",
   "execution_count": 166,
   "metadata": {
    "collapsed": false
   },
   "outputs": [
    {
     "data": {
      "text/plain": [
       "array([-0.00206508, -0.01416664, -0.00322482, -0.00358599, -0.00252541,\n",
       "        0.0037102 , -0.00050378,  0.00325261,  0.00930483, -0.00692884])"
      ]
     },
     "execution_count": 166,
     "metadata": {},
     "output_type": "execute_result"
    }
   ],
   "source": [
    "d01_scale[:10]"
   ]
  },
  {
   "cell_type": "markdown",
   "metadata": {},
   "source": [
    "#### 2: Pose"
   ]
  },
  {
   "cell_type": "code",
   "execution_count": 173,
   "metadata": {
    "collapsed": false
   },
   "outputs": [
    {
     "name": "stderr",
     "output_type": "stream",
     "text": [
      "  4%|▍         | 35/864 [00:00<00:02, 349.30it/s]"
     ]
    },
    {
     "name": "stdout",
     "output_type": "stream",
     "text": [
      "(6913, 4)\n"
     ]
    },
    {
     "name": "stderr",
     "output_type": "stream",
     "text": [
      "100%|██████████| 864/864 [00:01<00:00, 638.05it/s]\n"
     ]
    }
   ],
   "source": [
    "print data['step02_pose_scores'].shape\n",
    "\n",
    "d02_pose_scores = []\n",
    "for si in tqdm(start_inds1):\n",
    "    vdat = data['step02_pose_scores'][si:(si+8)]\n",
    "    ret  = np.diff(vdat, axis=0).mean(axis=0)\n",
    "    d02_pose_scores.append(ret)\n",
    "d02_pose_scores = np.array(d02_pose_scores)"
   ]
  },
  {
   "cell_type": "code",
   "execution_count": 174,
   "metadata": {
    "collapsed": false
   },
   "outputs": [
    {
     "name": "stderr",
     "output_type": "stream",
     "text": [
      "  9%|▉         | 80/864 [00:00<00:00, 792.63it/s]"
     ]
    },
    {
     "name": "stdout",
     "output_type": "stream",
     "text": [
      "(6912,)\n"
     ]
    },
    {
     "name": "stderr",
     "output_type": "stream",
     "text": [
      "100%|██████████| 864/864 [00:00<00:00, 1340.10it/s]\n"
     ]
    }
   ],
   "source": [
    "print data['step02_pose_mse'].shape\n",
    "\n",
    "d02_pose_mse = []\n",
    "for si in tqdm(start_inds0):\n",
    "    vdat = data['step02_pose_mse'][si:(si+8)]\n",
    "    ret  = np.diff(vdat).mean()\n",
    "    d02_pose_mse.append(ret)\n",
    "d02_pose_mse = np.array(d02_pose_mse)"
   ]
  },
  {
   "cell_type": "code",
   "execution_count": 86,
   "metadata": {
    "collapsed": false
   },
   "outputs": [
    {
     "name": "stdout",
     "output_type": "stream",
     "text": [
      "[[ -8.42720388  -6.19560762   0.68772958   2.06813895]\n",
      " [-21.7606128    1.03601492   9.73275981   6.35362464]\n",
      " [-28.64019732 -11.52983994   8.93943451   8.68348722]\n",
      " [  6.15050415  -0.9389162   -1.36363926   0.6573992 ]\n",
      " [ 16.92368515  -7.52300944  -9.91625609  -0.94378705]\n",
      " [  5.74490258  -8.16558051 -14.88125815  -2.59604937]\n",
      " [ 17.90257589  23.09640839   1.75668514  -2.87079993]\n",
      " [ -9.20061788   9.48205803  -1.85683018   6.52272864]\n",
      " [ -6.34429651   4.06956126   3.84822612   4.61830454]\n",
      " [ 50.32581611  -5.75037103   3.64468669  -3.0515002 ]]\n",
      "[ 1.95059986  7.99294113  6.94414171  4.76169268  9.24024728  8.13471252\n",
      "  2.2132205   3.40540888  2.33876336  4.58919439]\n"
     ]
    }
   ],
   "source": [
    "print r02_pose_scores[:10]\n",
    "print r02_pose_mse[:10]"
   ]
  },
  {
   "cell_type": "markdown",
   "metadata": {},
   "source": [
    "#### 3: Mouth"
   ]
  },
  {
   "cell_type": "code",
   "execution_count": 175,
   "metadata": {
    "collapsed": false
   },
   "outputs": [
    {
     "name": "stderr",
     "output_type": "stream",
     "text": [
      "  6%|▋         | 54/864 [00:00<00:01, 534.89it/s]"
     ]
    },
    {
     "name": "stdout",
     "output_type": "stream",
     "text": [
      "(6912, 2)\n"
     ]
    },
    {
     "name": "stderr",
     "output_type": "stream",
     "text": [
      "100%|██████████| 864/864 [00:00<00:00, 958.37it/s]\n"
     ]
    }
   ],
   "source": [
    "print data['step04_mouth'].shape\n",
    "\n",
    "d03_mouth_scores = []\n",
    "for si in tqdm(start_inds1):\n",
    "    vdat = data['step04_mouth'][si:(si+8)]\n",
    "    ret  = np.diff(vdat, axis=0).mean(axis=0)\n",
    "    d03_mouth_scores.append(ret)\n",
    "d03_mouth_scores = np.array(d03_mouth_scores)"
   ]
  },
  {
   "cell_type": "markdown",
   "metadata": {},
   "source": [
    "#### 4: Left Over"
   ]
  },
  {
   "cell_type": "code",
   "execution_count": 177,
   "metadata": {
    "collapsed": false
   },
   "outputs": [
    {
     "name": "stderr",
     "output_type": "stream",
     "text": [
      "  0%|          | 2/864 [00:00<00:46, 18.46it/s]"
     ]
    },
    {
     "name": "stdout",
     "output_type": "stream",
     "text": [
      "(68, 2, 6913)\n",
      "(864, 68, 2)\n"
     ]
    },
    {
     "name": "stderr",
     "output_type": "stream",
     "text": [
      "100%|██████████| 864/864 [00:36<00:00, 23.91it/s]\n"
     ]
    }
   ],
   "source": [
    "print data['step05_frame_shapes'].shape\n",
    "print data['step06_mean_shapes'].shape\n",
    "\n",
    "d04_mean_fds = []\n",
    "for i,si in tqdm(enumerate(start_inds1), total=len(start_inds1)):\n",
    "    frame_shapes = data['step05_frame_shapes'][:,:,si:(si+8)]\n",
    "    fds = shape_framewise_diff(frame_shapes)\n",
    "    d04_mean_fds.append(np.array(fds).mean())\n",
    "d04_mean_fds = np.array(d04_mean_fds)"
   ]
  },
  {
   "cell_type": "markdown",
   "metadata": {
    "collapsed": false
   },
   "source": [
    "### Save Relative Measures"
   ]
  },
  {
   "cell_type": "code",
   "execution_count": 207,
   "metadata": {
    "collapsed": false
   },
   "outputs": [],
   "source": [
    "ds = np.hstack((d01_scale.reshape(-1,1), d02_pose_scores, d02_pose_mse.reshape(-1,1), \n",
    "                d03_mouth_scores, d04_mean_fds.reshape(-1,1)))\n",
    "cols = [\"rel_scale\"] + [\"rel_pose_scores\"]*4 + [\"rel_pose_mse\"] + [\"rel_mouth_scores\"]*2 + [\"rel_mean_fds\"]\n",
    "cols = np.array(cols).flatten()\n",
    "ds = pd.DataFrame(ds, columns=cols)\n",
    "ds['vids'] = vnames"
   ]
  },
  {
   "cell_type": "code",
   "execution_count": 208,
   "metadata": {
    "collapsed": false
   },
   "outputs": [],
   "source": [
    "odir = \"/data1/famface01/command/misc/face_representations/300_task_activity/100_face_deviations_unfam\"\n",
    "ds.to_csv('%s/measures/z_mean_rel_vid_vals.csv' % odir)"
   ]
  },
  {
   "cell_type": "code",
   "execution_count": null,
   "metadata": {
    "collapsed": true
   },
   "outputs": [],
   "source": []
  },
  {
   "cell_type": "code",
   "execution_count": 202,
   "metadata": {
    "collapsed": false,
    "scrolled": true
   },
   "outputs": [
    {
     "name": "stdout",
     "output_type": "stream",
     "text": [
      "              scale pose_scores pose_mse mouth_scores mean_fds   asym mean_face\n",
      "scale         1.000      -0.012    0.043       -0.029   -0.072  0.039     0.038\n",
      "pose_scores  -0.012       1.000   -0.019       -0.068   -0.053 -0.048    -0.121\n",
      "pose_mse      0.043      -0.019    1.000       -0.311    0.296  0.478     0.183\n",
      "mouth_scores -0.029      -0.068   -0.311        1.000   -0.150 -0.136    -0.112\n",
      "mean_fds     -0.072      -0.053    0.296       -0.150    1.000  0.285     0.118\n",
      "asym          0.039      -0.048    0.478       -0.136    0.285  1.000     0.207\n",
      "mean_face     0.038      -0.121    0.183       -0.112    0.118  0.207     1.000\n",
      "pca_texture   0.104       0.021   -0.031        0.072    0.005 -0.010     0.099\n",
      "pca_shape     0.038      -0.108    0.179       -0.116    0.129  0.204     0.957\n",
      "             pca_texture pca_shape\n",
      "scale              0.104     0.038\n",
      "pose_scores        0.021    -0.108\n",
      "pose_mse          -0.031     0.179\n",
      "mouth_scores       0.072    -0.116\n",
      "mean_fds           0.005     0.129\n",
      "asym              -0.010     0.204\n",
      "mean_face          0.099     0.957\n",
      "pca_texture        1.000     0.089\n",
      "pca_shape          0.089     1.000\n",
      "\n"
     ]
    }
   ],
   "source": [
    "print r.round(r.cor(rs.ix[:,:-1]), 3)"
   ]
  },
  {
   "cell_type": "code",
   "execution_count": 203,
   "metadata": {
    "collapsed": false
   },
   "outputs": [
    {
     "name": "stdout",
     "output_type": "stream",
     "text": [
      "                 rel_scale rel_pose_scores rel_pose_mse rel_mouth_scores\n",
      "rel_scale            1.000           0.139       -0.121           -0.070\n",
      "rel_pose_scores      0.139           1.000        0.020           -0.029\n",
      "rel_pose_mse        -0.121           0.020        1.000           -0.023\n",
      "rel_mouth_scores    -0.070          -0.029       -0.023            1.000\n",
      "rel_mean_fds         0.008          -0.080        0.030            0.022\n",
      "                 rel_mean_fds\n",
      "rel_scale               0.008\n",
      "rel_pose_scores        -0.080\n",
      "rel_pose_mse            0.030\n",
      "rel_mouth_scores        0.022\n",
      "rel_mean_fds            1.000\n",
      "\n"
     ]
    }
   ],
   "source": [
    "print r.round(r.cor(ds.ix[:,:-1]), 3)"
   ]
  },
  {
   "cell_type": "code",
   "execution_count": 204,
   "metadata": {
    "collapsed": false
   },
   "outputs": [
    {
     "name": "stdout",
     "output_type": "stream",
     "text": [
      "             rel_scale rel_pose_scores rel_pose_mse rel_mouth_scores\n",
      "scale            0.003          -0.022        0.020            0.039\n",
      "pose_scores      0.004           0.010       -0.045            0.052\n",
      "pose_mse         0.042          -0.012        0.055            0.206\n",
      "mouth_scores     0.018          -0.014       -0.078           -0.416\n",
      "mean_fds         0.031          -0.117        0.021            0.015\n",
      "asym            -0.034          -0.056        0.005            0.084\n",
      "mean_face       -0.006          -0.059       -0.046            0.053\n",
      "pca_texture     -0.029          -0.059        0.019           -0.024\n",
      "pca_shape        0.005          -0.059       -0.044            0.072\n",
      "             rel_mean_fds\n",
      "scale              -0.048\n",
      "pose_scores        -0.024\n",
      "pose_mse            0.257\n",
      "mouth_scores       -0.161\n",
      "mean_fds            0.891\n",
      "asym                0.286\n",
      "mean_face           0.126\n",
      "pca_texture         0.033\n",
      "pca_shape           0.138\n",
      "\n"
     ]
    }
   ],
   "source": [
    "print r.round(r.cor(rs.ix[:,:-1], ds.ix[:,:-1]), 3) # note: correlation of rel.mean_fds is very high with the original one (only keep rel measure)"
   ]
  },
  {
   "cell_type": "code",
   "execution_count": 195,
   "metadata": {
    "collapsed": false
   },
   "outputs": [
    {
     "data": {
      "text/html": [
       "<div>\n",
       "<table border=\"1\" class=\"dataframe\">\n",
       "  <thead>\n",
       "    <tr style=\"text-align: right;\">\n",
       "      <th></th>\n",
       "      <th>scale</th>\n",
       "      <th>pose_scores</th>\n",
       "      <th>pose_scores</th>\n",
       "      <th>pose_scores</th>\n",
       "      <th>pose_scores</th>\n",
       "      <th>pose_mse</th>\n",
       "      <th>mouth_scores</th>\n",
       "      <th>mouth_scores</th>\n",
       "      <th>mean_fds</th>\n",
       "      <th>asym</th>\n",
       "      <th>mean_face</th>\n",
       "      <th>pca_texture</th>\n",
       "    </tr>\n",
       "  </thead>\n",
       "  <tbody>\n",
       "    <tr>\n",
       "      <th>0</th>\n",
       "      <td>1.067333</td>\n",
       "      <td>-8.427204</td>\n",
       "      <td>-6.195608</td>\n",
       "      <td>0.687730</td>\n",
       "      <td>2.068139</td>\n",
       "      <td>1.490583</td>\n",
       "      <td>5.127390</td>\n",
       "      <td>-6.181855</td>\n",
       "      <td>0.790813</td>\n",
       "      <td>0.766045</td>\n",
       "      <td>2.459303</td>\n",
       "      <td>25.010695</td>\n",
       "    </tr>\n",
       "    <tr>\n",
       "      <th>1</th>\n",
       "      <td>1.627191</td>\n",
       "      <td>-21.760613</td>\n",
       "      <td>1.036015</td>\n",
       "      <td>9.732760</td>\n",
       "      <td>6.353625</td>\n",
       "      <td>7.363038</td>\n",
       "      <td>-7.930919</td>\n",
       "      <td>-4.339049</td>\n",
       "      <td>0.834571</td>\n",
       "      <td>0.917694</td>\n",
       "      <td>1.612777</td>\n",
       "      <td>42.269194</td>\n",
       "    </tr>\n",
       "    <tr>\n",
       "      <th>2</th>\n",
       "      <td>1.476209</td>\n",
       "      <td>-28.640197</td>\n",
       "      <td>-11.529840</td>\n",
       "      <td>8.939435</td>\n",
       "      <td>8.683487</td>\n",
       "      <td>8.002943</td>\n",
       "      <td>11.169752</td>\n",
       "      <td>-0.244552</td>\n",
       "      <td>1.674253</td>\n",
       "      <td>1.497517</td>\n",
       "      <td>1.349106</td>\n",
       "      <td>23.447567</td>\n",
       "    </tr>\n",
       "    <tr>\n",
       "      <th>3</th>\n",
       "      <td>0.967383</td>\n",
       "      <td>6.150504</td>\n",
       "      <td>-0.938916</td>\n",
       "      <td>-1.363639</td>\n",
       "      <td>0.657399</td>\n",
       "      <td>3.852070</td>\n",
       "      <td>5.438789</td>\n",
       "      <td>2.982217</td>\n",
       "      <td>1.106930</td>\n",
       "      <td>0.879046</td>\n",
       "      <td>1.306958</td>\n",
       "      <td>18.846613</td>\n",
       "    </tr>\n",
       "    <tr>\n",
       "      <th>4</th>\n",
       "      <td>1.169504</td>\n",
       "      <td>16.923685</td>\n",
       "      <td>-7.523009</td>\n",
       "      <td>-9.916256</td>\n",
       "      <td>-0.943787</td>\n",
       "      <td>9.387803</td>\n",
       "      <td>-4.184852</td>\n",
       "      <td>-1.192604</td>\n",
       "      <td>1.504334</td>\n",
       "      <td>1.197112</td>\n",
       "      <td>1.484421</td>\n",
       "      <td>35.532192</td>\n",
       "    </tr>\n",
       "  </tbody>\n",
       "</table>\n",
       "</div>"
      ],
      "text/plain": [
       "      scale  pose_scores  pose_scores  pose_scores  pose_scores  pose_mse  \\\n",
       "0  1.067333    -8.427204    -6.195608     0.687730     2.068139  1.490583   \n",
       "1  1.627191   -21.760613     1.036015     9.732760     6.353625  7.363038   \n",
       "2  1.476209   -28.640197   -11.529840     8.939435     8.683487  8.002943   \n",
       "3  0.967383     6.150504    -0.938916    -1.363639     0.657399  3.852070   \n",
       "4  1.169504    16.923685    -7.523009    -9.916256    -0.943787  9.387803   \n",
       "\n",
       "   mouth_scores  mouth_scores  mean_fds      asym  mean_face  pca_texture  \n",
       "0      5.127390     -6.181855  0.790813  0.766045   2.459303    25.010695  \n",
       "1     -7.930919     -4.339049  0.834571  0.917694   1.612777    42.269194  \n",
       "2     11.169752     -0.244552  1.674253  1.497517   1.349106    23.447567  \n",
       "3      5.438789      2.982217  1.106930  0.879046   1.306958    18.846613  \n",
       "4     -4.184852     -1.192604  1.504334  1.197112   1.484421    35.532192  "
      ]
     },
     "execution_count": 195,
     "metadata": {},
     "output_type": "execute_result"
    }
   ],
   "source": [
    "rs.ix[:,:-2].head()"
   ]
  },
  {
   "cell_type": "code",
   "execution_count": null,
   "metadata": {
    "collapsed": true
   },
   "outputs": [],
   "source": []
  }
 ],
 "metadata": {
  "kernelspec": {
   "display_name": "Python 2",
   "language": "python",
   "name": "python2"
  },
  "language_info": {
   "codemirror_mode": {
    "name": "ipython",
    "version": 2
   },
   "file_extension": ".py",
   "mimetype": "text/x-python",
   "name": "python",
   "nbconvert_exporter": "python",
   "pygments_lexer": "ipython2",
   "version": "2.7.12"
  }
 },
 "nbformat": 4,
 "nbformat_minor": 0
}
