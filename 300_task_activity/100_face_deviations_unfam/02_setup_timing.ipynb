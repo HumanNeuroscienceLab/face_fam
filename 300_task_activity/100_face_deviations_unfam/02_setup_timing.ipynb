{
 "cells": [
  {
   "cell_type": "markdown",
   "metadata": {},
   "source": [
    "Please get the raw, predicted, and residual features from `120_features` folder.\n",
    "\n",
    "This will save demographics and trait measures. The demo and trait measures will be run in separate analyses."
   ]
  },
  {
   "cell_type": "code",
   "execution_count": 1,
   "metadata": {
    "collapsed": false
   },
   "outputs": [],
   "source": [
    "import os\n",
    "import pandas as pd\n",
    "import numpy as np\n",
    "import readline\n",
    "import rpy2\n",
    "import rpy2.robjects as robjects\n",
    "r = robjects.r\n",
    "\n",
    "import rpy2.robjects.numpy2ri\n",
    "rpy2.robjects.numpy2ri.activate()\n",
    "\n",
    "from rpy2.robjects import pandas2ri\n",
    "pandas2ri.activate()\n",
    "\n",
    "from sklearn.preprocessing import scale"
   ]
  },
  {
   "cell_type": "markdown",
   "metadata": {},
   "source": [
    "# Run"
   ]
  },
  {
   "cell_type": "code",
   "execution_count": 13,
   "metadata": {
    "collapsed": true
   },
   "outputs": [],
   "source": [
    "def load_dat(timing):\n",
    "    # Read in data\n",
    "    dfa = pd.read_csv(\"measures/z_mean_vid_vals.csv\")\n",
    "    dfb = pd.read_csv(\"measures/z_mean_rel_vid_vals.csv\")\n",
    "    df  = pd.concat([dfa.ix[:,1:-2],dfb.ix[:,1:-1]], axis=1)\n",
    "    df  = df.ix[:,df.columns != \"mean_fds\"]\n",
    "    \n",
    "    # Get the video names\n",
    "    # We want to reorder the dataframe above based on the timing info\n",
    "    feat_vnames = dfa.ix[:,-1]\n",
    "    inds   = [ (x == feat_vnames).nonzero()[0][0] for x in timing.video ]\n",
    "    \n",
    "    # Extract\n",
    "    df_cols = df.columns\n",
    "    df_dat  = df.ix[inds,:]\n",
    "    \n",
    "    # Make matrix\n",
    "    df_dat = df_dat.as_matrix()\n",
    "\n",
    "    # Center the columns\n",
    "    df_dat = scale(df_dat, with_mean=True, with_std=False)\n",
    "\n",
    "    return (df_cols, df_dat)"
   ]
  },
  {
   "cell_type": "code",
   "execution_count": 17,
   "metadata": {
    "collapsed": true
   },
   "outputs": [],
   "source": [
    "def face_activity(runs, onsets):\n",
    "    uruns = np.unique(runs)\n",
    "    nruns = uruns.shape[0]\n",
    "    afni_facemat = []\n",
    "\n",
    "    for ri in range(nruns):\n",
    "        run_inds = runs == uruns[ri]\n",
    "        n = np.sum(run_inds)\n",
    "\n",
    "        ovec = onsets[run_inds].astype('float32').round(4)\n",
    "        row = [ '%.5f' % ovec[i] for i in range(n) ]\n",
    "        row = \" \".join(row)\n",
    "\n",
    "        afni_facemat.append(row)\n",
    "\n",
    "    return np.array(afni_facemat)\n",
    "\n",
    "def question_activity(runs, onsets, q_regressor):\n",
    "    uruns = np.unique(runs)\n",
    "    \n",
    "    afni_qmat = []\n",
    "    nruns = uruns.shape[0]\n",
    "    \n",
    "    for ri in range(nruns):\n",
    "        run_inds = runs == uruns[ri]\n",
    "        n = np.sum(run_inds)\n",
    "        \n",
    "        qvec = q_regressor[run_inds]\n",
    "        ovec = onsets[run_inds].astype('float32').round(4)\n",
    "        row  = np.array([ '%.5f' % ovec[i] for i,touse in enumerate(qvec) if touse == 1 ])\n",
    "        if len(row) == 0:\n",
    "            row = '*'\n",
    "        else:\n",
    "            row = \" \".join(row)\n",
    "\n",
    "        afni_qmat.append(row)\n",
    "    \n",
    "    return np.array(afni_qmat)\n",
    "\n",
    "def motion_covars(subj):\n",
    "    funcdir = \"/data1/famface01/analysis/preprocessed/%s/func\" % subj\n",
    "    df_paths = pd.read_table(\"%s/df_paths.txt\" % funcdir, sep=\" \")\n",
    "\n",
    "    inds = df_paths.inindex[df_paths.name == 'unfam_vids']\n",
    "    motion_fpaths = [ \"%s/mc/func_run%02i_dfile.1D\" % (funcdir, ind) for ind in inds ]\n",
    "\n",
    "    from sklearn.preprocessing import scale\n",
    "    motion_mats = []\n",
    "    for fpath in motion_fpaths:\n",
    "        x = np.loadtxt(fpath)\n",
    "        x = scale(x, with_std=False, with_mean=True)\n",
    "        motion_mats.append(x)\n",
    "    motion_mat = np.vstack(motion_mats)\n",
    "    \n",
    "    return motion_mat"
   ]
  },
  {
   "cell_type": "code",
   "execution_count": 16,
   "metadata": {
    "collapsed": false
   },
   "outputs": [],
   "source": [
    "def am_activity(runs, onsets, df_mat):\n",
    "    uruns = np.unique(runs)\n",
    "    \n",
    "    nruns = uruns.shape[0]\n",
    "    afni_mats = []\n",
    "    \n",
    "    for ci in range(df_mat.shape[1]):\n",
    "        afni_mat = []\n",
    "        for ri in range(nruns):\n",
    "            run_inds = runs == uruns[ri]\n",
    "            n        = np.sum(run_inds)\n",
    "            \n",
    "            ovecs= onsets[run_inds].astype('float32').round(4)\n",
    "            dvecs= df_mat[run_inds,ci]\n",
    "            row = [ '%.5f*%f' % (ovecs[i],dvecs[i]) for i in range(n) ]\n",
    "            row = \" \".join(row)\n",
    "            \n",
    "            afni_mat.append(row)\n",
    "        afni_mats.append(np.array(afni_mat))\n",
    "    \n",
    "    return afni_mats"
   ]
  },
  {
   "cell_type": "code",
   "execution_count": 18,
   "metadata": {
    "collapsed": false
   },
   "outputs": [
    {
     "name": "stdout",
     "output_type": "stream",
     "text": [
      "sub01\n",
      "/data1/famface01/command/misc/face_representations/300_task_activity/100_face_deviations_unfam/timings/sub01\n",
      "sub02\n",
      "/data1/famface01/command/misc/face_representations/300_task_activity/100_face_deviations_unfam/timings/sub02\n",
      "sub03\n",
      "/data1/famface01/command/misc/face_representations/300_task_activity/100_face_deviations_unfam/timings/sub03\n",
      "sub04\n",
      "/data1/famface01/command/misc/face_representations/300_task_activity/100_face_deviations_unfam/timings/sub04\n",
      "sub05\n",
      "/data1/famface01/command/misc/face_representations/300_task_activity/100_face_deviations_unfam/timings/sub05\n",
      "sub06\n",
      "/data1/famface01/command/misc/face_representations/300_task_activity/100_face_deviations_unfam/timings/sub06\n"
     ]
    }
   ],
   "source": [
    "# Skip the first subject...for now\n",
    "for si in range(6):\n",
    "    subj = \"sub%02i\" % (si+1)\n",
    "    print(subj)\n",
    "    \n",
    "    # Load the R data\n",
    "    infile = \"/data1/famface01/analysis/encoding/ShapeAnalysis/data/roi_n_more_%s.rda\" % subj\n",
    "    r.load(infile)\n",
    "    \n",
    "    # Variables\n",
    "    onsets     = np.array(r.dat.rx2('basics').rx2('timing').rx2('onset'))\n",
    "    questions  = np.array(r['as.character'](r.dat.rx2('basics').rx2('timing').rx2('question')))\n",
    "    runs       = np.array(r.dat.rx2('basics').rx2('timing').rx2('run'))\n",
    "    uruns      = np.unique(runs)\n",
    "    timing     = pandas2ri.ri2py(r.dat.rx2('basics').rx2('timing'))\n",
    "    \n",
    "    # Get data\n",
    "    dat_cols, dat = load_dat(timing)\n",
    "        \n",
    "    \n",
    "    ###\n",
    "    # ACTIVITY\n",
    "    ###\n",
    "    \n",
    "    # face\n",
    "    afni_facemat = face_activity(runs, onsets)\n",
    "    \n",
    "    # questions\n",
    "    q_regressor  = (questions != 'none') * 1\n",
    "    afni_qmat    = question_activity(runs, onsets, q_regressor)\n",
    "    \n",
    "    # motion\n",
    "    motion_mat   = motion_covars(subj)\n",
    "    \n",
    "    # pose/shape/etc\n",
    "    shape_dat    = am_activity(runs, onsets, dat)\n",
    "    \n",
    "    \n",
    "    ###\n",
    "    # SAVE\n",
    "    ###\n",
    "    \n",
    "    base = \"/data1/famface01/command/misc/face_representations\"\n",
    "    outbase = \"%s/300_task_activity/100_face_deviations_unfam/timings\" % base\n",
    "    outdir = \"%s/%s\" % (outbase, subj)\n",
    "    print outdir\n",
    "    if not os.path.exists(outdir):\n",
    "        os.mkdir(outdir)\n",
    "    \n",
    "    # Faces\n",
    "    ofname = '%s/stim_faces.txt' % outdir\n",
    "    np.savetxt(ofname, afni_facemat, fmt='%s')\n",
    "\n",
    "    # Measures\n",
    "    for i,amat in enumerate(shape_dat):\n",
    "        cname = dat_cols[i]\n",
    "        ofname = '%s/stimam_%s.txt' % (outdir, cname)\n",
    "        np.savetxt(ofname, amat, fmt='%s')\n",
    "    \n",
    "    # Questions\n",
    "    ofname = '%s/stim_questions.txt' % outdir\n",
    "    np.savetxt(ofname, afni_qmat, fmt='%s')\n",
    "\n",
    "    # MOTION\n",
    "    ofname = '%s/motion.1D' % outdir\n",
    "    np.savetxt(ofname, motion_mat, fmt='%f')"
   ]
  },
  {
   "cell_type": "code",
   "execution_count": 19,
   "metadata": {
    "collapsed": false
   },
   "outputs": [
    {
     "data": {
      "text/plain": [
       "(Index([u'scale', u'pose_scores', u'pose_scores.1', u'pose_scores.2',\n",
       "        u'pose_scores.3', u'pose_mse', u'mouth_scores', u'mouth_scores.1',\n",
       "        u'asym', u'mean_face', u'pca_texture', u'rel_scale', u'rel_pose_scores',\n",
       "        u'rel_pose_scores.1', u'rel_pose_scores.2', u'rel_pose_scores.3',\n",
       "        u'rel_pose_mse', u'rel_mouth_scores', u'rel_mouth_scores.1',\n",
       "        u'rel_mean_fds'],\n",
       "       dtype='object'),\n",
       " array([[  0.47655191,   2.10781816, -14.15279452, ...,   0.62843254,\n",
       "           0.39202561,   0.71275897],\n",
       "        [ -0.40090932, -12.00620146, -22.81114445, ...,  -2.3868623 ,\n",
       "           1.97797233,  -0.74265268],\n",
       "        [  0.12168128,  -3.72586358,  -4.46122053, ...,  -1.2180728 ,\n",
       "           0.64683892,   0.26654434],\n",
       "        ..., \n",
       "        [ -0.52547395,  -1.33843328,  -8.09600303, ...,   2.74545662,\n",
       "          -1.45506116,  -0.35229755],\n",
       "        [  0.23161384,   7.11699951, -14.48553684, ...,  -1.86815063,\n",
       "           0.18697416,   0.18607995],\n",
       "        [ -0.67150856,  -9.45380293,  -2.63187388, ...,   1.26827648,\n",
       "          -0.64407828,   0.2859074 ]]))"
      ]
     },
     "execution_count": 19,
     "metadata": {},
     "output_type": "execute_result"
    }
   ],
   "source": [
    "load_dat(timing)"
   ]
  },
  {
   "cell_type": "code",
   "execution_count": null,
   "metadata": {
    "collapsed": true
   },
   "outputs": [],
   "source": []
  }
 ],
 "metadata": {
  "kernelspec": {
   "display_name": "Python 2",
   "language": "python",
   "name": "python2"
  },
  "language_info": {
   "codemirror_mode": {
    "name": "ipython",
    "version": 2
   },
   "file_extension": ".py",
   "mimetype": "text/x-python",
   "name": "python",
   "nbconvert_exporter": "python",
   "pygments_lexer": "ipython2",
   "version": "2.7.12"
  }
 },
 "nbformat": 4,
 "nbformat_minor": 0
}
