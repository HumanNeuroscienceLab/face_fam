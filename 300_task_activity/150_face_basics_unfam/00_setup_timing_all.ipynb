{
 "cells": [
  {
   "cell_type": "markdown",
   "metadata": {},
   "source": [
    "Please get the raw, predicted, and residual features from `120_features` folder.\n",
    "\n",
    "This will save demographics and trait measures. The demo and trait measures will be run in separate analyses.\n",
    "\n",
    "Here, we get the raw/pred/resids as well as the probabilistic values for gender."
   ]
  },
  {
   "cell_type": "code",
   "execution_count": 2,
   "metadata": {
    "collapsed": false
   },
   "outputs": [],
   "source": [
    "import os\n",
    "import pandas as pd\n",
    "import numpy as np\n",
    "import readline\n",
    "import rpy2\n",
    "import rpy2.robjects as robjects\n",
    "r = robjects.r\n",
    "\n",
    "import rpy2.robjects.numpy2ri\n",
    "rpy2.robjects.numpy2ri.activate()\n",
    "\n",
    "from rpy2.robjects import pandas2ri\n",
    "pandas2ri.activate()\n",
    "\n",
    "from sklearn.preprocessing import scale"
   ]
  },
  {
   "cell_type": "markdown",
   "metadata": {},
   "source": [
    "# Run"
   ]
  },
  {
   "cell_type": "code",
   "execution_count": 22,
   "metadata": {
    "collapsed": true
   },
   "outputs": [],
   "source": [
    "# We also remove the effect of gender from makeup\n",
    "def load_probs_dat(timing, to_center=True):\n",
    "    df = pd.read_csv(\"../../120_features/demo+traits_raw+pred+resids.csv\")\n",
    "    feat_vnames = df.ix[:,0]\n",
    "    \n",
    "    # We want to reorder the dataframe above based on the timing info\n",
    "    inds   = [ (x == feat_vnames).nonzero()[0][0] for x in timing.video ]\n",
    "    #print( np.all(feat_vnames[inds] == timing.video) )\n",
    "    df = df.ix[inds,1:]\n",
    "    \n",
    "    # Remove effect of gender from probs\n",
    "    resids = r.lm('gender_probs ~ gender_raw', data=df).rx2('residuals')\n",
    "    df['gender_rprobs'] = resids\n",
    "    \n",
    "    # Make gender raw to -5 to 0.5 to get difference inherent in this thing\n",
    "    df['gender_diff'] = df['gender_raw'] - 0.5\n",
    "    \n",
    "    # Select the data that want\n",
    "    df = df.ix[:,[\"gender_diff\", \"gender_rprobs\"]]\n",
    "    \n",
    "    # Center the probability values\n",
    "    df[\"gender_rprobs\"] = scale(df.gender_rprobs, with_mean=True, with_std=False)\n",
    "    \n",
    "    # Extract\n",
    "    df_cols = df.columns\n",
    "    df_dat  = df.as_matrix()\n",
    "    \n",
    "    return (df_cols, df_dat)\n",
    "    \n",
    "def load_dat(timing, to_center=True):\n",
    "    df = pd.read_csv(\"../../120_features/demo+traits_raw+pred+resids.csv\")\n",
    "    feat_vnames = df.ix[:,0]\n",
    "    \n",
    "    # We want to reorder the dataframe above based on the timing info\n",
    "    inds   = [ (x == feat_vnames).nonzero()[0][0] for x in timing.video ]\n",
    "    #print( np.all(feat_vnames[inds] == timing.video) )\n",
    "    \n",
    "    # Extract\n",
    "    df_cols = df.columns[1:]\n",
    "    df_dat  = df.ix[inds,1:]\n",
    "    \n",
    "    # Remove effect of gender from makeup\n",
    "    resids = r.lm('makeup_raw ~ gender_raw', data=df_dat).rx2('residuals')\n",
    "    df_dat.makeup_raw = resids\n",
    "    resids = r.lm('makeup_pred ~ gender_pred', data=df_dat).rx2('residuals')\n",
    "    df_dat.makeup_pred = resids\n",
    "    resids = r.lm('makeup_resid ~ gender_resid', data=df_dat).rx2('residuals')\n",
    "    df_dat.makeup_resid = resids\n",
    "    \n",
    "    # Make matrix\n",
    "    df_dat = df_dat.as_matrix()\n",
    "    \n",
    "    # Center the none binary values\n",
    "    cinds = np.array([ x in ['glasses_resid', 'glasses_probs', 'glasses_residprobs', 'gender_resid', 'gender_probs', 'gender_residprobs'] for x in df_cols ])\n",
    "    cinds = range(0,21) + cinds.nonzero()[0].tolist()\n",
    "    df_dat[:,cinds] = scale(df_dat[:,cinds], with_mean=True, with_std=False)\n",
    "    \n",
    "    return (df_cols, df_dat)"
   ]
  },
  {
   "cell_type": "code",
   "execution_count": 24,
   "metadata": {
    "collapsed": true
   },
   "outputs": [],
   "source": [
    "def face_activity(runs, onsets):\n",
    "    uruns = np.unique(runs)\n",
    "    nruns = uruns.shape[0]\n",
    "    afni_facemat = []\n",
    "\n",
    "    for ri in range(nruns):\n",
    "        run_inds = runs == uruns[ri]\n",
    "        n = np.sum(run_inds)\n",
    "\n",
    "        ovec = onsets[run_inds].astype('float32').round(4)\n",
    "        row = [ '%.5f' % ovec[i] for i in range(n) ]\n",
    "        row = \" \".join(row)\n",
    "\n",
    "        afni_facemat.append(row)\n",
    "\n",
    "    return np.array(afni_facemat)\n",
    "\n",
    "def question_activity(runs, onsets, q_regressor):\n",
    "    uruns = np.unique(runs)\n",
    "    \n",
    "    afni_qmat = []\n",
    "    nruns = uruns.shape[0]\n",
    "    \n",
    "    for ri in range(nruns):\n",
    "        run_inds = runs == uruns[ri]\n",
    "        n = np.sum(run_inds)\n",
    "        \n",
    "        qvec = q_regressor[run_inds]\n",
    "        ovec = onsets[run_inds].astype('float32').round(4)\n",
    "        row  = np.array([ '%.5f' % ovec[i] for i,touse in enumerate(qvec) if touse == 1 ])\n",
    "        if len(row) == 0:\n",
    "            row = '*'\n",
    "        else:\n",
    "            row = \" \".join(row)\n",
    "\n",
    "        afni_qmat.append(row)\n",
    "    \n",
    "    return np.array(afni_qmat)\n",
    "\n",
    "def motion_covars(subj):\n",
    "    funcdir = \"/data1/famface01/analysis/preprocessed/%s/func\" % subj\n",
    "    df_paths = pd.read_table(\"%s/df_paths.txt\" % funcdir, sep=\" \")\n",
    "\n",
    "    inds = df_paths.inindex[df_paths.name == 'unfam_vids']\n",
    "    motion_fpaths = [ \"%s/mc/func_run%02i_dfile.1D\" % (funcdir, ind) for ind in inds ]\n",
    "\n",
    "    from sklearn.preprocessing import scale\n",
    "    motion_mats = []\n",
    "    for fpath in motion_fpaths:\n",
    "        x = np.loadtxt(fpath)\n",
    "        x = scale(x, with_std=False, with_mean=True)\n",
    "        motion_mats.append(x)\n",
    "    motion_mat = np.vstack(motion_mats)\n",
    "    \n",
    "    return motion_mat"
   ]
  },
  {
   "cell_type": "code",
   "execution_count": 25,
   "metadata": {
    "collapsed": false
   },
   "outputs": [],
   "source": [
    "def am_activity(runs, onsets, df_mat):\n",
    "    uruns = np.unique(runs)\n",
    "    \n",
    "    nruns = uruns.shape[0]\n",
    "    afni_mats = []\n",
    "    \n",
    "    for ci in range(df_mat.shape[1]):\n",
    "        afni_mat = []\n",
    "        for ri in range(nruns):\n",
    "            run_inds = runs == uruns[ri]\n",
    "            n        = np.sum(run_inds)\n",
    "            \n",
    "            ovecs= onsets[run_inds].astype('float32').round(4)\n",
    "            dvecs= df_mat[run_inds,ci]\n",
    "            row = [ '%.5f*%f' % (ovecs[i],dvecs[i]) for i in range(n) ]\n",
    "            row = \" \".join(row)\n",
    "            \n",
    "            afni_mat.append(row)\n",
    "        afni_mats.append(np.array(afni_mat))\n",
    "    \n",
    "    return afni_mats"
   ]
  },
  {
   "cell_type": "code",
   "execution_count": 103,
   "metadata": {
    "collapsed": false
   },
   "outputs": [
    {
     "name": "stdout",
     "output_type": "stream",
     "text": [
      "sub01\n",
      "/data1/famface01/command/misc/face_representations/300_task_activity/150_face_basics_unfam/timings/sub01\n",
      "sub02\n",
      "/data1/famface01/command/misc/face_representations/300_task_activity/150_face_basics_unfam/timings/sub02\n",
      "sub03\n",
      "/data1/famface01/command/misc/face_representations/300_task_activity/150_face_basics_unfam/timings/sub03\n",
      "sub04\n",
      "/data1/famface01/command/misc/face_representations/300_task_activity/150_face_basics_unfam/timings/sub04\n",
      "sub05\n",
      "/data1/famface01/command/misc/face_representations/300_task_activity/150_face_basics_unfam/timings/sub05\n",
      "sub06\n",
      "/data1/famface01/command/misc/face_representations/300_task_activity/150_face_basics_unfam/timings/sub06\n"
     ]
    }
   ],
   "source": [
    "# Skip the first subject...for now\n",
    "for si in range(6):\n",
    "    subj = \"sub%02i\" % (si+1)\n",
    "    print(subj)\n",
    "    \n",
    "    # Load the R data\n",
    "    infile = \"/data1/famface01/analysis/encoding/ShapeAnalysis/data/roi_n_more_%s.rda\" % subj\n",
    "    r.load(infile)\n",
    "    \n",
    "    # Variables\n",
    "    onsets     = np.array(r.dat.rx2('basics').rx2('timing').rx2('onset'))\n",
    "    questions  = np.array(r['as.character'](r.dat.rx2('basics').rx2('timing').rx2('question')))\n",
    "    runs       = np.array(r.dat.rx2('basics').rx2('timing').rx2('run'))\n",
    "    uruns      = np.unique(runs)\n",
    "    timing     = pandas2ri.ri2py(r.dat.rx2('basics').rx2('timing'))\n",
    "    \n",
    "    # Get data\n",
    "    dat_cols, dat = load_dat(timing)\n",
    "        \n",
    "    \n",
    "    ###\n",
    "    # ACTIVITY\n",
    "    ###\n",
    "    \n",
    "    # face\n",
    "    afni_facemat = face_activity(runs, onsets)\n",
    "    \n",
    "    # questions\n",
    "    q_regressor  = (questions != 'none') * 1\n",
    "    afni_qmat    = question_activity(runs, onsets, q_regressor)\n",
    "    \n",
    "    # motion\n",
    "    motion_mat   = motion_covars(subj)\n",
    "    \n",
    "    # raw values\n",
    "    raw_inds     = np.array(r.grep('raw', dat_cols))-1\n",
    "    raw_cols     = dat_cols[raw_inds]\n",
    "    raw_dat      = dat[:,raw_inds]\n",
    "    raw_afni     = am_activity(runs, onsets, raw_dat)\n",
    "    \n",
    "    # predicted\n",
    "    pred_inds    = np.array(r.grep('pred$', dat_cols))-1\n",
    "    pred_cols    = dat_cols[pred_inds]\n",
    "    pred_dat     = dat[:,pred_inds]\n",
    "    pred_afni    = am_activity(runs, onsets, pred_dat)\n",
    "    \n",
    "    # residuals\n",
    "    resid_inds   = np.array(r.grep('resid$', dat_cols))-1\n",
    "    resid_cols   = dat_cols[resid_inds]\n",
    "    resid_dat    = dat[:,resid_inds]\n",
    "    resid_afni   = am_activity(runs, onsets, resid_dat)\n",
    "    \n",
    "    # probs\n",
    "    prob_inds    = np.array(r.grep('probs', dat_cols))-1\n",
    "    prob_cols    = dat_cols[prob_inds]\n",
    "    prob_dat     = dat[:,prob_inds]\n",
    "    prob_afni    = am_activity(runs, onsets, prob_dat)\n",
    "    \n",
    "    \n",
    "    ###\n",
    "    # SAVE\n",
    "    ###\n",
    "\n",
    "    base = \"/data1/famface01/command/misc/face_representations\"\n",
    "    outbase = \"%s/300_task_activity/150_face_basics_unfam/timings\" % base\n",
    "    outdir = \"%s/%s\" % (outbase, subj)\n",
    "    print outdir\n",
    "    if not os.path.exists(outdir):\n",
    "        os.mkdir(outdir)\n",
    "\n",
    "    # Faces\n",
    "    ofname = '%s/stim_faces.txt' % outdir\n",
    "    np.savetxt(ofname, afni_facemat, fmt='%s')\n",
    "\n",
    "    # Raw\n",
    "    for i,amat in enumerate(raw_afni):\n",
    "        cname = raw_cols[i]\n",
    "        ofname = '%s/stimam_%s.txt' % (outdir, cname)\n",
    "        np.savetxt(ofname, amat, fmt='%s')\n",
    "    \n",
    "    # Pred\n",
    "    for i,amat in enumerate(pred_afni):\n",
    "        cname = pred_cols[i]\n",
    "        ofname = '%s/stimam_%s.txt' % (outdir, cname)\n",
    "        np.savetxt(ofname, amat, fmt='%s')\n",
    "    \n",
    "    # Resid\n",
    "    for i,amat in enumerate(resid_afni):\n",
    "        cname = resid_cols[i]\n",
    "        ofname = '%s/stimam_%s.txt' % (outdir, cname)\n",
    "        np.savetxt(ofname, amat, fmt='%s')\n",
    "    \n",
    "    # Prob\n",
    "    for i,amat in enumerate(prob_afni):\n",
    "        cname = prob_cols[i]\n",
    "        ofname = '%s/stimam_%s.txt' % (outdir, cname)\n",
    "        np.savetxt(ofname, amat, fmt='%s')\n",
    "    \n",
    "    # Questions\n",
    "    ofname = '%s/stim_questions.txt' % outdir\n",
    "    np.savetxt(ofname, afni_qmat, fmt='%s')\n",
    "\n",
    "    # MOTION\n",
    "    ofname = '%s/motion.1D' % outdir\n",
    "    np.savetxt(ofname, motion_mat, fmt='%f')"
   ]
  },
  {
   "cell_type": "code",
   "execution_count": 107,
   "metadata": {
    "collapsed": false,
    "scrolled": false
   },
   "outputs": [
    {
     "name": "stdout",
     "output_type": "stream",
     "text": [
      "                   age_raw age_pred age_resid makeup_raw makeup_pred\n",
      "age_raw               1.00     0.71      0.70       0.13       -0.01\n",
      "age_pred              0.71     1.00      0.00       0.00       -0.02\n",
      "age_resid             0.70     0.00      1.00       0.18        0.01\n",
      "makeup_raw            0.13     0.00      0.18       1.00        0.40\n",
      "makeup_pred          -0.01    -0.02      0.01       0.40        1.00\n",
      "makeup_resid          0.13    -0.02      0.20       0.68       -0.27\n",
      "trait01_raw           0.12     0.20     -0.03      -0.16       -0.10\n",
      "trait01_pred          0.20     0.24      0.04      -0.09       -0.14\n",
      "trait01_resid        -0.01     0.06     -0.07      -0.14       -0.01\n",
      "trait02_raw           0.37     0.25      0.27      -0.07       -0.14\n",
      "trait02_pred          0.34     0.46      0.03      -0.14       -0.15\n",
      "trait02_resid         0.27     0.10      0.28      -0.03       -0.10\n",
      "trait03_raw          -0.31    -0.24     -0.20      -0.32       -0.20\n",
      "trait03_pred         -0.29    -0.38     -0.02      -0.20       -0.18\n",
      "trait03_resid        -0.22    -0.10     -0.21      -0.26       -0.14\n",
      "trait04_raw          -0.01    -0.04      0.03       0.11        0.07\n",
      "trait04_pred          0.01     0.00      0.01       0.26        0.36\n",
      "trait04_resid        -0.01    -0.04      0.03       0.09        0.03\n",
      "trait05_raw          -0.33    -0.32     -0.14       0.20        0.18\n",
      "trait05_pred         -0.36    -0.47     -0.03       0.25        0.37\n",
      "trait05_resid        -0.17    -0.10     -0.15       0.09       -0.01\n",
      "glasses_raw           0.14     0.11      0.09      -0.09       -0.08\n",
      "glasses_pred          0.12     0.10      0.07      -0.08       -0.08\n",
      "glasses_resid         0.09     0.05      0.08      -0.04       -0.04\n",
      "glasses_probs        -0.14    -0.12     -0.07       0.10        0.10\n",
      "glasses_residprobs    0.12     0.07      0.11      -0.02        0.01\n",
      "gender_raw            0.21     0.28      0.01       0.00       -0.16\n",
      "gender_pred           0.22     0.30      0.01      -0.09        0.00\n",
      "gender_resid          0.02     0.03     -0.01       0.15       -0.35\n",
      "gender_probs         -0.22    -0.31      0.00       0.14        0.19\n",
      "gender_residprobs     0.07     0.08      0.02       0.20       -0.15\n",
      "                   makeup_resid trait01_raw trait01_pred trait01_resid\n",
      "age_raw                    0.13        0.12         0.20         -0.01\n",
      "age_pred                  -0.02        0.20         0.24          0.06\n",
      "age_resid                  0.20       -0.03         0.04         -0.07\n",
      "makeup_raw                 0.68       -0.16        -0.09         -0.14\n",
      "makeup_pred               -0.27       -0.10        -0.14         -0.01\n",
      "makeup_resid               1.00       -0.13         0.01         -0.18\n",
      "trait01_raw               -0.13        1.00         0.62          0.78\n",
      "trait01_pred               0.01        0.62         1.00          0.00\n",
      "trait01_resid             -0.18        0.78         0.00          1.00\n",
      "trait02_raw                0.07        0.03         0.15         -0.08\n",
      "trait02_pred              -0.03        0.19         0.25          0.04\n",
      "trait02_resid              0.08       -0.03         0.07         -0.10\n",
      "trait03_raw               -0.09        0.00        -0.17          0.14\n",
      "trait03_pred              -0.03       -0.19        -0.20         -0.08\n",
      "trait03_resid             -0.09        0.08        -0.10          0.19\n",
      "trait04_raw                0.06        0.00        -0.02          0.02\n",
      "trait04_pred              -0.01       -0.10        -0.11         -0.04\n",
      "trait04_resid              0.06        0.01        -0.01          0.02\n",
      "trait05_raw                0.11       -0.15        -0.18         -0.05\n",
      "trait05_pred               0.02       -0.20        -0.27         -0.05\n",
      "trait05_resid              0.12       -0.05        -0.05         -0.03\n",
      "glasses_raw               -0.03        0.13         0.19          0.02\n",
      "glasses_pred               0.00        0.11         0.17          0.00\n",
      "glasses_resid             -0.03        0.08         0.09          0.03\n",
      "glasses_probs              0.01       -0.12        -0.19          0.00\n",
      "glasses_residprobs        -0.03        0.04         0.07          0.00\n",
      "gender_raw                -0.11        0.25         0.30          0.08\n",
      "gender_pred               -0.12        0.26         0.34          0.06\n",
      "gender_resid               0.00        0.05         0.01          0.06\n",
      "gender_probs               0.07       -0.27        -0.36         -0.06\n",
      "gender_residprobs          0.04        0.04         0.02          0.04\n",
      "                   trait02_raw trait02_pred trait02_resid trait03_raw\n",
      "age_raw                   0.37         0.34          0.27       -0.31\n",
      "age_pred                  0.25         0.46          0.10       -0.24\n",
      "age_resid                 0.27         0.03          0.28       -0.20\n",
      "makeup_raw               -0.07        -0.14         -0.03       -0.32\n",
      "makeup_pred              -0.14        -0.15         -0.10       -0.20\n",
      "makeup_resid              0.07        -0.03          0.08       -0.09\n",
      "trait01_raw               0.03         0.19         -0.03        0.00\n",
      "trait01_pred              0.15         0.25          0.07       -0.17\n",
      "trait01_resid            -0.08         0.04         -0.10        0.14\n",
      "trait02_raw               1.00         0.33          0.94        0.03\n",
      "trait02_pred              0.33         1.00          0.00       -0.01\n",
      "trait02_resid             0.94         0.00          1.00        0.04\n",
      "trait03_raw               0.03        -0.01          0.04        1.00\n",
      "trait03_pred              0.01         0.01          0.01        0.39\n",
      "trait03_resid             0.03        -0.01          0.04        0.92\n",
      "trait04_raw              -0.02        -0.07          0.01       -0.02\n",
      "trait04_pred             -0.09        -0.16         -0.04       -0.12\n",
      "trait04_resid            -0.01        -0.06          0.01       -0.01\n",
      "trait05_raw               0.01        -0.23          0.10        0.05\n",
      "trait05_pred             -0.22        -0.29         -0.14        0.03\n",
      "trait05_resid             0.15        -0.10          0.19        0.04\n",
      "glasses_raw               0.27         0.26          0.20        0.08\n",
      "glasses_pred              0.23         0.29          0.14        0.09\n",
      "glasses_resid             0.15         0.07          0.13        0.01\n",
      "glasses_probs            -0.23        -0.31         -0.14       -0.08\n",
      "glasses_residprobs        0.13         0.03          0.13        0.00\n",
      "gender_raw                0.04         0.15         -0.01       -0.24\n",
      "gender_pred               0.07         0.17          0.02       -0.18\n",
      "gender_resid             -0.05         0.01         -0.05       -0.16\n",
      "gender_probs             -0.08        -0.17         -0.03        0.16\n",
      "gender_residprobs        -0.03         0.04         -0.05       -0.16\n",
      "                   trait03_pred trait03_resid trait04_raw trait04_pred\n",
      "age_raw                   -0.29         -0.22       -0.01         0.01\n",
      "age_pred                  -0.38         -0.10       -0.04         0.00\n",
      "age_resid                 -0.02         -0.21        0.03         0.01\n",
      "makeup_raw                -0.20         -0.26        0.11         0.26\n",
      "makeup_pred               -0.18         -0.14        0.07         0.36\n",
      "makeup_resid              -0.03         -0.09        0.06        -0.01\n",
      "trait01_raw               -0.19          0.08        0.00        -0.10\n",
      "trait01_pred              -0.20         -0.10       -0.02        -0.11\n",
      "trait01_resid             -0.08          0.19        0.02        -0.04\n",
      "trait02_raw                0.01          0.03       -0.02        -0.09\n",
      "trait02_pred               0.01         -0.01       -0.07        -0.16\n",
      "trait02_resid              0.01          0.04        0.01        -0.04\n",
      "trait03_raw                0.39          0.92       -0.02        -0.12\n",
      "trait03_pred               1.00          0.00       -0.02        -0.17\n",
      "trait03_resid              0.00          1.00       -0.01        -0.06\n",
      "trait04_raw               -0.02         -0.01        1.00         0.09\n",
      "trait04_pred              -0.17         -0.06        0.09         1.00\n",
      "trait04_resid             -0.01         -0.01        1.00         0.00\n",
      "trait05_raw                0.04          0.03        0.06         0.23\n",
      "trait05_pred               0.07          0.01        0.09         0.39\n",
      "trait05_resid              0.01          0.04        0.02         0.04\n",
      "glasses_raw                0.03          0.08       -0.02        -0.09\n",
      "glasses_pred               0.04          0.08        0.00        -0.08\n",
      "glasses_resid             -0.02          0.02       -0.04        -0.05\n",
      "glasses_probs             -0.04         -0.07        0.00         0.09\n",
      "glasses_residprobs        -0.01          0.01       -0.05         0.02\n",
      "gender_raw                -0.19         -0.18       -0.09        -0.24\n",
      "gender_pred               -0.19         -0.11       -0.11        -0.26\n",
      "gender_resid              -0.04         -0.16        0.02        -0.03\n",
      "gender_probs               0.20          0.09        0.11         0.26\n",
      "gender_residprobs         -0.06         -0.15        0.01        -0.01\n",
      "                   trait04_resid trait05_raw trait05_pred trait05_resid\n",
      "age_raw                    -0.01       -0.33        -0.36         -0.17\n",
      "age_pred                   -0.04       -0.32        -0.47         -0.10\n",
      "age_resid                   0.03       -0.14        -0.03         -0.15\n",
      "makeup_raw                  0.09        0.20         0.25          0.09\n",
      "makeup_pred                 0.03        0.18         0.37         -0.01\n",
      "makeup_resid                0.06        0.11         0.02          0.12\n",
      "trait01_raw                 0.01       -0.15        -0.20         -0.05\n",
      "trait01_pred               -0.01       -0.18        -0.27         -0.05\n",
      "trait01_resid               0.02       -0.05        -0.05         -0.03\n",
      "trait02_raw                -0.01        0.01        -0.22          0.15\n",
      "trait02_pred               -0.06       -0.23        -0.29         -0.10\n",
      "trait02_resid               0.01        0.10        -0.14          0.19\n",
      "trait03_raw                -0.01        0.05         0.03          0.04\n",
      "trait03_pred               -0.01        0.04         0.07          0.01\n",
      "trait03_resid              -0.01        0.03         0.01          0.04\n",
      "trait04_raw                 1.00        0.06         0.09          0.02\n",
      "trait04_pred                0.00        0.23         0.39          0.04\n",
      "trait04_resid               1.00        0.04         0.06          0.02\n",
      "trait05_raw                 0.04        1.00         0.51          0.86\n",
      "trait05_pred                0.06        0.51         1.00          0.00\n",
      "trait05_resid               0.02        0.86         0.00          1.00\n",
      "glasses_raw                -0.01       -0.19        -0.27         -0.06\n",
      "glasses_pred                0.01       -0.16        -0.26         -0.03\n",
      "glasses_resid              -0.03       -0.10        -0.10         -0.06\n",
      "glasses_probs              -0.01        0.17         0.29          0.03\n",
      "glasses_residprobs         -0.05       -0.06        -0.06         -0.03\n",
      "gender_raw                 -0.07       -0.37        -0.51         -0.13\n",
      "gender_pred                -0.09       -0.38        -0.53         -0.13\n",
      "gender_resid                0.02       -0.08        -0.10         -0.04\n",
      "gender_probs                0.09        0.38         0.55          0.12\n",
      "gender_residprobs           0.01       -0.07        -0.09         -0.03\n",
      "                   glasses_raw glasses_pred glasses_resid glasses_probs\n",
      "age_raw                   0.14         0.12          0.09         -0.14\n",
      "age_pred                  0.11         0.10          0.05         -0.12\n",
      "age_resid                 0.09         0.07          0.08         -0.07\n",
      "makeup_raw               -0.09        -0.08         -0.04          0.10\n",
      "makeup_pred              -0.08        -0.08         -0.04          0.10\n",
      "makeup_resid             -0.03         0.00         -0.03          0.01\n",
      "trait01_raw               0.13         0.11          0.08         -0.12\n",
      "trait01_pred              0.19         0.17          0.09         -0.19\n",
      "trait01_resid             0.02         0.00          0.03          0.00\n",
      "trait02_raw               0.27         0.23          0.15         -0.23\n",
      "trait02_pred              0.26         0.29          0.07         -0.31\n",
      "trait02_resid             0.20         0.14          0.13         -0.14\n",
      "trait03_raw               0.08         0.09          0.01         -0.08\n",
      "trait03_pred              0.03         0.04         -0.02         -0.04\n",
      "trait03_resid             0.08         0.08          0.02         -0.07\n",
      "trait04_raw              -0.02         0.00         -0.04          0.00\n",
      "trait04_pred             -0.09        -0.08         -0.05          0.09\n",
      "trait04_resid            -0.01         0.01         -0.03         -0.01\n",
      "trait05_raw              -0.19        -0.16         -0.10          0.17\n",
      "trait05_pred             -0.27        -0.26         -0.10          0.29\n",
      "trait05_resid            -0.06        -0.03         -0.06          0.03\n",
      "glasses_raw               1.00         0.80          0.57         -0.83\n",
      "glasses_pred              0.80         1.00          0.00         -0.96\n",
      "glasses_resid             0.57         0.00          1.00         -0.11\n",
      "glasses_probs            -0.83        -0.96         -0.11          1.00\n",
      "glasses_residprobs        0.46        -0.01          0.80          0.00\n",
      "gender_raw                0.19         0.15          0.11         -0.18\n",
      "gender_pred               0.23         0.19          0.11         -0.21\n",
      "gender_resid             -0.02        -0.04          0.04          0.02\n",
      "gender_probs             -0.23        -0.19         -0.12          0.21\n",
      "gender_residprobs         0.01         0.00          0.04         -0.01\n",
      "                   glasses_residprobs gender_raw gender_pred gender_resid\n",
      "age_raw                          0.12       0.21        0.22         0.02\n",
      "age_pred                         0.07       0.28        0.30         0.03\n",
      "age_resid                        0.11       0.01        0.01        -0.01\n",
      "makeup_raw                      -0.02       0.00       -0.09         0.15\n",
      "makeup_pred                      0.01      -0.16        0.00        -0.35\n",
      "makeup_resid                    -0.03      -0.11       -0.12         0.00\n",
      "trait01_raw                      0.04       0.25        0.26         0.05\n",
      "trait01_pred                     0.07       0.30        0.34         0.01\n",
      "trait01_resid                    0.00       0.08        0.06         0.06\n",
      "trait02_raw                      0.13       0.04        0.07        -0.05\n",
      "trait02_pred                     0.03       0.15        0.17         0.01\n",
      "trait02_resid                    0.13      -0.01        0.02        -0.05\n",
      "trait03_raw                      0.00      -0.24       -0.18        -0.16\n",
      "trait03_pred                    -0.01      -0.19       -0.19        -0.04\n",
      "trait03_resid                    0.01      -0.18       -0.11        -0.16\n",
      "trait04_raw                     -0.05      -0.09       -0.11         0.02\n",
      "trait04_pred                     0.02      -0.24       -0.26        -0.03\n",
      "trait04_resid                   -0.05      -0.07       -0.09         0.02\n",
      "trait05_raw                     -0.06      -0.37       -0.38        -0.08\n",
      "trait05_pred                    -0.06      -0.51       -0.53        -0.10\n",
      "trait05_resid                   -0.03      -0.13       -0.13        -0.04\n",
      "glasses_raw                      0.46       0.19        0.23        -0.02\n",
      "glasses_pred                    -0.01       0.15        0.19        -0.04\n",
      "glasses_resid                    0.80       0.11        0.11         0.04\n",
      "glasses_probs                    0.00      -0.18       -0.21         0.02\n",
      "glasses_residprobs               1.00       0.08        0.10        -0.01\n",
      "gender_raw                       0.08       1.00        0.89         0.46\n",
      "gender_pred                      0.10       0.89        1.00         0.00\n",
      "gender_resid                    -0.01       0.46        0.00         1.00\n",
      "gender_probs                    -0.10      -0.91       -0.95        -0.13\n",
      "gender_residprobs                0.01       0.37        0.08         0.64\n",
      "                   gender_probs gender_residprobs\n",
      "age_raw                   -0.22              0.07\n",
      "age_pred                  -0.31              0.08\n",
      "age_resid                  0.00              0.02\n",
      "makeup_raw                 0.14              0.20\n",
      "makeup_pred                0.19             -0.15\n",
      "makeup_resid               0.07              0.04\n",
      "trait01_raw               -0.27              0.04\n",
      "trait01_pred              -0.36              0.02\n",
      "trait01_resid             -0.06              0.04\n",
      "trait02_raw               -0.08             -0.03\n",
      "trait02_pred              -0.17              0.04\n",
      "trait02_resid             -0.03             -0.05\n",
      "trait03_raw                0.16             -0.16\n",
      "trait03_pred               0.20             -0.06\n",
      "trait03_resid              0.09             -0.15\n",
      "trait04_raw                0.11              0.01\n",
      "trait04_pred               0.26             -0.01\n",
      "trait04_resid              0.09              0.01\n",
      "trait05_raw                0.38             -0.07\n",
      "trait05_pred               0.55             -0.09\n",
      "trait05_resid              0.12             -0.03\n",
      "glasses_raw               -0.23              0.01\n",
      "glasses_pred              -0.19              0.00\n",
      "glasses_resid             -0.12              0.04\n",
      "glasses_probs              0.21             -0.01\n",
      "glasses_residprobs        -0.10              0.01\n",
      "gender_raw                -0.91              0.37\n",
      "gender_pred               -0.95              0.08\n",
      "gender_resid              -0.13              0.64\n",
      "gender_probs               1.00             -0.11\n",
      "gender_residprobs         -0.11              1.00\n",
      "\n"
     ]
    }
   ],
   "source": [
    "dat_cols, dat = load_dat(timing)\n",
    "df = pd.DataFrame(dat, columns=dat_cols)\n",
    "print(r.round(r.cor(df), 2))"
   ]
  },
  {
   "cell_type": "markdown",
   "metadata": {},
   "source": [
    "### Only Gender Prob"
   ]
  },
  {
   "cell_type": "code",
   "execution_count": 26,
   "metadata": {
    "collapsed": false
   },
   "outputs": [
    {
     "name": "stdout",
     "output_type": "stream",
     "text": [
      "sub01\n",
      "/data1/famface01/command/misc/face_representations/300_task_activity/150_face_basics_unfam/timings/sub01\n",
      "sub02\n",
      "/data1/famface01/command/misc/face_representations/300_task_activity/150_face_basics_unfam/timings/sub02\n",
      "sub03\n",
      "/data1/famface01/command/misc/face_representations/300_task_activity/150_face_basics_unfam/timings/sub03\n",
      "sub04\n",
      "/data1/famface01/command/misc/face_representations/300_task_activity/150_face_basics_unfam/timings/sub04\n",
      "sub05\n",
      "/data1/famface01/command/misc/face_representations/300_task_activity/150_face_basics_unfam/timings/sub05\n",
      "sub06\n",
      "/data1/famface01/command/misc/face_representations/300_task_activity/150_face_basics_unfam/timings/sub06\n"
     ]
    }
   ],
   "source": [
    "# Skip the first subject...for now\n",
    "for si in range(6):\n",
    "    subj = \"sub%02i\" % (si+1)\n",
    "    print(subj)\n",
    "    \n",
    "    # Load the R data\n",
    "    infile = \"/data1/famface01/analysis/encoding/ShapeAnalysis/data/roi_n_more_%s.rda\" % subj\n",
    "    r.load(infile)\n",
    "    \n",
    "    # Variables\n",
    "    onsets     = np.array(r.dat.rx2('basics').rx2('timing').rx2('onset'))\n",
    "    questions  = np.array(r['as.character'](r.dat.rx2('basics').rx2('timing').rx2('question')))\n",
    "    runs       = np.array(r.dat.rx2('basics').rx2('timing').rx2('run'))\n",
    "    uruns      = np.unique(runs)\n",
    "    timing     = pandas2ri.ri2py(r.dat.rx2('basics').rx2('timing'))\n",
    "    \n",
    "    # Get data\n",
    "    dat_cols, dat = load_probs_dat(timing)\n",
    "        \n",
    "    \n",
    "    ###\n",
    "    # ACTIVITY\n",
    "    ###\n",
    "    \n",
    "    # face\n",
    "    afni_facemat = face_activity(runs, onsets)\n",
    "    \n",
    "    # questions\n",
    "    q_regressor  = (questions != 'none') * 1\n",
    "    afni_qmat    = question_activity(runs, onsets, q_regressor)\n",
    "    \n",
    "    # motion\n",
    "    motion_mat   = motion_covars(subj)\n",
    "    \n",
    "    # gender raw and prob\n",
    "    gender_afni     = am_activity(runs, onsets, dat)\n",
    "    \n",
    "    \n",
    "    ###\n",
    "    # SAVE\n",
    "    ###\n",
    "\n",
    "    base = \"/data1/famface01/command/misc/face_representations\"\n",
    "    outbase = \"%s/300_task_activity/150_face_basics_unfam/timings\" % base\n",
    "    outdir = \"%s/%s\" % (outbase, subj)\n",
    "    print outdir\n",
    "    if not os.path.exists(outdir):\n",
    "        os.mkdir(outdir)\n",
    "\n",
    "    ## Faces\n",
    "    #ofname = '%s/stim_faces.txt' % outdir\n",
    "    #np.savetxt(ofname, afni_facemat, fmt='%s')\n",
    "\n",
    "    # Gender\n",
    "    for i,amat in enumerate(gender_afni):\n",
    "        cname = dat_cols[i]\n",
    "        ofname = '%s/stimam_%s.txt' % (outdir, cname)\n",
    "        np.savetxt(ofname, amat, fmt='%s')"
   ]
  },
  {
   "cell_type": "code",
   "execution_count": null,
   "metadata": {
    "collapsed": true
   },
   "outputs": [],
   "source": []
  },
  {
   "cell_type": "markdown",
   "metadata": {},
   "source": [
    "## Gender Prob"
   ]
  },
  {
   "cell_type": "code",
   "execution_count": 11,
   "metadata": {
    "collapsed": false
   },
   "outputs": [
    {
     "name": "stdout",
     "output_type": "stream",
     "text": [
      "[-0.11505164 -0.10899156 -0.00377593  0.11003352 -0.12748018 -0.10127152\n",
      "  0.10832148 -0.0956561   0.09920694  0.03157283]\n"
     ]
    },
    {
     "data": {
      "text/plain": [
       "0    1.009787\n",
       "1    1.010371\n",
       "2   -1.028740\n",
       "3   -1.009689\n",
       "4    1.008692\n",
       "5    1.011165\n",
       "6    1.082699\n",
       "7    1.011780\n",
       "8   -1.010744\n",
       "9    1.039724\n",
       "Name: gender_residprobs, dtype: float64"
      ]
     },
     "execution_count": 11,
     "metadata": {},
     "output_type": "execute_result"
    }
   ],
   "source": [
    "df = pd.read_csv(\"../../120_features/demo+traits_raw+pred+resids.csv\")\n",
    "df.head()\n",
    "\n",
    "retx = r.lm(\"gender_probs ~ gender_raw\", data=df)\n",
    "print np.array(retx.rx2('residuals'))[:10]"
   ]
  },
  {
   "cell_type": "code",
   "execution_count": 14,
   "metadata": {
    "collapsed": false
   },
   "outputs": [
    {
     "name": "stdout",
     "output_type": "stream",
     "text": [
      "sub02\n"
     ]
    }
   ],
   "source": [
    "si = 1\n",
    "\n",
    "subj = \"sub%02i\" % (si+1)\n",
    "print(subj)\n",
    "\n",
    "# Load the R data\n",
    "infile = \"/data1/famface01/analysis/encoding/ShapeAnalysis/data/roi_n_more_%s.rda\" % subj\n",
    "r.load(infile)\n",
    "\n",
    "# Variables\n",
    "onsets     = np.array(r.dat.rx2('basics').rx2('timing').rx2('onset'))\n",
    "questions  = np.array(r['as.character'](r.dat.rx2('basics').rx2('timing').rx2('question')))\n",
    "runs       = np.array(r.dat.rx2('basics').rx2('timing').rx2('run'))\n",
    "uruns      = np.unique(runs)\n",
    "timing     = pandas2ri.ri2py(r.dat.rx2('basics').rx2('timing'))\n",
    "\n",
    "df_cols, df_dat = load_probs_dat(timing)"
   ]
  },
  {
   "cell_type": "code",
   "execution_count": 16,
   "metadata": {
    "collapsed": false
   },
   "outputs": [
    {
     "data": {
      "text/plain": [
       "(1728, 2)"
      ]
     },
     "execution_count": 16,
     "metadata": {},
     "output_type": "execute_result"
    }
   ],
   "source": [
    "df_dat.shape"
   ]
  },
  {
   "cell_type": "markdown",
   "metadata": {},
   "source": [
    "# Example Subject"
   ]
  },
  {
   "cell_type": "code",
   "execution_count": 2,
   "metadata": {
    "collapsed": false
   },
   "outputs": [
    {
     "name": "stdout",
     "output_type": "stream",
     "text": [
      "/data1/famface01/analysis/encoding/ShapeAnalysis/data/roi_n_more_sub03.rda\n",
      "[1] \"run\"         \"onset\"       \"local.onset\" \"duration\"    \"question\"   \n",
      "[6] \"video\"      \n",
      "\n"
     ]
    }
   ],
   "source": [
    "subj = \"sub03\"\n",
    "\n",
    "# Load the R data\n",
    "infile = \"/data1/famface01/analysis/encoding/ShapeAnalysis/data/roi_n_more_%s.rda\" % subj\n",
    "print(infile)\n",
    "r.load(infile)\n",
    "\n",
    "print(r.dat.rx2('basics').rx2('timing').names)"
   ]
  },
  {
   "cell_type": "code",
   "execution_count": 3,
   "metadata": {
    "collapsed": false
   },
   "outputs": [
    {
     "name": "stdout",
     "output_type": "stream",
     "text": [
      "\n",
      "        age  attractive      gender intelligent        none trustworthy \n",
      "         16          16          32          16        1632          16 \n",
      "\n",
      "\n",
      "  1   2   3   4   5   6   7   8   9  10  11  12  13  14  15  16 \n",
      "108 108 108 108 108 108 108 108 108 108 108 108 108 108 108 108 \n",
      "\n"
     ]
    }
   ],
   "source": [
    "onsets     = np.array(r.dat.rx2('basics').rx2('timing').rx2('onset'))\n",
    "questions  = np.array(r['as.character'](r.dat.rx2('basics').rx2('timing').rx2('question')))\n",
    "vids       = np.array(r['as.character'](r.dat.rx2('basics').rx2('timing').rx2('video')))\n",
    "vidlevs    = np.array(r.dat.rx2('basics').rx2('timing').rx2('video').levels)\n",
    "fams       = np.array(r.dat.rx2('basics').rx2('timing').rx2('fam'))\n",
    "runs       = np.array(r.dat.rx2('basics').rx2('timing').rx2('run'))\n",
    "uruns      = np.unique(runs)\n",
    "\n",
    "print(r.table(questions))\n",
    "print(r.table(runs))"
   ]
  },
  {
   "cell_type": "code",
   "execution_count": 23,
   "metadata": {
    "collapsed": false
   },
   "outputs": [
    {
     "data": {
      "text/html": [
       "<div>\n",
       "<table border=\"1\" class=\"dataframe\">\n",
       "  <thead>\n",
       "    <tr style=\"text-align: right;\">\n",
       "      <th></th>\n",
       "      <th>Unnamed: 0</th>\n",
       "      <th>batch</th>\n",
       "      <th>video</th>\n",
       "      <th>age</th>\n",
       "      <th>facial_hair</th>\n",
       "      <th>makeup</th>\n",
       "      <th>gender</th>\n",
       "      <th>race</th>\n",
       "      <th>hair</th>\n",
       "      <th>eye</th>\n",
       "      <th>glasses</th>\n",
       "    </tr>\n",
       "  </thead>\n",
       "  <tbody>\n",
       "    <tr>\n",
       "      <th>0</th>\n",
       "      <td>Aaron_Sorkin</td>\n",
       "      <td>0</td>\n",
       "      <td>Aaron_Sorkin_vid03_clip01_2secs_fr045</td>\n",
       "      <td>3.166667</td>\n",
       "      <td>None</td>\n",
       "      <td>0.750000</td>\n",
       "      <td>Male</td>\n",
       "      <td>White</td>\n",
       "      <td>Brown</td>\n",
       "      <td>Brown</td>\n",
       "      <td>Yes</td>\n",
       "    </tr>\n",
       "    <tr>\n",
       "      <th>1</th>\n",
       "      <td>Abdullah</td>\n",
       "      <td>0</td>\n",
       "      <td>Abdullah_vid02_clip01_2secs_fr039</td>\n",
       "      <td>1.333333</td>\n",
       "      <td>Goatee and moustache</td>\n",
       "      <td>0.083333</td>\n",
       "      <td>Male</td>\n",
       "      <td>Black</td>\n",
       "      <td>Black</td>\n",
       "      <td>Brown</td>\n",
       "      <td>No</td>\n",
       "    </tr>\n",
       "    <tr>\n",
       "      <th>2</th>\n",
       "      <td>Agnes_Bruckner</td>\n",
       "      <td>0</td>\n",
       "      <td>Agnes_Bruckner_vid02_clip05_2secs_fr003</td>\n",
       "      <td>1.916667</td>\n",
       "      <td>None</td>\n",
       "      <td>1.416667</td>\n",
       "      <td>Female</td>\n",
       "      <td>White</td>\n",
       "      <td>Blonde</td>\n",
       "      <td>Brown</td>\n",
       "      <td>No</td>\n",
       "    </tr>\n",
       "    <tr>\n",
       "      <th>3</th>\n",
       "      <td>Abba_Eban</td>\n",
       "      <td>0</td>\n",
       "      <td>Abba_Eban_vid03_clip18_2secs_fr033</td>\n",
       "      <td>5.583333</td>\n",
       "      <td>None</td>\n",
       "      <td>0.416667</td>\n",
       "      <td>Male</td>\n",
       "      <td>White</td>\n",
       "      <td>White</td>\n",
       "      <td>Brown</td>\n",
       "      <td>No</td>\n",
       "    </tr>\n",
       "    <tr>\n",
       "      <th>4</th>\n",
       "      <td>Aisha_Hinds</td>\n",
       "      <td>0</td>\n",
       "      <td>Aisha_Hinds_vid05_clip02_2secs_fr027</td>\n",
       "      <td>2.250000</td>\n",
       "      <td>None</td>\n",
       "      <td>1.750000</td>\n",
       "      <td>Female</td>\n",
       "      <td>Black</td>\n",
       "      <td>Black</td>\n",
       "      <td>Brown</td>\n",
       "      <td>No</td>\n",
       "    </tr>\n",
       "  </tbody>\n",
       "</table>\n",
       "</div>"
      ],
      "text/plain": [
       "       Unnamed: 0  batch                                    video       age  \\\n",
       "0    Aaron_Sorkin      0    Aaron_Sorkin_vid03_clip01_2secs_fr045  3.166667   \n",
       "1        Abdullah      0        Abdullah_vid02_clip01_2secs_fr039  1.333333   \n",
       "2  Agnes_Bruckner      0  Agnes_Bruckner_vid02_clip05_2secs_fr003  1.916667   \n",
       "3       Abba_Eban      0       Abba_Eban_vid03_clip18_2secs_fr033  5.583333   \n",
       "4     Aisha_Hinds      0     Aisha_Hinds_vid05_clip02_2secs_fr027  2.250000   \n",
       "\n",
       "            facial_hair    makeup  gender   race    hair    eye glasses  \n",
       "0                  None  0.750000    Male  White   Brown  Brown     Yes  \n",
       "1  Goatee and moustache  0.083333    Male  Black   Black  Brown      No  \n",
       "2                  None  1.416667  Female  White  Blonde  Brown      No  \n",
       "3                  None  0.416667    Male  White   White  Brown      No  \n",
       "4                  None  1.750000  Female  Black   Black  Brown      No  "
      ]
     },
     "execution_count": 23,
     "metadata": {},
     "output_type": "execute_result"
    }
   ],
   "source": [
    "base = \"/data1/famface01/analysis/encoding/12_Features\"\n",
    "demos = pd.read_csv('%s/demographics_unfam_df.csv' % base)\n",
    "demos.head()"
   ]
  },
  {
   "cell_type": "code",
   "execution_count": 27,
   "metadata": {
    "collapsed": false
   },
   "outputs": [
    {
     "data": {
      "text/plain": [
       "array(['Aaron_Sorkin_vid03_clip01_2secs', 'Abdullah_vid02_clip01_2secs',\n",
       "       'Agnes_Bruckner_vid02_clip05_2secs', 'Abba_Eban_vid03_clip18_2secs',\n",
       "       'Aisha_Hinds_vid05_clip02_2secs',\n",
       "       'Alejandro_Toledo_vid03_clip01_2secs',\n",
       "       'Ali_Abbas_vid03_clip01_2secs', 'Ali_Landry_vid06_clip05_2secs',\n",
       "       'Sylvia_Jeffreys', 'wall_of_faces_vid93'], \n",
       "      dtype='|S47')"
      ]
     },
     "execution_count": 27,
     "metadata": {},
     "output_type": "execute_result"
    }
   ],
   "source": [
    "import re\n",
    "base = \"/data1/famface01/analysis/encoding/12_Features\"\n",
    "demos = pd.read_csv('%s/demographics_unfam_df.csv' % base)\n",
    "vnames0 = demos.ix[:,0]\n",
    "demos = demos.ix[:,1:]\n",
    "vnames = demos.video # typo\n",
    "vnames = [ re.sub(\"_fr[0-9]{3}\", \"\", vname) for vname in vnames ]\n",
    "vnames = np.array(vnames)\n",
    "vnames[:10]"
   ]
  },
  {
   "cell_type": "code",
   "execution_count": 29,
   "metadata": {
    "collapsed": false
   },
   "outputs": [
    {
     "data": {
      "text/plain": [
       "(array([249]),)"
      ]
     },
     "execution_count": 29,
     "metadata": {},
     "output_type": "execute_result"
    }
   ],
   "source": [
    "(vnames == 'Lynne_McGranger').nonzero()"
   ]
  },
  {
   "cell_type": "code",
   "execution_count": 8,
   "metadata": {
    "collapsed": false
   },
   "outputs": [
    {
     "name": "stdout",
     "output_type": "stream",
     "text": [
      "[1] \"age\"         \"facial_hair\" \"makeup\"      \"gender\"      \"race\"       \n",
      "[6] \"hair\"        \"eye\"         \"glasses\"    \n",
      "\n"
     ]
    }
   ],
   "source": [
    "print r.dat.rx2('features').rx2('demos').names"
   ]
  },
  {
   "cell_type": "code",
   "execution_count": 96,
   "metadata": {
    "collapsed": false
   },
   "outputs": [
    {
     "data": {
      "text/html": [
       "<div>\n",
       "<table border=\"1\" class=\"dataframe\">\n",
       "  <thead>\n",
       "    <tr style=\"text-align: right;\">\n",
       "      <th></th>\n",
       "      <th>run</th>\n",
       "      <th>onset</th>\n",
       "      <th>local.onset</th>\n",
       "      <th>duration</th>\n",
       "      <th>question</th>\n",
       "      <th>video</th>\n",
       "    </tr>\n",
       "  </thead>\n",
       "  <tbody>\n",
       "    <tr>\n",
       "      <th>1</th>\n",
       "      <td>1</td>\n",
       "      <td>0.001657</td>\n",
       "      <td>0.001657</td>\n",
       "      <td>2.0</td>\n",
       "      <td>none</td>\n",
       "      <td>Lynne_McGranger</td>\n",
       "    </tr>\n",
       "    <tr>\n",
       "      <th>2</th>\n",
       "      <td>1</td>\n",
       "      <td>2.025683</td>\n",
       "      <td>2.025683</td>\n",
       "      <td>2.0</td>\n",
       "      <td>none</td>\n",
       "      <td>Larry_Hagman_U215_vid05_clip01_2secs</td>\n",
       "    </tr>\n",
       "    <tr>\n",
       "      <th>3</th>\n",
       "      <td>1</td>\n",
       "      <td>4.035705</td>\n",
       "      <td>4.035705</td>\n",
       "      <td>2.0</td>\n",
       "      <td>none</td>\n",
       "      <td>manyfaces01_vid03_clip01_face08_2secs</td>\n",
       "    </tr>\n",
       "    <tr>\n",
       "      <th>4</th>\n",
       "      <td>1</td>\n",
       "      <td>10.200527</td>\n",
       "      <td>10.200527</td>\n",
       "      <td>2.0</td>\n",
       "      <td>none</td>\n",
       "      <td>Jacques_Rogge_U089_vid02_clip06_2secs</td>\n",
       "    </tr>\n",
       "    <tr>\n",
       "      <th>5</th>\n",
       "      <td>1</td>\n",
       "      <td>12.210857</td>\n",
       "      <td>12.210857</td>\n",
       "      <td>2.0</td>\n",
       "      <td>none</td>\n",
       "      <td>Steevy_Boulay</td>\n",
       "    </tr>\n",
       "  </tbody>\n",
       "</table>\n",
       "</div>"
      ],
      "text/plain": [
       "   run      onset  local.onset  duration question  \\\n",
       "1    1   0.001657     0.001657       2.0     none   \n",
       "2    1   2.025683     2.025683       2.0     none   \n",
       "3    1   4.035705     4.035705       2.0     none   \n",
       "4    1  10.200527    10.200527       2.0     none   \n",
       "5    1  12.210857    12.210857       2.0     none   \n",
       "\n",
       "                                   video  \n",
       "1                        Lynne_McGranger  \n",
       "2   Larry_Hagman_U215_vid05_clip01_2secs  \n",
       "3  manyfaces01_vid03_clip01_face08_2secs  \n",
       "4  Jacques_Rogge_U089_vid02_clip06_2secs  \n",
       "5                          Steevy_Boulay  "
      ]
     },
     "execution_count": 96,
     "metadata": {},
     "output_type": "execute_result"
    }
   ],
   "source": [
    "pandas2ri.ri2py(r.dat.rx2('basics').rx2('timing')).head()"
   ]
  },
  {
   "cell_type": "code",
   "execution_count": 95,
   "metadata": {
    "collapsed": false
   },
   "outputs": [
    {
     "data": {
      "text/html": [
       "<div>\n",
       "<table border=\"1\" class=\"dataframe\">\n",
       "  <thead>\n",
       "    <tr style=\"text-align: right;\">\n",
       "      <th></th>\n",
       "      <th>age</th>\n",
       "      <th>facial_hair</th>\n",
       "      <th>makeup</th>\n",
       "      <th>gender</th>\n",
       "      <th>race</th>\n",
       "      <th>hair</th>\n",
       "      <th>eye</th>\n",
       "      <th>glasses</th>\n",
       "    </tr>\n",
       "  </thead>\n",
       "  <tbody>\n",
       "    <tr>\n",
       "      <th>788</th>\n",
       "      <td>3.666667</td>\n",
       "      <td>None</td>\n",
       "      <td>1.333333</td>\n",
       "      <td>Female</td>\n",
       "      <td>White</td>\n",
       "      <td>Black</td>\n",
       "      <td>Hazel</td>\n",
       "      <td>No</td>\n",
       "    </tr>\n",
       "    <tr>\n",
       "      <th>250</th>\n",
       "      <td>1.000000</td>\n",
       "      <td>None</td>\n",
       "      <td>0.200000</td>\n",
       "      <td>Male</td>\n",
       "      <td>White</td>\n",
       "      <td>Blonde</td>\n",
       "      <td>Brown</td>\n",
       "      <td>Yes</td>\n",
       "    </tr>\n",
       "    <tr>\n",
       "      <th>360</th>\n",
       "      <td>0.200000</td>\n",
       "      <td>None</td>\n",
       "      <td>0.000000</td>\n",
       "      <td>Male</td>\n",
       "      <td>White</td>\n",
       "      <td>Black</td>\n",
       "      <td>Brown</td>\n",
       "      <td>No</td>\n",
       "    </tr>\n",
       "    <tr>\n",
       "      <th>530</th>\n",
       "      <td>2.000000</td>\n",
       "      <td>Goatee and moustache</td>\n",
       "      <td>0.200000</td>\n",
       "      <td>Male</td>\n",
       "      <td>Black</td>\n",
       "      <td>Bald</td>\n",
       "      <td>Brown</td>\n",
       "      <td>No</td>\n",
       "    </tr>\n",
       "    <tr>\n",
       "      <th>645</th>\n",
       "      <td>2.000000</td>\n",
       "      <td>Stubble</td>\n",
       "      <td>0.200000</td>\n",
       "      <td>Male</td>\n",
       "      <td>Hispanic/Latino</td>\n",
       "      <td>Black</td>\n",
       "      <td>Brown</td>\n",
       "      <td>No</td>\n",
       "    </tr>\n",
       "  </tbody>\n",
       "</table>\n",
       "</div>"
      ],
      "text/plain": [
       "          age           facial_hair    makeup  gender             race  \\\n",
       "788  3.666667                  None  1.333333  Female            White   \n",
       "250  1.000000                  None  0.200000    Male            White   \n",
       "360  0.200000                  None  0.000000    Male            White   \n",
       "530  2.000000  Goatee and moustache  0.200000    Male            Black   \n",
       "645  2.000000               Stubble  0.200000    Male  Hispanic/Latino   \n",
       "\n",
       "       hair    eye glasses  \n",
       "788   Black  Hazel      No  \n",
       "250  Blonde  Brown     Yes  \n",
       "360   Black  Brown      No  \n",
       "530    Bald  Brown      No  \n",
       "645   Black  Brown      No  "
      ]
     },
     "execution_count": 95,
     "metadata": {},
     "output_type": "execute_result"
    }
   ],
   "source": [
    "pandas2ri.ri2py(r.dat.rx2('features').rx2('demos')).head() # so these will be re-ordered by the video"
   ]
  },
  {
   "cell_type": "code",
   "execution_count": 74,
   "metadata": {
    "collapsed": true
   },
   "outputs": [],
   "source": [
    "ro_demos = pandas2ri.ri2py(r.dat.rx2('features').rx2('demos'))"
   ]
  },
  {
   "cell_type": "code",
   "execution_count": 75,
   "metadata": {
    "collapsed": false
   },
   "outputs": [
    {
     "data": {
      "text/html": [
       "<div>\n",
       "<table border=\"1\" class=\"dataframe\">\n",
       "  <thead>\n",
       "    <tr style=\"text-align: right;\">\n",
       "      <th></th>\n",
       "      <th>age</th>\n",
       "      <th>gender</th>\n",
       "      <th>makeup</th>\n",
       "      <th>glasses</th>\n",
       "    </tr>\n",
       "  </thead>\n",
       "  <tbody>\n",
       "    <tr>\n",
       "      <th>788</th>\n",
       "      <td>3.666667</td>\n",
       "      <td>Female</td>\n",
       "      <td>1.333333</td>\n",
       "      <td>No</td>\n",
       "    </tr>\n",
       "    <tr>\n",
       "      <th>250</th>\n",
       "      <td>1.000000</td>\n",
       "      <td>Male</td>\n",
       "      <td>0.200000</td>\n",
       "      <td>Yes</td>\n",
       "    </tr>\n",
       "    <tr>\n",
       "      <th>360</th>\n",
       "      <td>0.200000</td>\n",
       "      <td>Male</td>\n",
       "      <td>0.000000</td>\n",
       "      <td>No</td>\n",
       "    </tr>\n",
       "    <tr>\n",
       "      <th>530</th>\n",
       "      <td>2.000000</td>\n",
       "      <td>Male</td>\n",
       "      <td>0.200000</td>\n",
       "      <td>No</td>\n",
       "    </tr>\n",
       "    <tr>\n",
       "      <th>645</th>\n",
       "      <td>2.000000</td>\n",
       "      <td>Male</td>\n",
       "      <td>0.200000</td>\n",
       "      <td>No</td>\n",
       "    </tr>\n",
       "  </tbody>\n",
       "</table>\n",
       "</div>"
      ],
      "text/plain": [
       "          age  gender    makeup glasses\n",
       "788  3.666667  Female  1.333333      No\n",
       "250  1.000000    Male  0.200000     Yes\n",
       "360  0.200000    Male  0.000000      No\n",
       "530  2.000000    Male  0.200000      No\n",
       "645  2.000000    Male  0.200000      No"
      ]
     },
     "execution_count": 75,
     "metadata": {},
     "output_type": "execute_result"
    }
   ],
   "source": [
    "# Select the measures that we want\n",
    "ro_subdemos = ro_demos.loc[:,[\"age\",\"gender\",\"makeup\",\"glasses\"]]\n",
    "ro_subdemos.head()"
   ]
  },
  {
   "cell_type": "code",
   "execution_count": 76,
   "metadata": {
    "collapsed": false
   },
   "outputs": [
    {
     "data": {
      "text/html": [
       "<div>\n",
       "<table border=\"1\" class=\"dataframe\">\n",
       "  <thead>\n",
       "    <tr style=\"text-align: right;\">\n",
       "      <th></th>\n",
       "      <th>age</th>\n",
       "      <th>gender</th>\n",
       "      <th>makeup</th>\n",
       "      <th>glasses</th>\n",
       "    </tr>\n",
       "  </thead>\n",
       "  <tbody>\n",
       "    <tr>\n",
       "      <th>788</th>\n",
       "      <td>1.248129</td>\n",
       "      <td>0.5</td>\n",
       "      <td>0.686349</td>\n",
       "      <td>-0.5</td>\n",
       "    </tr>\n",
       "    <tr>\n",
       "      <th>250</th>\n",
       "      <td>-1.418538</td>\n",
       "      <td>-0.5</td>\n",
       "      <td>-0.446984</td>\n",
       "      <td>0.5</td>\n",
       "    </tr>\n",
       "    <tr>\n",
       "      <th>360</th>\n",
       "      <td>-2.218538</td>\n",
       "      <td>-0.5</td>\n",
       "      <td>-0.646984</td>\n",
       "      <td>-0.5</td>\n",
       "    </tr>\n",
       "    <tr>\n",
       "      <th>530</th>\n",
       "      <td>-0.418538</td>\n",
       "      <td>-0.5</td>\n",
       "      <td>-0.446984</td>\n",
       "      <td>-0.5</td>\n",
       "    </tr>\n",
       "    <tr>\n",
       "      <th>645</th>\n",
       "      <td>-0.418538</td>\n",
       "      <td>-0.5</td>\n",
       "      <td>-0.446984</td>\n",
       "      <td>-0.5</td>\n",
       "    </tr>\n",
       "  </tbody>\n",
       "</table>\n",
       "</div>"
      ],
      "text/plain": [
       "          age  gender    makeup  glasses\n",
       "788  1.248129     0.5  0.686349     -0.5\n",
       "250 -1.418538    -0.5 -0.446984      0.5\n",
       "360 -2.218538    -0.5 -0.646984     -0.5\n",
       "530 -0.418538    -0.5 -0.446984     -0.5\n",
       "645 -0.418538    -0.5 -0.446984     -0.5"
      ]
     },
     "execution_count": 76,
     "metadata": {},
     "output_type": "execute_result"
    }
   ],
   "source": [
    "# Make the factors into numbers\n",
    "ro_subdemos.loc[:,'gender'] = (ro_subdemos.gender == 'Female')*1 - 0.5 # 0.5 = female\n",
    "ro_subdemos.loc[:,'glasses'] = (ro_subdemos.glasses == 'Yes')*1 - 0.5 # 0.5 = glasses\n",
    "\n",
    "# Remove the mean from the age\n",
    "ro_subdemos.loc[:,'age'] = scale(ro_subdemos.age, with_std=False)\n",
    "ro_subdemos.loc[:,'makeup'] = scale(ro_subdemos.makeup, with_std=False)\n",
    "\n",
    "ro_subdemos.head()"
   ]
  },
  {
   "cell_type": "code",
   "execution_count": 77,
   "metadata": {
    "collapsed": false
   },
   "outputs": [],
   "source": [
    "ro_subdemos_cols = ro_subdemos.columns\n",
    "ro_subdemos = ro_subdemos.as_matrix()"
   ]
  },
  {
   "cell_type": "code",
   "execution_count": 78,
   "metadata": {
    "collapsed": false
   },
   "outputs": [
    {
     "data": {
      "text/plain": [
       "array([[ 1.        , -0.20614244, -0.09256538,  0.14383106],\n",
       "       [-0.20614244,  1.        ,  0.81037275, -0.19042234],\n",
       "       [-0.09256538,  0.81037275,  1.        , -0.20958931],\n",
       "       [ 0.14383106, -0.19042234, -0.20958931,  1.        ]])"
      ]
     },
     "execution_count": 78,
     "metadata": {},
     "output_type": "execute_result"
    }
   ],
   "source": [
    "np.corrcoef(ro_subdemos.T) # make-up and gender are highly correlated"
   ]
  },
  {
   "cell_type": "code",
   "execution_count": 56,
   "metadata": {
    "collapsed": false
   },
   "outputs": [
    {
     "data": {
      "text/plain": [
       "array([ '0.00170 2.02570 4.03570 10.20050 12.21090 14.22120 16.23130 18.24150 20.25180 24.33920 26.38280 28.39310 30.40330 36.00060 40.03560 44.13900 46.20010 48.21050 50.22070 52.23090 54.24110 58.29510 60.33880 62.38210 64.39230 66.40250 68.41270 70.42290 78.02870 80.08910 82.13280 84.14290 86.15330 90.17360 92.18390 96.23790 98.29820 100.32510 102.33550 108.36620 110.37640 114.48060 116.52400 118.53440 120.54470 122.55490 124.56500 128.61900 134.73340 136.74361 138.93810 140.94839 142.99210 152.17210 154.21581 156.22591 158.23610 160.24640 166.27699 168.32080 172.39120 174.58600 176.59621 178.60629 180.61659 182.66029 184.70360 189.02600 191.03619 195.27440 197.31810 199.36180 201.37199 203.38220 210.16660 212.17680 214.18700 220.00060 222.02699 228.15810 230.16830 232.17860 234.18880 238.20920 240.23610 242.27991 248.36079 254.39140 256.40161 258.44501 260.50580 262.51590 268.71420 270.72440 272.76770 274.81180 276.87219 278.88251 282.90289 284.91321 286.92340 296.03629 298.09680 300.15720 304.17770 306.18790 308.19809 310.39261',\n",
       "       '318.00101 320.05820 322.06830 324.07861 326.08841 330.10919 332.11938 338.41800 340.42819 342.43851 344.44870 346.45889 348.50259 354.61700 356.62720 362.00070 364.01419 366.02460 370.06219 372.10590 374.14951 376.15979 378.17001 382.19040 384.20071 388.27130 390.33179 392.34189 394.35220 396.36240 402.00049 404.01791 408.08871 410.13251 412.14249 414.15289 416.16309 420.18350 422.19379 424.23740 426.29791 430.35181 432.36200 438.00061 440.01740 442.02759 446.13199 448.17560 450.18600 456.21661 458.22681 462.33099 466.40121 468.41141 470.42160 474.44211 476.48621 480.59039 482.60059 484.61081 486.62100 488.63129 490.64151 496.78931 498.98389 500.99420 505.01459 507.05820 509.10199 511.14560 513.15582 515.35040 517.36041 528.14880 530.15900 532.16919 538.00061 540.05920 542.06940 544.07959 548.10010 552.15399 554.19781 556.25812 558.45270 560.46301 564.48340 566.52710 570.61450 572.62457 574.63501 576.64520 578.65540 580.66559 584.73621 586.77991 588.79010 590.80042 598.00360 600.01379 602.02399 608.10498 610.14868 612.17542 618.20630 624.27039 626.33081 628.39142'], \n",
       "      dtype='|S1187')"
      ]
     },
     "execution_count": 56,
     "metadata": {},
     "output_type": "execute_result"
    }
   ],
   "source": [
    "###\n",
    "# FACE ACTIVITY\n",
    "###\n",
    "\n",
    "nruns = uruns.shape[0]\n",
    "afni_facemat = []\n",
    "\n",
    "for ri in range(nruns):\n",
    "    run_inds = runs == uruns[ri]\n",
    "    n = np.sum(run_inds)\n",
    "    \n",
    "    ovec = onsets[run_inds].astype('float32').round(4)\n",
    "    row = [ '%.5f' % ovec[i] for i in range(n) ]\n",
    "    row = \" \".join(row)\n",
    "\n",
    "    afni_facemat.append(row)\n",
    "\n",
    "afni_facemat = np.array(afni_facemat)\n",
    "afni_facemat[:2]"
   ]
  },
  {
   "cell_type": "code",
   "execution_count": 79,
   "metadata": {
    "collapsed": false
   },
   "outputs": [
    {
     "data": {
      "text/plain": [
       "array([ '0.00170*1.248129 2.02570*-1.418538 4.03570*-2.218538 10.20050*-0.418538 12.21090*-0.418538 14.22120*-1.751871 16.23130*1.181462 18.24150*-0.018538 20.25180*1.381462 24.33920*2.581462 26.38280*2.081462 28.39310*-2.307427 30.40330*-1.418538 36.00060*-0.618538 40.03560*-1.618538 44.13900*-0.818538 46.20010*0.181462 48.21050*-0.618538 50.22070*0.581462 52.23090*-1.218538 54.24110*1.781462 58.29510*-0.085204 60.33880*-0.418538 62.38210*1.248129 64.39230*2.381462 66.40250*-1.018538 68.41270*1.781462 70.42290*0.381462 78.02870*0.981462 80.08910*-0.618538 82.13280*1.581462 84.14290*0.781462 86.15330*-0.418538 90.17360*1.581462 92.18390*-1.218538 96.23790*-1.018538 98.29820*-0.018538 100.32510*-1.418538 102.33550*-0.018538 108.36620*-0.618538 110.37640*-1.018538 114.48060*-0.818538 116.52400*2.981462 118.53440*-0.585204 120.54470*-0.018538 122.55490*2.181462 124.56500*-0.618538 128.61900*1.781462 134.73340*0.581462 136.74361*-0.018538 138.93810*-0.418538 140.94839*-0.618538 142.99210*-1.218538 152.17210*-0.168538 154.21581*1.581462 156.22591*-0.818538 158.23610*0.381462 160.24640*-0.418538 166.27699*-1.218538 168.32080*-0.818538 172.39120*-0.418538 174.58600*3.381462 176.59621*-0.018538 178.60629*1.981462 180.61659*0.581462 182.66029*-0.618538 184.70360*-1.018538 189.02600*0.181462 191.03619*1.181462 195.27440*0.781462 197.31810*1.581462 199.36180*-1.818538 201.37199*-0.862982 203.38220*0.181462 210.16660*0.181462 212.17680*0.498129 214.18700*-0.418538 220.00060*2.181462 222.02699*-0.818538 228.15810*-1.618538 230.16830*-0.618538 232.17860*-1.218538 234.18880*-0.418538 238.20920*0.181462 240.23610*-1.218538 242.27991*-0.218538 248.36079*-0.618538 254.39140*-0.218538 256.40161*-0.418538 258.44501*0.581462 260.50580*-1.218538 262.51590*3.581462 268.71420*0.081462 270.72440*-0.018538 272.76770*-0.618538 274.81180*0.581462 276.87219*-1.529649 278.88251*-1.751871 282.90289*-2.018538 284.91321*-0.818538 286.92340*2.781462 296.03629*-0.218538 298.09680*-0.251871 300.15720*0.981462 304.17770*2.581462 306.18790*1.381462 308.19809*0.381462 310.39261*-0.501871',\n",
       "       '318.00101*-0.418538 320.05820*-1.085204 322.06830*0.981462 324.07861*0.181462 326.08841*-0.418538 330.10919*0.581462 332.11938*1.581462 338.41800*0.781462 340.42819*-0.818538 342.43851*-2.018538 344.44870*0.981462 346.45889*0.781462 348.50259*-1.196316 354.61700*1.581462 356.62720*-0.862982 362.00070*-1.640760 364.01419*-0.418538 366.02460*2.781462 370.06219*-0.218538 372.10590*1.181462 374.14951*-1.218538 376.15979*0.981462 378.17001*0.581462 382.19040*-0.251871 384.20071*0.748129 388.27130*-0.418538 390.33179*-0.818538 392.34189*-0.018538 394.35220*-0.218538 396.36240*-0.018538 402.00049*-0.618538 404.01791*-1.001871 408.08871*-0.918538 410.13251*-0.418538 412.14249*-1.018538 414.15289*1.781462 416.16309*0.981462 420.18350*-0.418538 422.19379*0.981462 424.23740*1.781462 426.29791*-0.418538 430.35181*-0.818538 432.36200*1.981462 438.00061*1.981462 440.01740*0.981462 442.02759*-1.418538 446.13199*-0.974093 448.17560*0.581462 450.18600*0.981462 456.21661*0.181462 458.22681*-0.251871 462.33099*-0.418538 466.40121*-0.862982 468.41141*-0.751871 470.42160*-1.307427 474.44211*-0.218538 476.48621*-0.668538 480.59039*1.181462 482.60059*-1.418538 484.61081*0.581462 486.62100*-1.251871 488.63129*-1.618538 490.64151*-1.018538 496.78931*-0.251871 498.98389*-1.418538 500.99420*-0.085204 505.01459*-1.307427 507.05820*-0.018538 509.10199*-1.618538 511.14560*-1.018538 513.15582*-0.418538 515.35040*-1.018538 517.36041*-0.085204 528.14880*1.981462 530.15900*0.581462 532.16919*2.781462 538.00061*-0.818538 540.05920*-0.418538 542.06940*-0.618538 544.07959*-1.218538 548.10010*0.181462 552.15399*-0.862982 554.19781*-0.618538 556.25812*-0.218538 558.45270*-1.018538 560.46301*-0.618538 564.48340*0.581462 566.52710*2.381462 570.61450*1.781462 572.62457*-1.418538 574.63501*-0.618538 576.64520*-1.018538 578.65540*1.748129 580.66559*1.581462 584.73621*-0.618538 586.77991*2.414796 588.79010*-0.018538 590.80042*0.781462 598.00360*0.781462 600.01379*-1.018538 602.02399*1.181462 608.10498*2.381462 610.14868*-0.085204 612.17542*-0.418538 618.20630*-1.618538 624.27039*1.381462 626.33081*0.181462 628.39142*0.981462'], \n",
       "      dtype='|S2227')"
      ]
     },
     "execution_count": 79,
     "metadata": {},
     "output_type": "execute_result"
    }
   ],
   "source": [
    "###\n",
    "# Demographics\n",
    "###\n",
    "\n",
    "nruns = uruns.shape[0]\n",
    "afni_demomats = []\n",
    "\n",
    "for ci in range(ro_subdemos.shape[1]):\n",
    "    afni_demomat = []\n",
    "    for ri in range(nruns):\n",
    "        run_inds = runs == uruns[ri]\n",
    "        n        = np.sum(run_inds)\n",
    "\n",
    "        ovecs= onsets[run_inds].astype('float32').round(4)\n",
    "        dvecs= ro_subdemos[run_inds,ci]\n",
    "        row = [ '%.5f*%f' % (ovecs[i],dvecs[i]) for i in range(n) ]\n",
    "        row = \" \".join(row)\n",
    "\n",
    "        afni_demomat.append(row)\n",
    "    afni_demomats.append(np.array(afni_demomat))\n",
    "\n",
    "afni_demomats[0][:2]"
   ]
  },
  {
   "cell_type": "code",
   "execution_count": 37,
   "metadata": {
    "collapsed": false
   },
   "outputs": [
    {
     "name": "stdout",
     "output_type": "stream",
     "text": [
      "\n",
      "   0    1 \n",
      "1632   96 \n",
      "\n"
     ]
    },
    {
     "data": {
      "text/plain": [
       "['30.40 70.42 142.99 203.38 214.19 286.92',\n",
       " '356.63 396.36 432.36 517.36 532.17 590.80']"
      ]
     },
     "execution_count": 37,
     "metadata": {},
     "output_type": "execute_result"
    }
   ],
   "source": [
    "###\n",
    "# QUESTIONS\n",
    "###\n",
    "\n",
    "q_regressor = (questions != 'none') * 1\n",
    "print(r.table(q_regressor))\n",
    "\n",
    "## note: this will need to be saved separately\n",
    "\n",
    "afni_qmat = []\n",
    "nruns = uruns.shape[0]\n",
    "for ri in range(nruns):\n",
    "    run_inds = runs == uruns[ri]\n",
    "    n = np.sum(run_inds)\n",
    "\n",
    "    qvec = q_regressor[run_inds]\n",
    "    ovec = onsets[run_inds].astype('float32').round(4)\n",
    "    row  = np.array([ '%.5f' % ovec[i] for i,touse in enumerate(qvec) if touse == 1 ])\n",
    "    if len(row) == 0:\n",
    "        row = '*'\n",
    "    else:\n",
    "        row = \" \".join(row)\n",
    "    \n",
    "    afni_qmat.append(row)\n",
    "\n",
    "afni_qmat[:2]"
   ]
  },
  {
   "cell_type": "code",
   "execution_count": 41,
   "metadata": {
    "collapsed": false
   },
   "outputs": [
    {
     "data": {
      "text/plain": [
       "array([[-0.1902, -0.1482, -0.1249,  0.0603, -0.1349, -0.0231],\n",
       "       [-0.1712, -0.0821, -0.1478,  0.0443, -0.125 ,  0.064 ],\n",
       "       [-0.1563, -0.0612, -0.1005, -0.0062, -0.1183,  0.0553],\n",
       "       [-0.1791, -0.1469, -0.138 ,  0.0557, -0.1137, -0.0185]])"
      ]
     },
     "execution_count": 41,
     "metadata": {},
     "output_type": "execute_result"
    }
   ],
   "source": [
    "###\n",
    "# MOTION\n",
    "###\n",
    "\n",
    "funcdir = \"/data1/famface01/analysis/preprocessed/%s/func\" % subj\n",
    "df_paths = pd.read_table(\"%s/df_paths.txt\" % funcdir, sep=\" \")\n",
    "\n",
    "inds = df_paths.inindex[df_paths.name == 'fam_vids']\n",
    "motion_fpaths = [ \"%s/mc/func_run%02i_dfile.1D\" % (funcdir, ind) for ind in inds ]\n",
    "\n",
    "from sklearn.preprocessing import scale\n",
    "motion_mats = []\n",
    "for fpath in motion_fpaths:\n",
    "    x = np.loadtxt(fpath)\n",
    "    x = scale(x, with_std=False, with_mean=True)\n",
    "    motion_mats.append(x)\n",
    "motion_mat = np.vstack(motion_mats)\n",
    "motion_mat[:4,:].round(4)"
   ]
  },
  {
   "cell_type": "code",
   "execution_count": 80,
   "metadata": {
    "collapsed": false
   },
   "outputs": [
    {
     "name": "stdout",
     "output_type": "stream",
     "text": [
      "/data1/famface01/command/misc/face_representations/300_task_activity/150_face_basics_unfam/timings/sub03\n"
     ]
    }
   ],
   "source": [
    "###\n",
    "# SAVE\n",
    "###\n",
    "\n",
    "base = \"/data1/famface01/command/misc/face_representations\"\n",
    "outbase = \"%s/300_task_activity/150_face_basics_unfam/timings\" % base\n",
    "outdir = \"%s/%s\" % (outbase, subj)\n",
    "print outdir\n",
    "if not os.path.exists(outdir):\n",
    "    os.mkdir(outdir)\n",
    "\n",
    "# Faces\n",
    "ofname = '%s/stim_faces.txt' % outdir\n",
    "np.savetxt(ofname, afni_facemat, fmt='%s')\n",
    "\n",
    "# Demos\n",
    "for i,amat in enumerate(afni_demomats):\n",
    "    cname = ro_subdemos_cols[i]\n",
    "    ofname = '%s/stimam_%s.txt' % (outdir, cname)\n",
    "    np.savetxt(ofname, amat, fmt='%s')\n",
    "\n",
    "# Questions\n",
    "ofname = '%s/stim_questions.txt' % outdir\n",
    "np.savetxt(ofname, afni_qmat, fmt='%s')\n",
    "\n",
    "# MOTION\n",
    "ofname = '%s/motion.1D' % outdir\n",
    "np.savetxt(ofname, motion_mat, fmt='%f')"
   ]
  },
  {
   "cell_type": "code",
   "execution_count": 71,
   "metadata": {
    "collapsed": false
   },
   "outputs": [],
   "source": []
  },
  {
   "cell_type": "markdown",
   "metadata": {},
   "source": [
    "## Traits"
   ]
  },
  {
   "cell_type": "code",
   "execution_count": 10,
   "metadata": {
    "collapsed": false
   },
   "outputs": [
    {
     "name": "stdout",
     "output_type": "stream",
     "text": [
      "[1] \"face\"       \"shape\"      \"appearance\" \"demos\"      \"openface\"  \n",
      "[6] \"traits\"     \"featconfig\"\n",
      "\n"
     ]
    }
   ],
   "source": [
    "print r.dat.rx2('features').names"
   ]
  },
  {
   "cell_type": "code",
   "execution_count": 11,
   "metadata": {
    "collapsed": false
   },
   "outputs": [
    {
     "data": {
      "text/html": [
       "<div>\n",
       "<table border=\"1\" class=\"dataframe\">\n",
       "  <thead>\n",
       "    <tr style=\"text-align: right;\">\n",
       "      <th></th>\n",
       "      <th>attractive</th>\n",
       "      <th>extraverted</th>\n",
       "      <th>trustworthy</th>\n",
       "      <th>intelligent</th>\n",
       "      <th>mean</th>\n",
       "      <th>competent</th>\n",
       "      <th>typical</th>\n",
       "      <th>unemotional</th>\n",
       "      <th>memorable</th>\n",
       "      <th>humble</th>\n",
       "    </tr>\n",
       "  </thead>\n",
       "  <tbody>\n",
       "    <tr>\n",
       "      <th>476</th>\n",
       "      <td>4.500000</td>\n",
       "      <td>4.916667</td>\n",
       "      <td>4.416667</td>\n",
       "      <td>4.909091</td>\n",
       "      <td>4.600000</td>\n",
       "      <td>6.083333</td>\n",
       "      <td>4.818182</td>\n",
       "      <td>5.500000</td>\n",
       "      <td>6.000000</td>\n",
       "      <td>3.800000</td>\n",
       "    </tr>\n",
       "    <tr>\n",
       "      <th>426</th>\n",
       "      <td>5.833333</td>\n",
       "      <td>4.833333</td>\n",
       "      <td>5.916667</td>\n",
       "      <td>6.333333</td>\n",
       "      <td>3.272727</td>\n",
       "      <td>6.076923</td>\n",
       "      <td>5.833333</td>\n",
       "      <td>4.909091</td>\n",
       "      <td>5.000000</td>\n",
       "      <td>5.083333</td>\n",
       "    </tr>\n",
       "    <tr>\n",
       "      <th>492</th>\n",
       "      <td>5.333333</td>\n",
       "      <td>7.000000</td>\n",
       "      <td>5.750000</td>\n",
       "      <td>5.363636</td>\n",
       "      <td>3.400000</td>\n",
       "      <td>5.416667</td>\n",
       "      <td>6.363636</td>\n",
       "      <td>4.833333</td>\n",
       "      <td>4.363636</td>\n",
       "      <td>4.100000</td>\n",
       "    </tr>\n",
       "    <tr>\n",
       "      <th>343</th>\n",
       "      <td>6.250000</td>\n",
       "      <td>3.750000</td>\n",
       "      <td>5.333333</td>\n",
       "      <td>5.500000</td>\n",
       "      <td>4.636364</td>\n",
       "      <td>5.307692</td>\n",
       "      <td>5.083333</td>\n",
       "      <td>5.727273</td>\n",
       "      <td>5.076923</td>\n",
       "      <td>5.583333</td>\n",
       "    </tr>\n",
       "    <tr>\n",
       "      <th>648</th>\n",
       "      <td>5.750000</td>\n",
       "      <td>7.083333</td>\n",
       "      <td>5.384615</td>\n",
       "      <td>4.916667</td>\n",
       "      <td>2.833333</td>\n",
       "      <td>4.833333</td>\n",
       "      <td>5.583333</td>\n",
       "      <td>3.090909</td>\n",
       "      <td>5.000000</td>\n",
       "      <td>5.363636</td>\n",
       "    </tr>\n",
       "  </tbody>\n",
       "</table>\n",
       "</div>"
      ],
      "text/plain": [
       "     attractive  extraverted  trustworthy  intelligent      mean  competent  \\\n",
       "476    4.500000     4.916667     4.416667     4.909091  4.600000   6.083333   \n",
       "426    5.833333     4.833333     5.916667     6.333333  3.272727   6.076923   \n",
       "492    5.333333     7.000000     5.750000     5.363636  3.400000   5.416667   \n",
       "343    6.250000     3.750000     5.333333     5.500000  4.636364   5.307692   \n",
       "648    5.750000     7.083333     5.384615     4.916667  2.833333   4.833333   \n",
       "\n",
       "      typical  unemotional  memorable    humble  \n",
       "476  4.818182     5.500000   6.000000  3.800000  \n",
       "426  5.833333     4.909091   5.000000  5.083333  \n",
       "492  6.363636     4.833333   4.363636  4.100000  \n",
       "343  5.083333     5.727273   5.076923  5.583333  \n",
       "648  5.583333     3.090909   5.000000  5.363636  "
      ]
     },
     "execution_count": 11,
     "metadata": {},
     "output_type": "execute_result"
    }
   ],
   "source": [
    "pandas2ri.ri2py(r.dat.rx2('features').rx2('traits')).head() # so these were re-ordered by the video"
   ]
  },
  {
   "cell_type": "code",
   "execution_count": 12,
   "metadata": {
    "collapsed": false
   },
   "outputs": [
    {
     "data": {
      "text/plain": [
       "0        Aaron_Sorkin_vid03_clip01_2secs\n",
       "1           Abba_Eban_vid03_clip18_2secs\n",
       "2            Abdullah_vid02_clip01_2secs\n",
       "3                          Ada_Nicodemou\n",
       "4            Adam_Ant_vid02_clip05_2secs\n",
       "5      Adel_Al_Jubeir_vid01_clip01_2secs\n",
       "6                           Adele_Haenel\n",
       "7    Adrian_Fernandez_vid01_clip01_2secs\n",
       "8    Adrienne_Barbeau_vid06_clip01_2secs\n",
       "9     Adrienne_Frantz_vid05_clip03_2secs\n",
       "Name: Unnamed: 0, dtype: object"
      ]
     },
     "execution_count": 12,
     "metadata": {},
     "output_type": "execute_result"
    }
   ],
   "source": [
    "base         = \"/data1/famface01/analysis/encoding/12_Features\"\n",
    "traits_df    = pd.read_csv('%s/personality_traits_grpave.csv' % base)\n",
    "trait_vnames = traits_df.ix[:,0]\n",
    "trait_vnames[:10]"
   ]
  },
  {
   "cell_type": "code",
   "execution_count": 13,
   "metadata": {
    "collapsed": false
   },
   "outputs": [
    {
     "data": {
      "text/plain": [
       "(array([475]),)"
      ]
     },
     "execution_count": 13,
     "metadata": {},
     "output_type": "execute_result"
    }
   ],
   "source": [
    "(trait_vnames == 'Lynne_McGranger').nonzero()"
   ]
  },
  {
   "cell_type": "code",
   "execution_count": 14,
   "metadata": {
    "collapsed": true
   },
   "outputs": [],
   "source": [
    "traits_df = pandas2ri.ri2py(r.dat.rx2('features').rx2('traits'))"
   ]
  },
  {
   "cell_type": "code",
   "execution_count": 15,
   "metadata": {
    "collapsed": false
   },
   "outputs": [
    {
     "data": {
      "text/html": [
       "<div>\n",
       "<table border=\"1\" class=\"dataframe\">\n",
       "  <thead>\n",
       "    <tr style=\"text-align: right;\">\n",
       "      <th></th>\n",
       "      <th>attractive</th>\n",
       "      <th>extraverted</th>\n",
       "      <th>trustworthy</th>\n",
       "      <th>intelligent</th>\n",
       "      <th>mean</th>\n",
       "      <th>competent</th>\n",
       "      <th>typical</th>\n",
       "      <th>unemotional</th>\n",
       "      <th>memorable</th>\n",
       "      <th>humble</th>\n",
       "    </tr>\n",
       "  </thead>\n",
       "  <tbody>\n",
       "    <tr>\n",
       "      <th>476</th>\n",
       "      <td>4.500000</td>\n",
       "      <td>4.916667</td>\n",
       "      <td>4.416667</td>\n",
       "      <td>4.909091</td>\n",
       "      <td>4.600000</td>\n",
       "      <td>6.083333</td>\n",
       "      <td>4.818182</td>\n",
       "      <td>5.500000</td>\n",
       "      <td>6.000000</td>\n",
       "      <td>3.800000</td>\n",
       "    </tr>\n",
       "    <tr>\n",
       "      <th>426</th>\n",
       "      <td>5.833333</td>\n",
       "      <td>4.833333</td>\n",
       "      <td>5.916667</td>\n",
       "      <td>6.333333</td>\n",
       "      <td>3.272727</td>\n",
       "      <td>6.076923</td>\n",
       "      <td>5.833333</td>\n",
       "      <td>4.909091</td>\n",
       "      <td>5.000000</td>\n",
       "      <td>5.083333</td>\n",
       "    </tr>\n",
       "    <tr>\n",
       "      <th>492</th>\n",
       "      <td>5.333333</td>\n",
       "      <td>7.000000</td>\n",
       "      <td>5.750000</td>\n",
       "      <td>5.363636</td>\n",
       "      <td>3.400000</td>\n",
       "      <td>5.416667</td>\n",
       "      <td>6.363636</td>\n",
       "      <td>4.833333</td>\n",
       "      <td>4.363636</td>\n",
       "      <td>4.100000</td>\n",
       "    </tr>\n",
       "    <tr>\n",
       "      <th>343</th>\n",
       "      <td>6.250000</td>\n",
       "      <td>3.750000</td>\n",
       "      <td>5.333333</td>\n",
       "      <td>5.500000</td>\n",
       "      <td>4.636364</td>\n",
       "      <td>5.307692</td>\n",
       "      <td>5.083333</td>\n",
       "      <td>5.727273</td>\n",
       "      <td>5.076923</td>\n",
       "      <td>5.583333</td>\n",
       "    </tr>\n",
       "    <tr>\n",
       "      <th>648</th>\n",
       "      <td>5.750000</td>\n",
       "      <td>7.083333</td>\n",
       "      <td>5.384615</td>\n",
       "      <td>4.916667</td>\n",
       "      <td>2.833333</td>\n",
       "      <td>4.833333</td>\n",
       "      <td>5.583333</td>\n",
       "      <td>3.090909</td>\n",
       "      <td>5.000000</td>\n",
       "      <td>5.363636</td>\n",
       "    </tr>\n",
       "  </tbody>\n",
       "</table>\n",
       "</div>"
      ],
      "text/plain": [
       "     attractive  extraverted  trustworthy  intelligent      mean  competent  \\\n",
       "476    4.500000     4.916667     4.416667     4.909091  4.600000   6.083333   \n",
       "426    5.833333     4.833333     5.916667     6.333333  3.272727   6.076923   \n",
       "492    5.333333     7.000000     5.750000     5.363636  3.400000   5.416667   \n",
       "343    6.250000     3.750000     5.333333     5.500000  4.636364   5.307692   \n",
       "648    5.750000     7.083333     5.384615     4.916667  2.833333   4.833333   \n",
       "\n",
       "      typical  unemotional  memorable    humble  \n",
       "476  4.818182     5.500000   6.000000  3.800000  \n",
       "426  5.833333     4.909091   5.000000  5.083333  \n",
       "492  6.363636     4.833333   4.363636  4.100000  \n",
       "343  5.083333     5.727273   5.076923  5.583333  \n",
       "648  5.583333     3.090909   5.000000  5.363636  "
      ]
     },
     "execution_count": 15,
     "metadata": {},
     "output_type": "execute_result"
    }
   ],
   "source": [
    "traits_df.head()"
   ]
  },
  {
   "cell_type": "code",
   "execution_count": 16,
   "metadata": {
    "collapsed": false
   },
   "outputs": [
    {
     "name": "stderr",
     "output_type": "stream",
     "text": [
      "/home/zshehzad/.conda/envs/menpo/lib/python2.7/site-packages/sklearn/decomposition/fastica_.py:116: UserWarning: FastICA did not converge. Consider increasing tolerance or the maximum number of iterations.\n",
      "  warnings.warn('FastICA did not converge. Consider increasing '\n"
     ]
    },
    {
     "data": {
      "text/plain": [
       "FastICA(algorithm='parallel', fun='logcosh', fun_args=None, max_iter=1000,\n",
       "    n_components=None, random_state=None, tol=0.0001, w_init=None,\n",
       "    whiten=True)"
      ]
     },
     "execution_count": 16,
     "metadata": {},
     "output_type": "execute_result"
    }
   ],
   "source": [
    "from sklearn.decomposition import PCA, FastICA\n",
    "\n",
    "pca = PCA()\n",
    "pca.fit(traits_df.as_matrix())\n",
    "\n",
    "\n",
    "ica = FastICA(max_iter=1000)\n",
    "ica.fit(traits_df.as_matrix())"
   ]
  },
  {
   "cell_type": "code",
   "execution_count": 17,
   "metadata": {
    "collapsed": false
   },
   "outputs": [
    {
     "name": "stdout",
     "output_type": "stream",
     "text": [
      "[ 0.346  0.174  0.13   0.113  0.08   0.052  0.034  0.03   0.025  0.015]\n",
      "[ 0.346  0.52   0.65   0.763  0.844  0.896  0.93   0.96   0.985  1.   ]\n"
     ]
    }
   ],
   "source": [
    "print pca.explained_variance_ratio_.round(3)\n",
    "print np.cumsum(pca.explained_variance_ratio_).round(3)"
   ]
  },
  {
   "cell_type": "code",
   "execution_count": 18,
   "metadata": {
    "collapsed": false
   },
   "outputs": [
    {
     "data": {
      "text/plain": [
       "array([ 0.4222,  0.5318,  0.1179, -0.1417, -0.3655, -0.1269,  0.0167,\n",
       "       -0.5738,  0.1416, -0.0761])"
      ]
     },
     "execution_count": 18,
     "metadata": {},
     "output_type": "execute_result"
    }
   ],
   "source": [
    "# rows give each component\n",
    "pca.components_[0,:].round(4)"
   ]
  },
  {
   "cell_type": "code",
   "execution_count": 147,
   "metadata": {
    "collapsed": false
   },
   "outputs": [
    {
     "data": {
      "text/plain": [
       "(1728, 10)"
      ]
     },
     "execution_count": 147,
     "metadata": {},
     "output_type": "execute_result"
    }
   ],
   "source": [
    "pca.fit_transform(traits_df.as_matrix())"
   ]
  },
  {
   "cell_type": "code",
   "execution_count": 116,
   "metadata": {
    "collapsed": false
   },
   "outputs": [
    {
     "data": {
      "text/plain": [
       "array([[ 1.  ,  0.4 ,  0.29, -0.15, -0.3 , -0.13,  0.22, -0.27,  0.14,\n",
       "        -0.12],\n",
       "       [ 0.4 ,  1.  ,  0.11, -0.15, -0.34, -0.14,  0.05, -0.7 ,  0.2 ,\n",
       "        -0.31],\n",
       "       [ 0.29,  0.11,  1.  ,  0.27, -0.47,  0.24,  0.2 , -0.15, -0.08,\n",
       "         0.44],\n",
       "       [-0.15, -0.15,  0.27,  1.  ,  0.09,  0.75,  0.18,  0.23, -0.27,\n",
       "         0.16],\n",
       "       [-0.3 , -0.34, -0.47,  0.09,  1.  ,  0.11, -0.06,  0.43, -0.08,\n",
       "        -0.28],\n",
       "       [-0.13, -0.14,  0.24,  0.75,  0.11,  1.  ,  0.21,  0.23, -0.2 ,\n",
       "         0.12],\n",
       "       [ 0.22,  0.05,  0.2 ,  0.18, -0.06,  0.21,  1.  ,  0.04, -0.47,\n",
       "        -0.05],\n",
       "       [-0.27, -0.7 , -0.15,  0.23,  0.43,  0.23,  0.04,  1.  , -0.18,\n",
       "         0.08],\n",
       "       [ 0.14,  0.2 , -0.08, -0.27, -0.08, -0.2 , -0.47, -0.18,  1.  ,\n",
       "        -0.16],\n",
       "       [-0.12, -0.31,  0.44,  0.16, -0.28,  0.12, -0.05,  0.08, -0.16,  1.  ]])"
      ]
     },
     "execution_count": 116,
     "metadata": {},
     "output_type": "execute_result"
    }
   ],
   "source": [
    "np.corrcoef(traits_df.T).round(2)"
   ]
  },
  {
   "cell_type": "code",
   "execution_count": 148,
   "metadata": {
    "collapsed": true
   },
   "outputs": [],
   "source": [
    "from sklearn.decomposition import PCA, FastICA\n",
    "traits_df = pandas2ri.ri2py(r.dat.rx2('features').rx2('traits'))\n",
    "pca = PCA()\n",
    "pca.fit(traits_df.as_matrix())\n",
    "traits_pca = pca.fit_transform(traits_df.as_matrix())"
   ]
  },
  {
   "cell_type": "code",
   "execution_count": 150,
   "metadata": {
    "collapsed": false
   },
   "outputs": [
    {
     "data": {
      "text/plain": [
       "(1728, 10)"
      ]
     },
     "execution_count": 150,
     "metadata": {},
     "output_type": "execute_result"
    }
   ],
   "source": [
    "traits_pca.shape"
   ]
  },
  {
   "cell_type": "code",
   "execution_count": null,
   "metadata": {
    "collapsed": true
   },
   "outputs": [],
   "source": []
  },
  {
   "cell_type": "markdown",
   "metadata": {},
   "source": [
    "## Shape onto Age and Gender"
   ]
  },
  {
   "cell_type": "code",
   "execution_count": 7,
   "metadata": {
    "collapsed": false
   },
   "outputs": [
    {
     "name": "stdout",
     "output_type": "stream",
     "text": [
      "True\n"
     ]
    },
    {
     "data": {
      "text/html": [
       "<div>\n",
       "<table border=\"1\" class=\"dataframe\">\n",
       "  <thead>\n",
       "    <tr style=\"text-align: right;\">\n",
       "      <th></th>\n",
       "      <th>Unnamed: 0</th>\n",
       "      <th>age.raw</th>\n",
       "      <th>age.pred</th>\n",
       "      <th>age.resid</th>\n",
       "      <th>makeup.raw</th>\n",
       "      <th>makeup.pred</th>\n",
       "      <th>makeup.resid</th>\n",
       "      <th>trait01.raw</th>\n",
       "      <th>trait01.pred</th>\n",
       "      <th>trait01.resid</th>\n",
       "      <th>...</th>\n",
       "      <th>glasses.raw</th>\n",
       "      <th>glasses.pred</th>\n",
       "      <th>glasses.resid</th>\n",
       "      <th>glasses.probs</th>\n",
       "      <th>glasses.resid.probs</th>\n",
       "      <th>gender.raw</th>\n",
       "      <th>gender.pred</th>\n",
       "      <th>gender.resid</th>\n",
       "      <th>gender.probs</th>\n",
       "      <th>gender.resid.probs</th>\n",
       "    </tr>\n",
       "  </thead>\n",
       "  <tbody>\n",
       "    <tr>\n",
       "      <th>482</th>\n",
       "      <td>Lynne_McGranger</td>\n",
       "      <td>3.666667</td>\n",
       "      <td>2.944083</td>\n",
       "      <td>0.691593</td>\n",
       "      <td>1.333333</td>\n",
       "      <td>1.112445</td>\n",
       "      <td>0.190051</td>\n",
       "      <td>0.479636</td>\n",
       "      <td>0.261258</td>\n",
       "      <td>0.206155</td>\n",
       "      <td>...</td>\n",
       "      <td>0</td>\n",
       "      <td>0</td>\n",
       "      <td>-1.028497</td>\n",
       "      <td>0.939604</td>\n",
       "      <td>-1.029707</td>\n",
       "      <td>0</td>\n",
       "      <td>0</td>\n",
       "      <td>-1.05665</td>\n",
       "      <td>0.983952</td>\n",
       "      <td>-1.009668</td>\n",
       "    </tr>\n",
       "    <tr>\n",
       "      <th>433</th>\n",
       "      <td>Larry_Hagman_U215_vid05_clip01_2secs</td>\n",
       "      <td>1.000000</td>\n",
       "      <td>2.377406</td>\n",
       "      <td>-1.386633</td>\n",
       "      <td>0.200000</td>\n",
       "      <td>0.203751</td>\n",
       "      <td>0.028911</td>\n",
       "      <td>0.239675</td>\n",
       "      <td>0.568067</td>\n",
       "      <td>-0.348985</td>\n",
       "      <td>...</td>\n",
       "      <td>1</td>\n",
       "      <td>1</td>\n",
       "      <td>1.111111</td>\n",
       "      <td>0.001560</td>\n",
       "      <td>1.024216</td>\n",
       "      <td>1</td>\n",
       "      <td>1</td>\n",
       "      <td>1.06357</td>\n",
       "      <td>0.039662</td>\n",
       "      <td>1.012489</td>\n",
       "    </tr>\n",
       "    <tr>\n",
       "      <th>499</th>\n",
       "      <td>manyfaces01_vid03_clip01_face08_2secs</td>\n",
       "      <td>0.200000</td>\n",
       "      <td>1.183398</td>\n",
       "      <td>-0.946768</td>\n",
       "      <td>0.000000</td>\n",
       "      <td>0.013805</td>\n",
       "      <td>0.032132</td>\n",
       "      <td>-0.929445</td>\n",
       "      <td>-0.159406</td>\n",
       "      <td>-0.770787</td>\n",
       "      <td>...</td>\n",
       "      <td>0</td>\n",
       "      <td>0</td>\n",
       "      <td>-1.028497</td>\n",
       "      <td>0.996360</td>\n",
       "      <td>-1.019173</td>\n",
       "      <td>1</td>\n",
       "      <td>1</td>\n",
       "      <td>1.06357</td>\n",
       "      <td>0.038282</td>\n",
       "      <td>1.012326</td>\n",
       "    </tr>\n",
       "    <tr>\n",
       "      <th>350</th>\n",
       "      <td>Jacques_Rogge_U089_vid02_clip06_2secs</td>\n",
       "      <td>2.000000</td>\n",
       "      <td>1.861826</td>\n",
       "      <td>0.148749</td>\n",
       "      <td>0.200000</td>\n",
       "      <td>0.427965</td>\n",
       "      <td>-0.210971</td>\n",
       "      <td>1.244768</td>\n",
       "      <td>0.270533</td>\n",
       "      <td>0.961759</td>\n",
       "      <td>...</td>\n",
       "      <td>0</td>\n",
       "      <td>0</td>\n",
       "      <td>-1.028497</td>\n",
       "      <td>0.999998</td>\n",
       "      <td>-1.018642</td>\n",
       "      <td>1</td>\n",
       "      <td>1</td>\n",
       "      <td>1.06357</td>\n",
       "      <td>0.180085</td>\n",
       "      <td>1.047773</td>\n",
       "    </tr>\n",
       "    <tr>\n",
       "      <th>655</th>\n",
       "      <td>Steevy_Boulay</td>\n",
       "      <td>2.000000</td>\n",
       "      <td>1.367899</td>\n",
       "      <td>0.661645</td>\n",
       "      <td>0.200000</td>\n",
       "      <td>0.412224</td>\n",
       "      <td>-0.194129</td>\n",
       "      <td>-1.501190</td>\n",
       "      <td>-0.741633</td>\n",
       "      <td>-0.744423</td>\n",
       "      <td>...</td>\n",
       "      <td>0</td>\n",
       "      <td>0</td>\n",
       "      <td>-1.028497</td>\n",
       "      <td>0.999942</td>\n",
       "      <td>-1.018650</td>\n",
       "      <td>1</td>\n",
       "      <td>1</td>\n",
       "      <td>1.06357</td>\n",
       "      <td>0.143207</td>\n",
       "      <td>1.033587</td>\n",
       "    </tr>\n",
       "  </tbody>\n",
       "</table>\n",
       "<p>5 rows × 32 columns</p>\n",
       "</div>"
      ],
      "text/plain": [
       "                                Unnamed: 0   age.raw  age.pred  age.resid  \\\n",
       "482                        Lynne_McGranger  3.666667  2.944083   0.691593   \n",
       "433   Larry_Hagman_U215_vid05_clip01_2secs  1.000000  2.377406  -1.386633   \n",
       "499  manyfaces01_vid03_clip01_face08_2secs  0.200000  1.183398  -0.946768   \n",
       "350  Jacques_Rogge_U089_vid02_clip06_2secs  2.000000  1.861826   0.148749   \n",
       "655                          Steevy_Boulay  2.000000  1.367899   0.661645   \n",
       "\n",
       "     makeup.raw  makeup.pred  makeup.resid  trait01.raw  trait01.pred  \\\n",
       "482    1.333333     1.112445      0.190051     0.479636      0.261258   \n",
       "433    0.200000     0.203751      0.028911     0.239675      0.568067   \n",
       "499    0.000000     0.013805      0.032132    -0.929445     -0.159406   \n",
       "350    0.200000     0.427965     -0.210971     1.244768      0.270533   \n",
       "655    0.200000     0.412224     -0.194129    -1.501190     -0.741633   \n",
       "\n",
       "     trait01.resid         ...          glasses.raw  glasses.pred  \\\n",
       "482       0.206155         ...                    0             0   \n",
       "433      -0.348985         ...                    1             1   \n",
       "499      -0.770787         ...                    0             0   \n",
       "350       0.961759         ...                    0             0   \n",
       "655      -0.744423         ...                    0             0   \n",
       "\n",
       "     glasses.resid  glasses.probs  glasses.resid.probs  gender.raw  \\\n",
       "482      -1.028497       0.939604            -1.029707           0   \n",
       "433       1.111111       0.001560             1.024216           1   \n",
       "499      -1.028497       0.996360            -1.019173           1   \n",
       "350      -1.028497       0.999998            -1.018642           1   \n",
       "655      -1.028497       0.999942            -1.018650           1   \n",
       "\n",
       "     gender.pred  gender.resid  gender.probs  gender.resid.probs  \n",
       "482            0      -1.05665      0.983952           -1.009668  \n",
       "433            1       1.06357      0.039662            1.012489  \n",
       "499            1       1.06357      0.038282            1.012326  \n",
       "350            1       1.06357      0.180085            1.047773  \n",
       "655            1       1.06357      0.143207            1.033587  \n",
       "\n",
       "[5 rows x 32 columns]"
      ]
     },
     "execution_count": 7,
     "metadata": {},
     "output_type": "execute_result"
    }
   ],
   "source": [
    "df = pd.read_csv(\"../../120_features/demo+traits_raw+pred+resids.csv\")\n",
    "feat_vnames = df.ix[:,0]\n",
    "\n",
    "# We want to reorder the dataframe above based on the timing info\n",
    "timing = pandas2ri.ri2py(r.dat.rx2('basics').rx2('timing'))\n",
    "inds   = [ (x == feat_vnames).nonzero()[0][0] for x in timing.video ]\n",
    "\n",
    "print( np.all(feat_vnames[inds] == timing.video) )\n",
    "\n",
    "df.ix[inds,:].head()"
   ]
  },
  {
   "cell_type": "code",
   "execution_count": 99,
   "metadata": {
    "collapsed": false
   },
   "outputs": [
    {
     "data": {
      "text/html": [
       "<div>\n",
       "<table border=\"1\" class=\"dataframe\">\n",
       "  <thead>\n",
       "    <tr style=\"text-align: right;\">\n",
       "      <th></th>\n",
       "      <th>Unnamed: 0</th>\n",
       "      <th>shape.gender</th>\n",
       "      <th>gender</th>\n",
       "      <th>shape.age</th>\n",
       "      <th>age</th>\n",
       "    </tr>\n",
       "  </thead>\n",
       "  <tbody>\n",
       "    <tr>\n",
       "      <th>0</th>\n",
       "      <td>Ahmed_Chalabi_U000_vid06_clip05_2secs</td>\n",
       "      <td>1.000000e+00</td>\n",
       "      <td>Male</td>\n",
       "      <td>3.275345</td>\n",
       "      <td>4.600000</td>\n",
       "    </tr>\n",
       "    <tr>\n",
       "      <th>1</th>\n",
       "      <td>Aidan_Quinn_vid01_clip03_2secs</td>\n",
       "      <td>1.000000e+00</td>\n",
       "      <td>Male</td>\n",
       "      <td>3.343797</td>\n",
       "      <td>3.111111</td>\n",
       "    </tr>\n",
       "    <tr>\n",
       "      <th>2</th>\n",
       "      <td>Aisha_Hinds_vid05_clip02_2secs</td>\n",
       "      <td>5.029532e-05</td>\n",
       "      <td>Female</td>\n",
       "      <td>2.129432</td>\n",
       "      <td>2.250000</td>\n",
       "    </tr>\n",
       "    <tr>\n",
       "      <th>3</th>\n",
       "      <td>Aishwarya_Rai_vid05_clip06_2secs</td>\n",
       "      <td>1.313810e-08</td>\n",
       "      <td>Female</td>\n",
       "      <td>1.717749</td>\n",
       "      <td>2.200000</td>\n",
       "    </tr>\n",
       "    <tr>\n",
       "      <th>4</th>\n",
       "      <td>AJ_Cook_vid03_clip01_2secs</td>\n",
       "      <td>9.999980e-01</td>\n",
       "      <td>Male</td>\n",
       "      <td>3.436241</td>\n",
       "      <td>2.777778</td>\n",
       "    </tr>\n",
       "  </tbody>\n",
       "</table>\n",
       "</div>"
      ],
      "text/plain": [
       "                              Unnamed: 0  shape.gender  gender  shape.age  \\\n",
       "0  Ahmed_Chalabi_U000_vid06_clip05_2secs  1.000000e+00    Male   3.275345   \n",
       "1         Aidan_Quinn_vid01_clip03_2secs  1.000000e+00    Male   3.343797   \n",
       "2         Aisha_Hinds_vid05_clip02_2secs  5.029532e-05  Female   2.129432   \n",
       "3       Aishwarya_Rai_vid05_clip06_2secs  1.313810e-08  Female   1.717749   \n",
       "4             AJ_Cook_vid03_clip01_2secs  9.999980e-01    Male   3.436241   \n",
       "\n",
       "        age  \n",
       "0  4.600000  \n",
       "1  3.111111  \n",
       "2  2.250000  \n",
       "3  2.200000  \n",
       "4  2.777778  "
      ]
     },
     "execution_count": 99,
     "metadata": {},
     "output_type": "execute_result"
    }
   ],
   "source": [
    "df2 = pd.read_csv(\"z_demos_givenshape.csv\")\n",
    "feat_vnames = df2.ix[:,0]\n",
    "df2.head()"
   ]
  },
  {
   "cell_type": "code",
   "execution_count": 24,
   "metadata": {
    "collapsed": false
   },
   "outputs": [],
   "source": [
    "# We want to reorder the dataframe above based on the timing info\n",
    "timing = pandas2ri.ri2py(r.dat.rx2('basics').rx2('timing'))\n",
    "inds   = [ (x == feat_vnames).nonzero()[0][0] for x in timing.video ]"
   ]
  },
  {
   "cell_type": "code",
   "execution_count": 101,
   "metadata": {
    "collapsed": false
   },
   "outputs": [
    {
     "data": {
      "text/plain": [
       "True"
      ]
     },
     "execution_count": 101,
     "metadata": {},
     "output_type": "execute_result"
    }
   ],
   "source": [
    "np.all(feat_vnames[inds] == timing.video)"
   ]
  },
  {
   "cell_type": "code",
   "execution_count": 102,
   "metadata": {
    "collapsed": true
   },
   "outputs": [],
   "source": [
    "df2 = df2.loc[inds,:]"
   ]
  },
  {
   "cell_type": "code",
   "execution_count": 103,
   "metadata": {
    "collapsed": false
   },
   "outputs": [
    {
     "data": {
      "text/html": [
       "<div>\n",
       "<table border=\"1\" class=\"dataframe\">\n",
       "  <thead>\n",
       "    <tr style=\"text-align: right;\">\n",
       "      <th></th>\n",
       "      <th>Unnamed: 0</th>\n",
       "      <th>shape.gender</th>\n",
       "      <th>gender</th>\n",
       "      <th>shape.age</th>\n",
       "      <th>age</th>\n",
       "    </tr>\n",
       "  </thead>\n",
       "  <tbody>\n",
       "    <tr>\n",
       "      <th>482</th>\n",
       "      <td>Lynne_McGranger</td>\n",
       "      <td>1.819804e-09</td>\n",
       "      <td>Female</td>\n",
       "      <td>2.519954</td>\n",
       "      <td>3.666667</td>\n",
       "    </tr>\n",
       "    <tr>\n",
       "      <th>433</th>\n",
       "      <td>Larry_Hagman_U215_vid05_clip01_2secs</td>\n",
       "      <td>7.735571e-01</td>\n",
       "      <td>Male</td>\n",
       "      <td>1.920023</td>\n",
       "      <td>1.000000</td>\n",
       "    </tr>\n",
       "    <tr>\n",
       "      <th>499</th>\n",
       "      <td>manyfaces01_vid03_clip01_face08_2secs</td>\n",
       "      <td>9.876172e-01</td>\n",
       "      <td>Male</td>\n",
       "      <td>1.366866</td>\n",
       "      <td>0.200000</td>\n",
       "    </tr>\n",
       "    <tr>\n",
       "      <th>350</th>\n",
       "      <td>Jacques_Rogge_U089_vid02_clip06_2secs</td>\n",
       "      <td>9.999587e-01</td>\n",
       "      <td>Male</td>\n",
       "      <td>1.885887</td>\n",
       "      <td>2.000000</td>\n",
       "    </tr>\n",
       "    <tr>\n",
       "      <th>655</th>\n",
       "      <td>Steevy_Boulay</td>\n",
       "      <td>9.999994e-01</td>\n",
       "      <td>Male</td>\n",
       "      <td>1.989886</td>\n",
       "      <td>2.000000</td>\n",
       "    </tr>\n",
       "  </tbody>\n",
       "</table>\n",
       "</div>"
      ],
      "text/plain": [
       "                                Unnamed: 0  shape.gender  gender  shape.age  \\\n",
       "482                        Lynne_McGranger  1.819804e-09  Female   2.519954   \n",
       "433   Larry_Hagman_U215_vid05_clip01_2secs  7.735571e-01    Male   1.920023   \n",
       "499  manyfaces01_vid03_clip01_face08_2secs  9.876172e-01    Male   1.366866   \n",
       "350  Jacques_Rogge_U089_vid02_clip06_2secs  9.999587e-01    Male   1.885887   \n",
       "655                          Steevy_Boulay  9.999994e-01    Male   1.989886   \n",
       "\n",
       "          age  \n",
       "482  3.666667  \n",
       "433  1.000000  \n",
       "499  0.200000  \n",
       "350  2.000000  \n",
       "655  2.000000  "
      ]
     },
     "execution_count": 103,
     "metadata": {},
     "output_type": "execute_result"
    }
   ],
   "source": [
    "df2.head()"
   ]
  },
  {
   "cell_type": "code",
   "execution_count": 104,
   "metadata": {
    "collapsed": true
   },
   "outputs": [],
   "source": [
    "df2.loc[:,'gender'] = (df2.gender == 'Female')*1 - 0.5"
   ]
  },
  {
   "cell_type": "code",
   "execution_count": 105,
   "metadata": {
    "collapsed": false
   },
   "outputs": [
    {
     "data": {
      "text/plain": [
       "(1728, 1)"
      ]
     },
     "execution_count": 105,
     "metadata": {},
     "output_type": "execute_result"
    }
   ],
   "source": [
    "np.array(df2['gender'])[:,None].shape"
   ]
  },
  {
   "cell_type": "code",
   "execution_count": 106,
   "metadata": {
    "collapsed": false
   },
   "outputs": [],
   "source": [
    "fit = r.lm('gender ~ shape.gender', data=df2)\n",
    "df2.loc[:,'resid.gender'] = np.array(fit.rx2('residuals'))\n",
    "\n",
    "fit = r.lm('age ~ shape.age', data=df2)\n",
    "df2.loc[:,'resid.age'] = np.array(fit.rx2('residuals'))"
   ]
  },
  {
   "cell_type": "code",
   "execution_count": 110,
   "metadata": {
    "collapsed": false
   },
   "outputs": [],
   "source": [
    "df3 = df2.ix[:,['shape.gender', 'resid.gender', 'shape.age', 'resid.age']]"
   ]
  },
  {
   "cell_type": "code",
   "execution_count": 108,
   "metadata": {
    "collapsed": false
   },
   "outputs": [
    {
     "data": {
      "text/plain": [
       "array([[ 1.    , -0.6504,  0.3959,  0.2463,  0.    ,  0.0251],\n",
       "       [-0.6504,  1.    , -0.2997, -0.2061,  0.7596, -0.043 ],\n",
       "       [ 0.3959, -0.2997,  1.    ,  0.57  , -0.0556,  0.    ],\n",
       "       [ 0.2463, -0.2061,  0.57  ,  1.    , -0.0605,  0.8216],\n",
       "       [ 0.    ,  0.7596, -0.0556, -0.0605,  1.    , -0.0351],\n",
       "       [ 0.0251, -0.043 ,  0.    ,  0.8216, -0.0351,  1.    ]])"
      ]
     },
     "execution_count": 108,
     "metadata": {},
     "output_type": "execute_result"
    }
   ],
   "source": [
    "np.corrcoef(df2.ix[:,1:].T).round(4)"
   ]
  },
  {
   "cell_type": "code",
   "execution_count": 111,
   "metadata": {
    "collapsed": false
   },
   "outputs": [
    {
     "data": {
      "text/plain": [
       "array([[ 1.    ,  0.    ,  0.3959,  0.0251],\n",
       "       [ 0.    ,  1.    , -0.0556, -0.0351],\n",
       "       [ 0.3959, -0.0556,  1.    ,  0.    ],\n",
       "       [ 0.0251, -0.0351,  0.    ,  1.    ]])"
      ]
     },
     "execution_count": 111,
     "metadata": {},
     "output_type": "execute_result"
    }
   ],
   "source": [
    "np.corrcoef(df3.T).round(4)"
   ]
  },
  {
   "cell_type": "code",
   "execution_count": 112,
   "metadata": {
    "collapsed": false
   },
   "outputs": [
    {
     "name": "stdout",
     "output_type": "stream",
     "text": [
      "             shape.gender resid.gender shape.age resid.age\n",
      "shape.gender       1.0000       0.0000    0.3959    0.0251\n",
      "resid.gender       0.0000       1.0000   -0.0556   -0.0351\n",
      "shape.age          0.3959      -0.0556    1.0000    0.0000\n",
      "resid.age          0.0251      -0.0351    0.0000    1.0000\n",
      "\n"
     ]
    }
   ],
   "source": [
    "import pandas.rpy.common as com\n",
    "#df3.columns = ['shape.gender', 'resid.gender', 'shape.age', 'resid.age']\n",
    "df3.index = range(df3.shape[0])\n",
    "r_dataframe = com.convert_to_r_dataframe(df3)\n",
    "print r.round(r.cor(r_dataframe), 4)"
   ]
  },
  {
   "cell_type": "code",
   "execution_count": 94,
   "metadata": {
    "collapsed": false
   },
   "outputs": [
    {
     "name": "stdout",
     "output_type": "stream",
     "text": [
      "                   shape.gender  gender shape.age     age resid.gender\n",
      "shape.gender             1.0000 -0.6504    0.3959  0.2463       0.0000\n",
      "gender                  -0.6504  1.0000   -0.2997 -0.2061       0.7596\n",
      "shape.age                0.3959 -0.2997    1.0000  0.5700      -0.0556\n",
      "age                      0.2463 -0.2061    0.5700  1.0000      -0.0605\n",
      "resid.gender             0.0000  0.7596   -0.0556 -0.0605       1.0000\n",
      "resid.age                0.0251 -0.0430    0.0000  0.8216      -0.0351\n",
      "shape                    0.7610 -0.5248    0.8970  0.5213      -0.0393\n",
      "resid.shape.gender       0.6488 -0.3870   -0.4420 -0.2318       0.0461\n",
      "resid.shape.age         -0.6488  0.3870    0.4420  0.2318      -0.0461\n",
      "                   resid.age   shape resid.shape.gender resid.shape.age\n",
      "shape.gender          0.0251  0.7610             0.6488         -0.6488\n",
      "gender               -0.0430 -0.5248            -0.3870          0.3870\n",
      "shape.age             0.0000  0.8970            -0.4420          0.4420\n",
      "age                   0.8216  0.5213            -0.2318          0.2318\n",
      "resid.gender         -0.0351 -0.0393             0.0461         -0.0461\n",
      "resid.age             1.0000  0.0121             0.0245         -0.0245\n",
      "shape                 0.0121  1.0000             0.0000          0.0000\n",
      "resid.shape.gender    0.0245  0.0000             1.0000         -1.0000\n",
      "resid.shape.age      -0.0245  0.0000            -1.0000          1.0000\n",
      "\n"
     ]
    }
   ],
   "source": [
    "import pandas.rpy.common as com\n",
    "df2.index = range(df2.shape[0])\n",
    "r_dataframe = com.convert_to_r_dataframe(df2.ix[:,1:])\n",
    "print r.round(r.cor(r_dataframe), 4)"
   ]
  },
  {
   "cell_type": "code",
   "execution_count": null,
   "metadata": {
    "collapsed": true
   },
   "outputs": [],
   "source": [
    "def load_demos_givenshapes(df2):\n",
    "    \n",
    "    # Make gender into numbers\n",
    "    df2.loc[:,'gender'] = (df2.gender == 'Female')*1 - 0.5\n",
    "    \n",
    "    # Regress out shape info from gender\n",
    "    fit = r.lm('gender ~ shape.gender', data=df2)\n",
    "    df2.loc[:,'resid.gender'] = np.array(fit.rx2('residuals'))\n",
    "    \n",
    "    # Do same for age\n",
    "    fit = r.lm('age ~ shape.age', data=df2)\n",
    "    df2.loc[:,'resid.age'] = np.array(fit.rx2('residuals'))\n",
    "    \n",
    "    # Now get the average shape info from gender and age\n",
    "    df2.loc[:,'shape'] = (df2['shape.gender'] + df2['shape.age'])/2.\n",
    "    \n",
    "    # Then regress that average out from each of the individuals\n",
    "    fit = r.lm('shape.gender ~ shape', data=df2)\n",
    "    df2.loc[:,'resid.shape.gender'] = np.array(fit.rx2('residuals'))\n",
    "    fit = r.lm('shape.age ~ shape', data=df2)\n",
    "    df2.loc[:,'resid.shape.age'] = np.array(fit.rx2('residuals'))\n",
    "    \n",
    "    # Select the columns that you want\n",
    "    df3 = df2.ix[:,['shape', 'resid.shape.gender', 'resid.gender', 'resid.shape.age', 'resid.age']]\n",
    "    omat = df3.as_matrix()\n",
    "    \n",
    "    # Save the column names\n",
    "    cnames = ['shape', 'shape_gender', 'gender', 'shape_age', 'age']\n",
    "    \n",
    "    return (cnames, omat)"
   ]
  },
  {
   "cell_type": "code",
   "execution_count": 25,
   "metadata": {
    "collapsed": false
   },
   "outputs": [],
   "source": [
    "df2 = pd.read_csv(\"z_traitsfa_givenshape.csv\")\n",
    "feat_vnames = df2.ix[:,0]\n",
    "inds   = [ (x == feat_vnames).nonzero()[0][0] for x in timing.video ]\n",
    "df2 = df2.loc[inds,:]\n",
    "\n",
    "# Select the columns that you want\n",
    "cnames = []\n",
    "for i in range(6):\n",
    "    cnames.append('shape.trait%i' % (i+1))\n",
    "    cnames.append('resid.trait%i' % (i+1))\n",
    "df3 = df2.ix[:,cnames]\n",
    "omat = df3.as_matrix()"
   ]
  },
  {
   "cell_type": "code",
   "execution_count": 27,
   "metadata": {
    "collapsed": false
   },
   "outputs": [
    {
     "data": {
      "text/html": [
       "<div>\n",
       "<table border=\"1\" class=\"dataframe\">\n",
       "  <thead>\n",
       "    <tr style=\"text-align: right;\">\n",
       "      <th></th>\n",
       "      <th>Unnamed: 0</th>\n",
       "      <th>shape.trait1</th>\n",
       "      <th>resid.trait1</th>\n",
       "      <th>trait1</th>\n",
       "      <th>shape.trait2</th>\n",
       "      <th>resid.trait2</th>\n",
       "      <th>trait2</th>\n",
       "      <th>shape.trait3</th>\n",
       "      <th>resid.trait3</th>\n",
       "      <th>trait3</th>\n",
       "      <th>shape.trait4</th>\n",
       "      <th>resid.trait4</th>\n",
       "      <th>trait4</th>\n",
       "      <th>shape.trait5</th>\n",
       "      <th>resid.trait5</th>\n",
       "      <th>trait5</th>\n",
       "      <th>shape.trait6</th>\n",
       "      <th>resid.trait6</th>\n",
       "      <th>trait6</th>\n",
       "    </tr>\n",
       "  </thead>\n",
       "  <tbody>\n",
       "    <tr>\n",
       "      <th>482</th>\n",
       "      <td>Lynne_McGranger</td>\n",
       "      <td>0.377390</td>\n",
       "      <td>0.077966</td>\n",
       "      <td>0.453085</td>\n",
       "      <td>0.276889</td>\n",
       "      <td>-0.479171</td>\n",
       "      <td>-0.212623</td>\n",
       "      <td>-0.144517</td>\n",
       "      <td>-0.982691</td>\n",
       "      <td>-1.123844</td>\n",
       "      <td>0.117481</td>\n",
       "      <td>0.898306</td>\n",
       "      <td>1.088175</td>\n",
       "      <td>-0.253472</td>\n",
       "      <td>-0.564142</td>\n",
       "      <td>-0.608350</td>\n",
       "      <td>0.141007</td>\n",
       "      <td>-0.576507</td>\n",
       "      <td>-0.444232</td>\n",
       "    </tr>\n",
       "    <tr>\n",
       "      <th>433</th>\n",
       "      <td>Larry_Hagman_U215_vid05_clip01_2secs</td>\n",
       "      <td>0.426403</td>\n",
       "      <td>-0.219128</td>\n",
       "      <td>0.204205</td>\n",
       "      <td>0.447822</td>\n",
       "      <td>0.158243</td>\n",
       "      <td>0.588582</td>\n",
       "      <td>-0.424644</td>\n",
       "      <td>1.012946</td>\n",
       "      <td>0.587300</td>\n",
       "      <td>0.077353</td>\n",
       "      <td>0.120756</td>\n",
       "      <td>0.245249</td>\n",
       "      <td>0.032783</td>\n",
       "      <td>0.338315</td>\n",
       "      <td>0.342729</td>\n",
       "      <td>0.017972</td>\n",
       "      <td>0.221338</td>\n",
       "      <td>0.230810</td>\n",
       "    </tr>\n",
       "    <tr>\n",
       "      <th>499</th>\n",
       "      <td>manyfaces01_vid03_clip01_face08_2secs</td>\n",
       "      <td>-0.129350</td>\n",
       "      <td>-0.736650</td>\n",
       "      <td>-0.860008</td>\n",
       "      <td>0.257415</td>\n",
       "      <td>-0.491373</td>\n",
       "      <td>-0.243485</td>\n",
       "      <td>0.348265</td>\n",
       "      <td>-0.728829</td>\n",
       "      <td>-0.369517</td>\n",
       "      <td>-0.179699</td>\n",
       "      <td>-0.463558</td>\n",
       "      <td>-0.757848</td>\n",
       "      <td>0.330098</td>\n",
       "      <td>0.829982</td>\n",
       "      <td>0.884896</td>\n",
       "      <td>-0.286467</td>\n",
       "      <td>0.906438</td>\n",
       "      <td>0.612043</td>\n",
       "    </tr>\n",
       "    <tr>\n",
       "      <th>350</th>\n",
       "      <td>Jacques_Rogge_U089_vid02_clip06_2secs</td>\n",
       "      <td>0.178798</td>\n",
       "      <td>1.043214</td>\n",
       "      <td>1.222979</td>\n",
       "      <td>0.046511</td>\n",
       "      <td>-0.570278</td>\n",
       "      <td>-0.524481</td>\n",
       "      <td>-0.178893</td>\n",
       "      <td>0.619117</td>\n",
       "      <td>0.443052</td>\n",
       "      <td>0.058906</td>\n",
       "      <td>-0.029306</td>\n",
       "      <td>0.065134</td>\n",
       "      <td>0.125046</td>\n",
       "      <td>-0.596559</td>\n",
       "      <td>-0.576475</td>\n",
       "      <td>0.508256</td>\n",
       "      <td>-0.379630</td>\n",
       "      <td>0.119204</td>\n",
       "    </tr>\n",
       "    <tr>\n",
       "      <th>655</th>\n",
       "      <td>Steevy_Boulay</td>\n",
       "      <td>-0.639422</td>\n",
       "      <td>-0.877662</td>\n",
       "      <td>-1.502776</td>\n",
       "      <td>-0.324196</td>\n",
       "      <td>-0.677320</td>\n",
       "      <td>-0.986738</td>\n",
       "      <td>0.182827</td>\n",
       "      <td>0.249862</td>\n",
       "      <td>0.441156</td>\n",
       "      <td>0.101871</td>\n",
       "      <td>-0.402218</td>\n",
       "      <td>-0.237781</td>\n",
       "      <td>0.152435</td>\n",
       "      <td>0.116587</td>\n",
       "      <td>0.141324</td>\n",
       "      <td>0.311457</td>\n",
       "      <td>-0.369885</td>\n",
       "      <td>-0.067480</td>\n",
       "    </tr>\n",
       "  </tbody>\n",
       "</table>\n",
       "</div>"
      ],
      "text/plain": [
       "                                Unnamed: 0  shape.trait1  resid.trait1  \\\n",
       "482                        Lynne_McGranger      0.377390      0.077966   \n",
       "433   Larry_Hagman_U215_vid05_clip01_2secs      0.426403     -0.219128   \n",
       "499  manyfaces01_vid03_clip01_face08_2secs     -0.129350     -0.736650   \n",
       "350  Jacques_Rogge_U089_vid02_clip06_2secs      0.178798      1.043214   \n",
       "655                          Steevy_Boulay     -0.639422     -0.877662   \n",
       "\n",
       "       trait1  shape.trait2  resid.trait2    trait2  shape.trait3  \\\n",
       "482  0.453085      0.276889     -0.479171 -0.212623     -0.144517   \n",
       "433  0.204205      0.447822      0.158243  0.588582     -0.424644   \n",
       "499 -0.860008      0.257415     -0.491373 -0.243485      0.348265   \n",
       "350  1.222979      0.046511     -0.570278 -0.524481     -0.178893   \n",
       "655 -1.502776     -0.324196     -0.677320 -0.986738      0.182827   \n",
       "\n",
       "     resid.trait3    trait3  shape.trait4  resid.trait4    trait4  \\\n",
       "482     -0.982691 -1.123844      0.117481      0.898306  1.088175   \n",
       "433      1.012946  0.587300      0.077353      0.120756  0.245249   \n",
       "499     -0.728829 -0.369517     -0.179699     -0.463558 -0.757848   \n",
       "350      0.619117  0.443052      0.058906     -0.029306  0.065134   \n",
       "655      0.249862  0.441156      0.101871     -0.402218 -0.237781   \n",
       "\n",
       "     shape.trait5  resid.trait5    trait5  shape.trait6  resid.trait6  \\\n",
       "482     -0.253472     -0.564142 -0.608350      0.141007     -0.576507   \n",
       "433      0.032783      0.338315  0.342729      0.017972      0.221338   \n",
       "499      0.330098      0.829982  0.884896     -0.286467      0.906438   \n",
       "350      0.125046     -0.596559 -0.576475      0.508256     -0.379630   \n",
       "655      0.152435      0.116587  0.141324      0.311457     -0.369885   \n",
       "\n",
       "       trait6  \n",
       "482 -0.444232  \n",
       "433  0.230810  \n",
       "499  0.612043  \n",
       "350  0.119204  \n",
       "655 -0.067480  "
      ]
     },
     "execution_count": 27,
     "metadata": {},
     "output_type": "execute_result"
    }
   ],
   "source": [
    "df2.head()"
   ]
  },
  {
   "cell_type": "code",
   "execution_count": 36,
   "metadata": {
    "collapsed": false
   },
   "outputs": [
    {
     "data": {
      "text/plain": [
       "(['shape.trait1',\n",
       "  'resid.trait1',\n",
       "  'shape.trait2',\n",
       "  'resid.trait2',\n",
       "  'shape.trait3',\n",
       "  'resid.trait3',\n",
       "  'shape.trait4',\n",
       "  'resid.trait4',\n",
       "  'shape.trait5',\n",
       "  'resid.trait5',\n",
       "  'shape.trait6',\n",
       "  'resid.trait6'],\n",
       " array([[ 0.61998941,  0.22938528, -0.27617159, ...,  0.65660999,\n",
       "          0.45431506, -0.23090589],\n",
       "        [ 0.13864001,  0.52905331, -0.02439548, ...,  0.49908887,\n",
       "          0.47132391,  0.17759158],\n",
       "        [ 0.59446093,  0.6154013 ,  0.42817143, ..., -0.0665591 ,\n",
       "         -0.60392204,  0.38502804],\n",
       "        ..., \n",
       "        [-0.29111518,  1.24690195,  0.32044439, ...,  1.09169953,\n",
       "         -0.17577261, -0.00733365],\n",
       "        [ 0.04849344, -0.48560833, -0.08958192, ...,  1.54786802,\n",
       "          0.31461865,  0.82482352],\n",
       "        [ 0.29334646,  0.30760277,  0.11737209, ...,  1.05420262,\n",
       "          0.41571903,  0.46755991]]))"
      ]
     },
     "execution_count": 36,
     "metadata": {},
     "output_type": "execute_result"
    }
   ],
   "source": [
    "load_traitfas_givenshapes(timing)\n",
    "\n",
    "\n",
    "## Save the column names\n",
    "#cnames = ['shape_gender', 'resid_gender', 'shape_age', 'resid_age']\n",
    "\n",
    "#return (cnames, omat)"
   ]
  },
  {
   "cell_type": "code",
   "execution_count": 35,
   "metadata": {
    "collapsed": false
   },
   "outputs": [
    {
     "ename": "AttributeError",
     "evalue": "'numpy.ndarray' object has no attribute 'head'",
     "output_type": "error",
     "traceback": [
      "\u001b[1;31m---------------------------------------------------------------------------\u001b[0m",
      "\u001b[1;31mAttributeError\u001b[0m                            Traceback (most recent call last)",
      "\u001b[1;32m<ipython-input-35-334cab173724>\u001b[0m in \u001b[0;36m<module>\u001b[1;34m()\u001b[0m\n\u001b[1;32m----> 1\u001b[1;33m \u001b[0mdf3\u001b[0m\u001b[1;33m.\u001b[0m\u001b[0mhead\u001b[0m\u001b[1;33m(\u001b[0m\u001b[1;33m)\u001b[0m\u001b[1;33m\u001b[0m\u001b[0m\n\u001b[0m",
      "\u001b[1;31mAttributeError\u001b[0m: 'numpy.ndarray' object has no attribute 'head'"
     ]
    }
   ],
   "source": [
    "df3.head()"
   ]
  },
  {
   "cell_type": "code",
   "execution_count": null,
   "metadata": {
    "collapsed": true
   },
   "outputs": [],
   "source": []
  }
 ],
 "metadata": {
  "kernelspec": {
   "display_name": "Python 2",
   "language": "python",
   "name": "python2"
  },
  "language_info": {
   "codemirror_mode": {
    "name": "ipython",
    "version": 2
   },
   "file_extension": ".py",
   "mimetype": "text/x-python",
   "name": "python",
   "nbconvert_exporter": "python",
   "pygments_lexer": "ipython2",
   "version": "2.7.12"
  }
 },
 "nbformat": 4,
 "nbformat_minor": 0
}
