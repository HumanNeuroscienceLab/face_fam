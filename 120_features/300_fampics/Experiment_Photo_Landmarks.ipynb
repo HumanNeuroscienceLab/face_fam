{
 "cells": [
  {
   "cell_type": "markdown",
   "metadata": {},
   "source": [
    "This generates the landmarks for the different face photos shown in the fampics experiment."
   ]
  },
  {
   "cell_type": "code",
   "execution_count": 1,
   "metadata": {
    "collapsed": true
   },
   "outputs": [],
   "source": [
    "%matplotlib inline\n",
    "import matplotlib\n",
    "import matplotlib.pyplot as plt\n",
    "\n",
    "import os\n",
    "from glob import glob\n",
    "\n",
    "import numpy as np\n",
    "import pandas as pd\n",
    "\n",
    "import skimage.io as io\n",
    "io.use_plugin('matplotlib')\n",
    "\n",
    "import moviepy.editor as mpy\n",
    "\n",
    "import menpo\n",
    "import menpo.io as mio\n",
    "from menpo.io import export_image, export_landmark_file\n",
    "from menpowidgets import visualize_images\n",
    "\n",
    "from pathlib import Path\n",
    "\n",
    "from tqdm import tqdm"
   ]
  },
  {
   "cell_type": "code",
   "execution_count": 2,
   "metadata": {
    "collapsed": true
   },
   "outputs": [],
   "source": [
    "import cv2\n",
    "from menpo.shape import PointCloud\n",
    "from menpo.shape import PointDirectedGraph\n",
    "from menpo.shape import bounding_box\n",
    "\n",
    "from menpodetect.dlib import load_dlib_frontal_face_detector\n",
    "from menpodetect.pico import load_pico_frontal_face_detector\n",
    "from menpodetect.ffld2 import load_ffld2_frontal_face_detector\n",
    "\n",
    "dlib_detector = load_dlib_frontal_face_detector()\n",
    "pico_detector = load_pico_frontal_face_detector()\n",
    "ffld2_detector = load_ffld2_frontal_face_detector()\n",
    "\n",
    "from menpofit.dlib import DlibWrapper as dlib_fitter\n",
    "predictor_path = \"/data1/famface01/data/misc/shape_predictor_68_face_landmarks.dat\"\n",
    "dlib = dlib_fitter(predictor_path)\n",
    "\n",
    "from menpo.landmark import face_ibug_68_to_face_ibug_68_trimesh, face_ibug_68_to_face_ibug_68, labeller\n",
    "\n",
    "face_parts = {\n",
    "    'chin': range(17),              # 0:16\n",
    "    'left-eyebrow': range(17,22),   # 17:21\n",
    "    'right-eyebrow': range(22,27),  # 22:26\n",
    "    'nose': range(27,36),           # 27:35\n",
    "    'left-eye': range(36,42),       # 36:41\n",
    "    'right-eye': range(42,48),      # 42:47\n",
    "    'outer-mouth': range(48,60),    # 48:59\n",
    "    'inner-mouth': range(60,68)     # 60:67\n",
    "}\n",
    "face_parts['eyebrow'] = face_parts['left-eyebrow'] + face_parts['right-eyebrow']\n",
    "face_parts['eye'] = face_parts['left-eye'] + face_parts['right-eye']\n",
    "\n",
    "blue = (255,0,0)\n",
    "red  = (0,0,255)\n",
    "green= (0,255,0)\n",
    "\n",
    "\n",
    "def add_feature(im, land, part, isClosed, color, *args, **kwrds):\n",
    "    pts = land[face_parts[part],]\n",
    "    pts = pts.reshape((-1,1,2))\n",
    "    cv2.polylines(im, [pts], isClosed, color, *args, **kwrds)\n",
    "\n",
    "def add_landmarks(img, land, color=red, thick=1):\n",
    "  add_feature(img, land, 'chin', False, color, thick)\n",
    "  add_feature(img, land, 'left-eyebrow', False, color, thick)\n",
    "  add_feature(img, land, 'right-eyebrow', False, color, thick)\n",
    "  add_feature(img, land, 'nose', False, color, thick)\n",
    "  add_feature(img, land, 'left-eye', True, color, thick)\n",
    "  add_feature(img, land, 'right-eye', True, color, thick)\n",
    "  add_feature(img, land, 'outer-mouth', True, color, thick)\n",
    "  add_feature(img, land, 'inner-mouth', True, color, thick)\n",
    "  return img\n",
    "\n",
    "\n",
    "def image_to_menpo(image):\n",
    "    menpo_image = menpo.image.Image(np.rollaxis(image, 2, 0))\n",
    "    return menpo_image\n",
    "\n",
    "def image_to_menpo_float32(image):\n",
    "    image = np.rollaxis(image, 2, 0)\n",
    "    image = menpo.image.base.normalize_pixels_range(image).astype(np.float32)\n",
    "    menpo_image = menpo.image.Image(image)\n",
    "    return menpo_image\n",
    "\n",
    "def menpo_to_image(menpo_image):\n",
    "    image = np.rollaxis(menpo_image.pixels, 0, 3)\n",
    "    #np.stack((menpo_image.pixels[0,:,:], menpo_image.pixels[1,:,:], menpo_image.pixels[2,:,:]), axis=-1)\n",
    "    return image\n",
    "\n",
    "def add_landmarks_menpo(orig_img, menpo_img, out_menpo=True, *args, **kwrds):\n",
    "    limg = np.copy(orig_img)\n",
    "\n",
    "    lands = menpo_img.landmarks['PTS'].lms\n",
    "    lands = np.fliplr(lands.h_points().T[:,:2])\n",
    "\n",
    "    limg = add_landmarks(limg, lands, *args, **kwrds)\n",
    "    if out_menpo: limg = image_to_menpo(limg)\n",
    "    \n",
    "    return limg\n",
    "\n",
    "def add_bounding_box(img, bbox):\n",
    "    bbox0 = bounding_box(bbox.h_points().T[:,:2][0,:], bbox.h_points().T[:,:2][2,:])\n",
    "    img.landmarks['bbox_0'] = bbox0\n",
    "    return bbox0\n",
    "\n",
    "def find_bounding_box(img, verbose=False):\n",
    "    pcs = dlib_detector(img, group_prefix='bbox')\n",
    "    detector = 'dlib'\n",
    "    if len(pcs) == 0:\n",
    "        pcs = pico_detector(img, group_prefix='bbox')\n",
    "        detector = 'pico'\n",
    "        if len(pcs) == 0:\n",
    "            pcs = ffld2_detector(img, group_prefix='bbox')\n",
    "            detector = 'ffld2'\n",
    "            if len(pcs) == 0:\n",
    "                if verbose: print('no bbox found')\n",
    "                detector = None\n",
    "                pcs = None\n",
    "    return (pcs, detector)\n",
    "\n",
    "def find_landmarks(img):\n",
    "    if 'bbox_0' not in img.landmarks:\n",
    "        pcs,detector = find_bounding_box(img)\n",
    "    fit = dlib.fit_from_bb(img, img.landmarks['bbox_0'].lms)\n",
    "    img.landmarks['PTS'] = fit.final_shape\n",
    "    return fit\n",
    "\n",
    "def crop_face(img):\n",
    "    pc = img.landmarks['PTS'].lms\n",
    "    imins, imaxs = pc.bounds()\n",
    "    img2  = img.crop([imins[0]-((imaxs[0]-imins[0])*0.5), imins[1]-((imaxs[1]-imins[1])*0.1)], \n",
    "                     [imaxs[0]+((imaxs[0]-imins[0])*0.05), imaxs[1]+((imaxs[1]-imins[1])*0.1)], \n",
    "                     True)\n",
    "    return img2\n",
    "\n",
    "def zload_vid(ifname):\n",
    "    small_size = [640,360]\n",
    "    large_size = [854,480]\n",
    "\n",
    "    vid = mpy.VideoFileClip(ifname)\n",
    "    \n",
    "    # Fix vid size if needed\n",
    "    if (vid.size[0]<640) | (vid.size[1]<360):\n",
    "        vid = vid.on_color(size=small_size, color=(0,0,0))\n",
    "    elif ((vid.size[0]>640) & (vid.size[0]<854)) | ((vid.size[1]>360) & (vid.size[1]<480)):\n",
    "        vid = vid.on_color(size=large_size, color=(0,0,0))\n",
    "    elif (vid.size[0]==640) & (vid.size[1]==480):\n",
    "        vid = vid.on_color(size=large_size, color=(0,0,0))\n",
    "    \n",
    "    return vid"
   ]
  },
  {
   "cell_type": "markdown",
   "metadata": {},
   "source": [
    "# Load"
   ]
  },
  {
   "cell_type": "markdown",
   "metadata": {},
   "source": [
    "## Paths, etc"
   ]
  },
  {
   "cell_type": "code",
   "execution_count": 3,
   "metadata": {
    "collapsed": false
   },
   "outputs": [
    {
     "data": {
      "text/plain": [
       "['/data1/famface01/data/stimuli/pics/fampics_task/Angelina_Jolie/Angelina_Jolie_117.jpg',\n",
       " '/data1/famface01/data/stimuli/pics/fampics_task/Angelina_Jolie/Angelina_Jolie_128.jpg',\n",
       " '/data1/famface01/data/stimuli/pics/fampics_task/Angelina_Jolie/Angelina_Jolie_14.jpg',\n",
       " '/data1/famface01/data/stimuli/pics/fampics_task/Angelina_Jolie/Angelina_Jolie_15.jpg',\n",
       " '/data1/famface01/data/stimuli/pics/fampics_task/Angelina_Jolie/Angelina_Jolie_153.jpg',\n",
       " '/data1/famface01/data/stimuli/pics/fampics_task/Angelina_Jolie/Angelina_Jolie_168.jpg',\n",
       " '/data1/famface01/data/stimuli/pics/fampics_task/Angelina_Jolie/Angelina_Jolie_178.jpg',\n",
       " '/data1/famface01/data/stimuli/pics/fampics_task/Angelina_Jolie/Angelina_Jolie_181.jpg',\n",
       " '/data1/famface01/data/stimuli/pics/fampics_task/Angelina_Jolie/Angelina_Jolie_187.jpg',\n",
       " '/data1/famface01/data/stimuli/pics/fampics_task/Angelina_Jolie/Angelina_Jolie_188.jpg']"
      ]
     },
     "execution_count": 3,
     "metadata": {},
     "output_type": "execute_result"
    }
   ],
   "source": [
    "fpaths = sorted(glob(\"/data1/famface01/data/stimuli/pics/fampics_task/*/*.jpg\"))\n",
    "fpaths[:10]"
   ]
  },
  {
   "cell_type": "code",
   "execution_count": 4,
   "metadata": {
    "collapsed": true
   },
   "outputs": [],
   "source": [
    "# Save the associated identities with each file\n",
    "lst_ids = [ os.path.basename(os.path.dirname(fpath)) for fpath in fpaths ]\n",
    "uids = np.unique(lst_ids)"
   ]
  },
  {
   "cell_type": "markdown",
   "metadata": {},
   "source": [
    "## Data, landmark, etc\n",
    "\n",
    "Save those landmarks."
   ]
  },
  {
   "cell_type": "code",
   "execution_count": null,
   "metadata": {
    "collapsed": false
   },
   "outputs": [],
   "source": [
    "images = []\n",
    "for fpath in tqdm(fpaths):\n",
    "    # Read\n",
    "    img = mio.import_image(fpath)\n",
    "    \n",
    "    # Bounding Box\n",
    "    pcs, detector = find_bounding_box(img)\n",
    "    \n",
    "    # Landmarks\n",
    "    find_landmarks(img)\n",
    "    labeller(img, 'PTS', face_ibug_68_to_face_ibug_68_trimesh)\n",
    "    labeller(img, 'face_ibug_68_trimesh', face_ibug_68_to_face_ibug_68)\n",
    "    \n",
    "    # Save\n",
    "    images.append(img)\n",
    "    ofile = \"%s/%s\" % (os.path.dirname(fpath), os.path.basename(fpath).replace(\".jpg\", \".pts\"))\n",
    "    export_landmark_file(img.landmarks['PTS'], ofile, overwrite=True)"
   ]
  },
  {
   "cell_type": "code",
   "execution_count": null,
   "metadata": {
    "collapsed": false
   },
   "outputs": [],
   "source": [
    "visualize_images(images)"
   ]
  },
  {
   "cell_type": "markdown",
   "metadata": {},
   "source": [
    "### Sample Photo"
   ]
  },
  {
   "cell_type": "code",
   "execution_count": null,
   "metadata": {
    "collapsed": false
   },
   "outputs": [],
   "source": [
    "i = 0\n",
    "fpath = fpaths[i]\n",
    "fid = lst_ids[i]\n",
    "\n",
    "img = mio.import_image(fpath)\n",
    "img.view()"
   ]
  },
  {
   "cell_type": "code",
   "execution_count": null,
   "metadata": {
    "collapsed": false
   },
   "outputs": [],
   "source": [
    "pcs, detector = find_bounding_box(img)"
   ]
  },
  {
   "cell_type": "code",
   "execution_count": null,
   "metadata": {
    "collapsed": false
   },
   "outputs": [],
   "source": [
    "find_landmarks(img)\n",
    "labeller(img, 'PTS', face_ibug_68_to_face_ibug_68_trimesh)\n",
    "labeller(img, 'face_ibug_68_trimesh', face_ibug_68_to_face_ibug_68)"
   ]
  },
  {
   "cell_type": "code",
   "execution_count": null,
   "metadata": {
    "collapsed": false
   },
   "outputs": [],
   "source": [
    "img.view_landmarks(group='PTS')"
   ]
  },
  {
   "cell_type": "code",
   "execution_count": null,
   "metadata": {
    "collapsed": false
   },
   "outputs": [],
   "source": [
    "\"%s/%s\" % (os.path.dirname(fpath), os.path.basename(fpath).replace(\".jpg\", \".pts\"))"
   ]
  },
  {
   "cell_type": "code",
   "execution_count": null,
   "metadata": {
    "collapsed": true
   },
   "outputs": [],
   "source": []
  },
  {
   "cell_type": "markdown",
   "metadata": {},
   "source": [
    "# Save Masked"
   ]
  },
  {
   "cell_type": "code",
   "execution_count": 7,
   "metadata": {
    "collapsed": true
   },
   "outputs": [],
   "source": [
    "odir = \"/data1/famface01/data/stimuli/pics/fampics_exp_masked\"\n",
    "if not os.path.exists(odir): os.mkdir(odir)"
   ]
  },
  {
   "cell_type": "code",
   "execution_count": 12,
   "metadata": {
    "collapsed": false
   },
   "outputs": [
    {
     "name": "stderr",
     "output_type": "stream",
     "text": [
      "100%|██████████| 192/192 [00:58<00:00,  3.30it/s]\n"
     ]
    }
   ],
   "source": [
    "for i,fpath in tqdm(enumerate(fpaths), total=len(fpaths)):\n",
    "    uid = lst_ids[i]\n",
    "    mdir = \"%s/%s\" % (odir, uid)\n",
    "    if not os.path.exists(mdir): os.mkdir(mdir)\n",
    "    \n",
    "    # Read\n",
    "    img = mio.import_image(fpath)\n",
    "    mimg = img.as_masked().constrain_mask_to_landmarks(group='PTS')\n",
    "    \n",
    "    # Save\n",
    "    img_file = \"%s/%s\" % (mdir, os.path.basename(fpath))\n",
    "    pts_file = \"%s/%s\" % (mdir, os.path.basename(fpath).replace(\".jpg\", \".pts\"))\n",
    "    \n",
    "    export_image(mimg, img_file, overwrite=True)\n",
    "    export_landmark_file(mimg.landmarks['PTS'], pts_file, overwrite=True)\n",
    "    \n",
    "    # Remove\n",
    "    del img, mimg"
   ]
  },
  {
   "cell_type": "code",
   "execution_count": 13,
   "metadata": {
    "collapsed": false
   },
   "outputs": [
    {
     "name": "stdout",
     "output_type": "stream",
     "text": [
      "/data1/famface01/data/stimuli/pics/fampics_exp_masked/Angelina_Jolie:\n",
      "\u001b[0m\u001b[01;35mAngelina_Jolie_117.jpg\u001b[0m  \u001b[01;35mAngelina_Jolie_181.jpg\u001b[0m  \u001b[01;35mAngelina_Jolie_3_2.jpg\u001b[0m\n",
      "Angelina_Jolie_117.pts  Angelina_Jolie_181.pts  Angelina_Jolie_3_2.pts\n",
      "\u001b[01;35mAngelina_Jolie_128.jpg\u001b[0m  \u001b[01;35mAngelina_Jolie_187.jpg\u001b[0m  \u001b[01;35mAngelina_Jolie_330.jpg\u001b[0m\n",
      "Angelina_Jolie_128.pts  Angelina_Jolie_187.pts  Angelina_Jolie_330.pts\n",
      "\u001b[01;35mAngelina_Jolie_14.jpg\u001b[0m   \u001b[01;35mAngelina_Jolie_188.jpg\u001b[0m  \u001b[01;35mAngelina_Jolie_424.jpg\u001b[0m\n",
      "Angelina_Jolie_14.pts   Angelina_Jolie_188.pts  Angelina_Jolie_424.pts\n",
      "\u001b[01;35mAngelina_Jolie_153.jpg\u001b[0m  \u001b[01;35mAngelina_Jolie_189.jpg\u001b[0m  \u001b[01;35mAngelina_Jolie_4_2.jpg\u001b[0m\n",
      "Angelina_Jolie_153.pts  Angelina_Jolie_189.pts  Angelina_Jolie_4_2.pts\n",
      "\u001b[01;35mAngelina_Jolie_15.jpg\u001b[0m   \u001b[01;35mAngelina_Jolie_190.jpg\u001b[0m  \u001b[01;35mAngelina_Jolie_49.jpg\u001b[0m\n",
      "Angelina_Jolie_15.pts   Angelina_Jolie_190.pts  Angelina_Jolie_49.pts\n",
      "\u001b[01;35mAngelina_Jolie_168.jpg\u001b[0m  \u001b[01;35mAngelina_Jolie_21.jpg\u001b[0m   \u001b[01;35mAngelina_Jolie_70.jpg\u001b[0m\n",
      "Angelina_Jolie_168.pts  Angelina_Jolie_21.pts   Angelina_Jolie_70.pts\n",
      "\u001b[01;35mAngelina_Jolie_178.jpg\u001b[0m  \u001b[01;35mAngelina_Jolie_227.jpg\u001b[0m\n",
      "Angelina_Jolie_178.pts  Angelina_Jolie_227.pts\n",
      "\n",
      "/data1/famface01/data/stimuli/pics/fampics_exp_masked/Anne_Hathaway:\n",
      "\u001b[01;35mAnne_Hathaway_224.jpg\u001b[0m  \u001b[01;35mAnne_Hathaway_4.jpg\u001b[0m\n",
      "Anne_Hathaway_224.pts  Anne_Hathaway_4.pts\n",
      "\n",
      "/data1/famface01/data/stimuli/pics/fampics_exp_masked/Barack_Obama:\n",
      "\u001b[01;35mBarack_Obama_135.jpg\u001b[0m  \u001b[01;35mBarack_Obama_87.jpg\u001b[0m\n",
      "Barack_Obama_135.pts  Barack_Obama_87.pts\n",
      "\n",
      "/data1/famface01/data/stimuli/pics/fampics_exp_masked/Bill_Clinton:\n",
      "\u001b[01;35mBill_Clinton_75.jpg\u001b[0m  \u001b[01;35mBill_Clinton_87.jpg\u001b[0m\n",
      "Bill_Clinton_75.pts  Bill_Clinton_87.pts\n",
      "\n",
      "/data1/famface01/data/stimuli/pics/fampics_exp_masked/Brad_Pitt:\n",
      "\u001b[01;35mBrad_Pitt_0_2.jpg\u001b[0m  \u001b[01;35mBrad_Pitt_275.jpg\u001b[0m  \u001b[01;35mBrad_Pitt_322.jpg\u001b[0m  \u001b[01;35mBrad_Pitt_380.jpg\u001b[0m\n",
      "Brad_Pitt_0_2.pts  Brad_Pitt_275.pts  Brad_Pitt_322.pts  Brad_Pitt_380.pts\n",
      "\u001b[01;35mBrad_Pitt_0.jpg\u001b[0m    \u001b[01;35mBrad_Pitt_284.jpg\u001b[0m  \u001b[01;35mBrad_Pitt_3_2.jpg\u001b[0m  \u001b[01;35mBrad_Pitt_409.jpg\u001b[0m\n",
      "Brad_Pitt_0.pts    Brad_Pitt_284.pts  Brad_Pitt_3_2.pts  Brad_Pitt_409.pts\n",
      "\u001b[01;35mBrad_Pitt_12.jpg\u001b[0m   \u001b[01;35mBrad_Pitt_291.jpg\u001b[0m  \u001b[01;35mBrad_Pitt_348.jpg\u001b[0m  \u001b[01;35mBrad_Pitt_624.jpg\u001b[0m\n",
      "Brad_Pitt_12.pts   Brad_Pitt_291.pts  Brad_Pitt_348.pts  Brad_Pitt_624.pts\n",
      "\u001b[01;35mBrad_Pitt_20.jpg\u001b[0m   \u001b[01;35mBrad_Pitt_303.jpg\u001b[0m  \u001b[01;35mBrad_Pitt_350.jpg\u001b[0m  \u001b[01;35mBrad_Pitt_6.jpg\u001b[0m\n",
      "Brad_Pitt_20.pts   Brad_Pitt_303.pts  Brad_Pitt_350.pts  Brad_Pitt_6.pts\n",
      "\u001b[01;35mBrad_Pitt_265.jpg\u001b[0m  \u001b[01;35mBrad_Pitt_312.jpg\u001b[0m  \u001b[01;35mBrad_Pitt_359.jpg\u001b[0m  \u001b[01;35mBrad_Pitt_93.jpg\u001b[0m\n",
      "Brad_Pitt_265.pts  Brad_Pitt_312.pts  Brad_Pitt_359.pts  Brad_Pitt_93.pts\n",
      "\n",
      "/data1/famface01/data/stimuli/pics/fampics_exp_masked/Dwayne_Johnson:\n",
      "\u001b[01;35mDwayne_Johnson_25.jpg\u001b[0m  \u001b[01;35mDwayne_Johnson_34.jpg\u001b[0m\n",
      "Dwayne_Johnson_25.pts  Dwayne_Johnson_34.pts\n",
      "\n",
      "/data1/famface01/data/stimuli/pics/fampics_exp_masked/Ellen_DeGeneres:\n",
      "\u001b[01;35mEllen_DeGeneres_16.jpg\u001b[0m  \u001b[01;35mEllen_DeGeneres_27.jpg\u001b[0m\n",
      "Ellen_DeGeneres_16.pts  Ellen_DeGeneres_27.pts\n",
      "\n",
      "/data1/famface01/data/stimuli/pics/fampics_exp_masked/George_Clooney:\n",
      "\u001b[01;35mGeorge_Clooney_486.jpg\u001b[0m  \u001b[01;35mGeorge_Clooney_9.jpg\u001b[0m\n",
      "George_Clooney_486.pts  George_Clooney_9.pts\n",
      "\n",
      "/data1/famface01/data/stimuli/pics/fampics_exp_masked/Halle_Berry:\n",
      "\u001b[01;35mHalle_Berry_12.jpg\u001b[0m  \u001b[01;35mHalle_Berry_154.jpg\u001b[0m\n",
      "Halle_Berry_12.pts  Halle_Berry_154.pts\n",
      "\n",
      "/data1/famface01/data/stimuli/pics/fampics_exp_masked/Jennifer_Aniston:\n",
      "\u001b[01;35mJennifer_Aniston_0_2.jpg\u001b[0m  \u001b[01;35mJennifer_Aniston_237.jpg\u001b[0m  \u001b[01;35mJennifer_Aniston_317.jpg\u001b[0m\n",
      "Jennifer_Aniston_0_2.pts  Jennifer_Aniston_237.pts  Jennifer_Aniston_317.pts\n",
      "\u001b[01;35mJennifer_Aniston_0.jpg\u001b[0m    \u001b[01;35mJennifer_Aniston_256.jpg\u001b[0m  \u001b[01;35mJennifer_Aniston_3.jpg\u001b[0m\n",
      "Jennifer_Aniston_0.pts    Jennifer_Aniston_256.pts  Jennifer_Aniston_3.pts\n",
      "\u001b[01;35mJennifer_Aniston_111.jpg\u001b[0m  \u001b[01;35mJennifer_Aniston_274.jpg\u001b[0m  \u001b[01;35mJennifer_Aniston_4_2.jpg\u001b[0m\n",
      "Jennifer_Aniston_111.pts  Jennifer_Aniston_274.pts  Jennifer_Aniston_4_2.pts\n",
      "\u001b[01;35mJennifer_Aniston_125.jpg\u001b[0m  \u001b[01;35mJennifer_Aniston_27.jpg\u001b[0m   \u001b[01;35mJennifer_Aniston_500.jpg\u001b[0m\n",
      "Jennifer_Aniston_125.pts  Jennifer_Aniston_27.pts   Jennifer_Aniston_500.pts\n",
      "\u001b[01;35mJennifer_Aniston_127.jpg\u001b[0m  \u001b[01;35mJennifer_Aniston_299.jpg\u001b[0m  \u001b[01;35mJennifer_Aniston_50.jpg\u001b[0m\n",
      "Jennifer_Aniston_127.pts  Jennifer_Aniston_299.pts  Jennifer_Aniston_50.pts\n",
      "\u001b[01;35mJennifer_Aniston_155.jpg\u001b[0m  \u001b[01;35mJennifer_Aniston_29.jpg\u001b[0m   \u001b[01;35mJennifer_Aniston_97.jpg\u001b[0m\n",
      "Jennifer_Aniston_155.pts  Jennifer_Aniston_29.pts   Jennifer_Aniston_97.pts\n",
      "\u001b[01;35mJennifer_Aniston_21.jpg\u001b[0m   \u001b[01;35mJennifer_Aniston_305.jpg\u001b[0m\n",
      "Jennifer_Aniston_21.pts   Jennifer_Aniston_305.pts\n",
      "\n",
      "/data1/famface01/data/stimuli/pics/fampics_exp_masked/Johnny_Depp:\n",
      "\u001b[01;35mJohnny_Depp_0.jpg\u001b[0m    \u001b[01;35mJohnny_Depp_18.jpg\u001b[0m   \u001b[01;35mJohnny_Depp_43.jpg\u001b[0m\n",
      "Johnny_Depp_0.pts    Johnny_Depp_18.pts   Johnny_Depp_43.pts\n",
      "\u001b[01;35mJohnny_Depp_107.jpg\u001b[0m  \u001b[01;35mJohnny_Depp_198.jpg\u001b[0m  \u001b[01;35mJohnny_Depp_80.jpg\u001b[0m\n",
      "Johnny_Depp_107.pts  Johnny_Depp_198.pts  Johnny_Depp_80.pts\n",
      "\u001b[01;35mJohnny_Depp_115.jpg\u001b[0m  \u001b[01;35mJohnny_Depp_2_2.jpg\u001b[0m  \u001b[01;35mJohnny_Depp_83.jpg\u001b[0m\n",
      "Johnny_Depp_115.pts  \u001b[01;35mJohnny_Depp_22.jpg\u001b[0m   Johnny_Depp_83.pts\n",
      "\u001b[01;35mJohnny_Depp_131.jpg\u001b[0m  Johnny_Depp_2_2.pts  \u001b[01;35mJohnny_Depp_87.jpg\u001b[0m\n",
      "Johnny_Depp_131.pts  Johnny_Depp_22.pts   Johnny_Depp_87.pts\n",
      "\u001b[01;35mJohnny_Depp_148.jpg\u001b[0m  \u001b[01;35mJohnny_Depp_31.jpg\u001b[0m   \u001b[01;35mJohnny_Depp_90.jpg\u001b[0m\n",
      "Johnny_Depp_148.pts  Johnny_Depp_31.pts   Johnny_Depp_90.pts\n",
      "\u001b[01;35mJohnny_Depp_160.jpg\u001b[0m  \u001b[01;35mJohnny_Depp_3_2.jpg\u001b[0m  \u001b[01;35mJohnny_Depp_96.jpg\u001b[0m\n",
      "Johnny_Depp_160.pts  Johnny_Depp_3_2.pts  Johnny_Depp_96.pts\n",
      "\u001b[01;35mJohnny_Depp_169.jpg\u001b[0m  \u001b[01;35mJohnny_Depp_40.jpg\u001b[0m\n",
      "Johnny_Depp_169.pts  Johnny_Depp_40.pts\n",
      "\n",
      "/data1/famface01/data/stimuli/pics/fampics_exp_masked/Julia_Roberts:\n",
      "\u001b[01;35mJulia_Roberts_0_2.jpg\u001b[0m  \u001b[01;35mJulia_Roberts_161.jpg\u001b[0m  \u001b[01;35mJulia_Roberts_4_2.jpg\u001b[0m\n",
      "Julia_Roberts_0_2.pts  Julia_Roberts_161.pts  Julia_Roberts_4_2.pts\n",
      "\u001b[01;35mJulia_Roberts_115.jpg\u001b[0m  \u001b[01;35mJulia_Roberts_172.jpg\u001b[0m  \u001b[01;35mJulia_Roberts_5_2.jpg\u001b[0m\n",
      "Julia_Roberts_115.pts  Julia_Roberts_172.pts  Julia_Roberts_5_2.pts\n",
      "\u001b[01;35mJulia_Roberts_1_2.jpg\u001b[0m  \u001b[01;35mJulia_Roberts_173.jpg\u001b[0m  \u001b[01;35mJulia_Roberts_6_2.jpg\u001b[0m\n",
      "Julia_Roberts_1_2.pts  Julia_Roberts_173.pts  Julia_Roberts_6_2.pts\n",
      "\u001b[01;35mJulia_Roberts_148.jpg\u001b[0m  \u001b[01;35mJulia_Roberts_189.jpg\u001b[0m  \u001b[01;35mJulia_Roberts_7_2.jpg\u001b[0m\n",
      "Julia_Roberts_148.pts  Julia_Roberts_189.pts  Julia_Roberts_7_2.pts\n",
      "\u001b[01;35mJulia_Roberts_149.jpg\u001b[0m  \u001b[01;35mJulia_Roberts_205.jpg\u001b[0m  \u001b[01;35mJulia_Roberts_8_2.jpg\u001b[0m\n",
      "Julia_Roberts_149.pts  Julia_Roberts_205.pts  Julia_Roberts_8_2.pts\n",
      "\u001b[01;35mJulia_Roberts_158.jpg\u001b[0m  \u001b[01;35mJulia_Roberts_2_2.jpg\u001b[0m  \u001b[01;35mJulia_Roberts_9_2.jpg\u001b[0m\n",
      "Julia_Roberts_158.pts  Julia_Roberts_2_2.pts  Julia_Roberts_9_2.pts\n",
      "\u001b[01;35mJulia_Roberts_159.jpg\u001b[0m  \u001b[01;35mJulia_Roberts_3_2.jpg\u001b[0m\n",
      "Julia_Roberts_159.pts  Julia_Roberts_3_2.pts\n",
      "\n",
      "/data1/famface01/data/stimuli/pics/fampics_exp_masked/Justin_Timberlake:\n",
      "\u001b[01;35mJustin_Timberlake_0_2.jpg\u001b[0m  \u001b[01;35mJustin_Timberlake_16.jpg\u001b[0m   \u001b[01;35mJustin_Timberlake_49.jpg\u001b[0m\n",
      "Justin_Timberlake_0_2.pts  Justin_Timberlake_16.pts   Justin_Timberlake_49.pts\n",
      "\u001b[01;35mJustin_Timberlake_0.jpg\u001b[0m    \u001b[01;35mJustin_Timberlake_196.jpg\u001b[0m  \u001b[01;35mJustin_Timberlake_56.jpg\u001b[0m\n",
      "Justin_Timberlake_0.pts    Justin_Timberlake_196.pts  Justin_Timberlake_56.pts\n",
      "\u001b[01;35mJustin_Timberlake_110.jpg\u001b[0m  \u001b[01;35mJustin_Timberlake_19.jpg\u001b[0m   \u001b[01;35mJustin_Timberlake_5.jpg\u001b[0m\n",
      "Justin_Timberlake_110.pts  Justin_Timberlake_19.pts   Justin_Timberlake_5.pts\n",
      "\u001b[01;35mJustin_Timberlake_1_2.jpg\u001b[0m  \u001b[01;35mJustin_Timberlake_25.jpg\u001b[0m   \u001b[01;35mJustin_Timberlake_60.jpg\u001b[0m\n",
      "Justin_Timberlake_1_2.pts  Justin_Timberlake_25.pts   Justin_Timberlake_60.pts\n",
      "\u001b[01;35mJustin_Timberlake_154.jpg\u001b[0m  \u001b[01;35mJustin_Timberlake_3.jpg\u001b[0m    \u001b[01;35mJustin_Timberlake_63.jpg\u001b[0m\n",
      "Justin_Timberlake_154.pts  Justin_Timberlake_3.pts    Justin_Timberlake_63.pts\n",
      "\u001b[01;35mJustin_Timberlake_159.jpg\u001b[0m  \u001b[01;35mJustin_Timberlake_45.jpg\u001b[0m   \u001b[01;35mJustin_Timberlake_9.jpg\u001b[0m\n",
      "Justin_Timberlake_159.pts  Justin_Timberlake_45.pts   Justin_Timberlake_9.pts\n",
      "\u001b[01;35mJustin_Timberlake_168.jpg\u001b[0m  \u001b[01;35mJustin_Timberlake_47.jpg\u001b[0m\n",
      "Justin_Timberlake_168.pts  Justin_Timberlake_47.pts\n",
      "\n",
      "/data1/famface01/data/stimuli/pics/fampics_exp_masked/Kate_Winslet:\n",
      "\u001b[01;35mKate_Winslet_12.jpg\u001b[0m  \u001b[01;35mKate_Winslet_27.jpg\u001b[0m\n",
      "Kate_Winslet_12.pts  Kate_Winslet_27.pts\n",
      "\n",
      "/data1/famface01/data/stimuli/pics/fampics_exp_masked/Keira_Knightley:\n",
      "\u001b[01;35mKeira_Knightley_0.jpg\u001b[0m  \u001b[01;35mKeira_Knightley_231.jpg\u001b[0m\n",
      "Keira_Knightley_0.pts  Keira_Knightley_231.pts\n",
      "\n",
      "/data1/famface01/data/stimuli/pics/fampics_exp_masked/Leonardo_DiCaprio:\n",
      "\u001b[01;35mLeonardo_DiCaprio_0_2.jpg\u001b[0m  \u001b[01;35mLeonardo_DiCaprio_1_2.jpg\u001b[0m\n",
      "Leonardo_DiCaprio_0_2.pts  Leonardo_DiCaprio_1_2.pts\n",
      "\n",
      "/data1/famface01/data/stimuli/pics/fampics_exp_masked/Meryl_Streep:\n",
      "\u001b[01;35mMeryl_Streep_124.jpg\u001b[0m  \u001b[01;35mMeryl_Streep_158.jpg\u001b[0m\n",
      "Meryl_Streep_124.pts  Meryl_Streep_158.pts\n",
      "\n",
      "/data1/famface01/data/stimuli/pics/fampics_exp_masked/Michael_Jackson:\n",
      "\u001b[01;35mMichael_Jackson_0_2.jpg\u001b[0m  \u001b[01;35mMichael_Jackson_3_2.jpg\u001b[0m\n",
      "Michael_Jackson_0_2.pts  Michael_Jackson_3_2.pts\n",
      "\n",
      "/data1/famface01/data/stimuli/pics/fampics_exp_masked/Morgan_Freeman:\n",
      "\u001b[01;35mMorgan_Freeman_1_2.jpg\u001b[0m  \u001b[01;35mMorgan_Freeman_4_2.jpg\u001b[0m\n",
      "Morgan_Freeman_1_2.pts  Morgan_Freeman_4_2.pts\n",
      "\n",
      "/data1/famface01/data/stimuli/pics/fampics_exp_masked/Oprah_Winfrey:\n",
      "\u001b[01;35mOprah_Winfrey_0_2.jpg\u001b[0m   \u001b[01;35mOprah_Winfrey_141.jpg\u001b[0m   \u001b[01;35mOprah_Winfrey_61.jpg\u001b[0m\n",
      "Oprah_Winfrey_0_2.pts   Oprah_Winfrey_141.pts   Oprah_Winfrey_61.pts\n",
      "\u001b[01;35mOprah_Winfrey_10_2.jpg\u001b[0m  \u001b[01;35mOprah_Winfrey_14_2.jpg\u001b[0m  \u001b[01;35mOprah_Winfrey_7_2.jpg\u001b[0m\n",
      "Oprah_Winfrey_10_2.pts  Oprah_Winfrey_14_2.pts  Oprah_Winfrey_7_2.pts\n",
      "\u001b[01;35mOprah_Winfrey_107.jpg\u001b[0m   \u001b[01;35mOprah_Winfrey_148.jpg\u001b[0m   \u001b[01;35mOprah_Winfrey_73.jpg\u001b[0m\n",
      "Oprah_Winfrey_107.pts   Oprah_Winfrey_148.pts   Oprah_Winfrey_73.pts\n",
      "\u001b[01;35mOprah_Winfrey_11_2.jpg\u001b[0m  \u001b[01;35mOprah_Winfrey_16_2.jpg\u001b[0m  \u001b[01;35mOprah_Winfrey_8_2.jpg\u001b[0m\n",
      "Oprah_Winfrey_11_2.pts  Oprah_Winfrey_16_2.pts  Oprah_Winfrey_8_2.pts\n",
      "\u001b[01;35mOprah_Winfrey_113.jpg\u001b[0m   \u001b[01;35mOprah_Winfrey_3_2.jpg\u001b[0m   \u001b[01;35mOprah_Winfrey_9_2.jpg\u001b[0m\n",
      "Oprah_Winfrey_113.pts   Oprah_Winfrey_3_2.pts   Oprah_Winfrey_9_2.pts\n",
      "\u001b[01;35mOprah_Winfrey_115.jpg\u001b[0m   \u001b[01;35mOprah_Winfrey_4_2.jpg\u001b[0m   \u001b[01;35mOprah_Winfrey_97.jpg\u001b[0m\n",
      "Oprah_Winfrey_115.pts   Oprah_Winfrey_4_2.pts   Oprah_Winfrey_97.pts\n",
      "\u001b[01;35mOprah_Winfrey_1_2.jpg\u001b[0m   \u001b[01;35mOprah_Winfrey_5_2.jpg\u001b[0m\n",
      "Oprah_Winfrey_1_2.pts   Oprah_Winfrey_5_2.pts\n",
      "\n",
      "/data1/famface01/data/stimuli/pics/fampics_exp_masked/Sandra_Bullock:\n",
      "\u001b[01;35mSandra_Bullock_0_2.jpg\u001b[0m  \u001b[01;35mSandra_Bullock_1_2.jpg\u001b[0m\n",
      "Sandra_Bullock_0_2.pts  Sandra_Bullock_1_2.pts\n",
      "\n",
      "/data1/famface01/data/stimuli/pics/fampics_exp_masked/Tina_Fey:\n",
      "\u001b[01;35mTina_Fey_171.jpg\u001b[0m  Tina_Fey_171.pts  \u001b[01;35mTina_Fey_25.jpg\u001b[0m  Tina_Fey_25.pts\n",
      "\n",
      "/data1/famface01/data/stimuli/pics/fampics_exp_masked/Tom_Cruise:\n",
      "\u001b[01;35mTom_Cruise_275.jpg\u001b[0m  Tom_Cruise_275.pts  \u001b[01;35mTom_Cruise_42.jpg\u001b[0m  Tom_Cruise_42.pts\n",
      "\n",
      "/data1/famface01/data/stimuli/pics/fampics_exp_masked/Will_Smith:\n",
      "\u001b[01;35mWill_Smith_0_2.jpg\u001b[0m   \u001b[01;35mWill_Smith_139.jpg\u001b[0m  \u001b[01;35mWill_Smith_4_2.jpg\u001b[0m\n",
      "Will_Smith_0_2.pts   Will_Smith_139.pts  Will_Smith_4_2.pts\n",
      "\u001b[01;35mWill_Smith_10_2.jpg\u001b[0m  \u001b[01;35mWill_Smith_141.jpg\u001b[0m  \u001b[01;35mWill_Smith_5_2.jpg\u001b[0m\n",
      "Will_Smith_10_2.pts  Will_Smith_141.pts  Will_Smith_5_2.pts\n",
      "\u001b[01;35mWill_Smith_11_2.jpg\u001b[0m  \u001b[01;35mWill_Smith_145.jpg\u001b[0m  \u001b[01;35mWill_Smith_6_2.jpg\u001b[0m\n",
      "Will_Smith_11_2.pts  Will_Smith_145.pts  Will_Smith_6_2.pts\n",
      "\u001b[01;35mWill_Smith_114.jpg\u001b[0m   \u001b[01;35mWill_Smith_2_2.jpg\u001b[0m  \u001b[01;35mWill_Smith_66.jpg\u001b[0m\n",
      "Will_Smith_114.pts   \u001b[01;35mWill_Smith_22.jpg\u001b[0m   Will_Smith_66.pts\n",
      "\u001b[01;35mWill_Smith_12_2.jpg\u001b[0m  Will_Smith_2_2.pts  \u001b[01;35mWill_Smith_82.jpg\u001b[0m\n",
      "Will_Smith_12_2.pts  Will_Smith_22.pts   Will_Smith_82.pts\n",
      "\u001b[01;35mWill_Smith_1_2.jpg\u001b[0m   \u001b[01;35mWill_Smith_3_2.jpg\u001b[0m  \u001b[01;35mWill_Smith_89.jpg\u001b[0m\n",
      "Will_Smith_1_2.pts   Will_Smith_3_2.pts  Will_Smith_89.pts\n",
      "\u001b[01;35mWill_Smith_13_2.jpg\u001b[0m  \u001b[01;35mWill_Smith_36.jpg\u001b[0m\n",
      "Will_Smith_13_2.pts  Will_Smith_36.pts\n"
     ]
    }
   ],
   "source": [
    "ls /data1/famface01/data/stimuli/pics/fampics_exp_masked/*"
   ]
  },
  {
   "cell_type": "code",
   "execution_count": 5,
   "metadata": {
    "collapsed": false
   },
   "outputs": [
    {
     "data": {
      "text/plain": [
       "u'/data1/famface01/command/misc/face_representations/120_features/300_fampics'"
      ]
     },
     "execution_count": 5,
     "metadata": {},
     "output_type": "execute_result"
    }
   ],
   "source": [
    "pwd"
   ]
  },
  {
   "cell_type": "code",
   "execution_count": null,
   "metadata": {
    "collapsed": true
   },
   "outputs": [],
   "source": []
  }
 ],
 "metadata": {
  "kernelspec": {
   "display_name": "Python 2",
   "language": "python",
   "name": "python2"
  },
  "language_info": {
   "codemirror_mode": {
    "name": "ipython",
    "version": 2
   },
   "file_extension": ".py",
   "mimetype": "text/x-python",
   "name": "python",
   "nbconvert_exporter": "python",
   "pygments_lexer": "ipython2",
   "version": "2.7.12"
  }
 },
 "nbformat": 4,
 "nbformat_minor": 0
}
