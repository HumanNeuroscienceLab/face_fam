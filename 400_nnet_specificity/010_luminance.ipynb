{
 "cells": [
  {
   "cell_type": "markdown",
   "metadata": {},
   "source": [
    "This script will read in all the images, crop them to the face, and then calculate the mean luminance."
   ]
  },
  {
   "cell_type": "code",
   "execution_count": 1,
   "metadata": {
    "collapsed": true
   },
   "outputs": [],
   "source": [
    "%matplotlib inline\n",
    "import matplotlib.pyplot as plt\n",
    "\n",
    "import os\n",
    "from glob import glob\n",
    "\n",
    "import numpy as np\n",
    "import pandas as pd\n",
    "\n",
    "import skimage.io as io\n",
    "io.use_plugin('matplotlib')\n",
    "\n",
    "import menpo.io as mio\n",
    "from menpowidgets import visualize_images\n",
    "from pathlib import Path\n",
    "\n",
    "from tqdm import tqdm"
   ]
  },
  {
   "cell_type": "code",
   "execution_count": 2,
   "metadata": {
    "collapsed": false
   },
   "outputs": [
    {
     "data": {
      "text/html": [
       "<div>\n",
       "<table border=\"1\" class=\"dataframe\">\n",
       "  <thead>\n",
       "    <tr style=\"text-align: right;\">\n",
       "      <th></th>\n",
       "      <th>vnum</th>\n",
       "      <th>vid</th>\n",
       "      <th>frame</th>\n",
       "      <th>category</th>\n",
       "      <th>fpath</th>\n",
       "    </tr>\n",
       "  </thead>\n",
       "  <tbody>\n",
       "    <tr>\n",
       "      <th>0</th>\n",
       "      <td>14</td>\n",
       "      <td>Ahmed_Chalabi_U000_vid06_clip05_2secs</td>\n",
       "      <td>3</td>\n",
       "      <td>unfam</td>\n",
       "      <td>/data1/famface01/data/stimuli/vids/eight_frame...</td>\n",
       "    </tr>\n",
       "    <tr>\n",
       "      <th>1</th>\n",
       "      <td>14</td>\n",
       "      <td>Ahmed_Chalabi_U000_vid06_clip05_2secs</td>\n",
       "      <td>9</td>\n",
       "      <td>unfam</td>\n",
       "      <td>/data1/famface01/data/stimuli/vids/eight_frame...</td>\n",
       "    </tr>\n",
       "    <tr>\n",
       "      <th>2</th>\n",
       "      <td>14</td>\n",
       "      <td>Ahmed_Chalabi_U000_vid06_clip05_2secs</td>\n",
       "      <td>15</td>\n",
       "      <td>unfam</td>\n",
       "      <td>/data1/famface01/data/stimuli/vids/eight_frame...</td>\n",
       "    </tr>\n",
       "    <tr>\n",
       "      <th>3</th>\n",
       "      <td>14</td>\n",
       "      <td>Ahmed_Chalabi_U000_vid06_clip05_2secs</td>\n",
       "      <td>21</td>\n",
       "      <td>unfam</td>\n",
       "      <td>/data1/famface01/data/stimuli/vids/eight_frame...</td>\n",
       "    </tr>\n",
       "    <tr>\n",
       "      <th>4</th>\n",
       "      <td>14</td>\n",
       "      <td>Ahmed_Chalabi_U000_vid06_clip05_2secs</td>\n",
       "      <td>27</td>\n",
       "      <td>unfam</td>\n",
       "      <td>/data1/famface01/data/stimuli/vids/eight_frame...</td>\n",
       "    </tr>\n",
       "  </tbody>\n",
       "</table>\n",
       "</div>"
      ],
      "text/plain": [
       "   vnum                                    vid  frame category  \\\n",
       "0    14  Ahmed_Chalabi_U000_vid06_clip05_2secs      3    unfam   \n",
       "1    14  Ahmed_Chalabi_U000_vid06_clip05_2secs      9    unfam   \n",
       "2    14  Ahmed_Chalabi_U000_vid06_clip05_2secs     15    unfam   \n",
       "3    14  Ahmed_Chalabi_U000_vid06_clip05_2secs     21    unfam   \n",
       "4    14  Ahmed_Chalabi_U000_vid06_clip05_2secs     27    unfam   \n",
       "\n",
       "                                               fpath  \n",
       "0  /data1/famface01/data/stimuli/vids/eight_frame...  \n",
       "1  /data1/famface01/data/stimuli/vids/eight_frame...  \n",
       "2  /data1/famface01/data/stimuli/vids/eight_frame...  \n",
       "3  /data1/famface01/data/stimuli/vids/eight_frame...  \n",
       "4  /data1/famface01/data/stimuli/vids/eight_frame...  "
      ]
     },
     "execution_count": 2,
     "metadata": {},
     "output_type": "execute_result"
    }
   ],
   "source": [
    "unfam_df = pd.read_csv(\"/data1/famface01/analysis/encoding/12_Features/unfam_final_frame_df.csv\")\n",
    "unfam_df = unfam_df.ix[:,1:]\n",
    "unfam_df.head()"
   ]
  },
  {
   "cell_type": "markdown",
   "metadata": {},
   "source": [
    "Load the images and crop to the face."
   ]
  },
  {
   "cell_type": "code",
   "execution_count": 3,
   "metadata": {
    "collapsed": false
   },
   "outputs": [
    {
     "name": "stderr",
     "output_type": "stream",
     "text": [
      "100%|██████████| 6912/6912 [03:28<00:00, 35.00it/s]\n"
     ]
    }
   ],
   "source": [
    "from menpo.landmark import face_ibug_68_to_face_ibug_68_trimesh, face_ibug_68_to_face_ibug_68, labeller\n",
    "\n",
    "unfam_images = []\n",
    "for i,row in tqdm(unfam_df.iterrows(), total=len(unfam_df)):\n",
    "    img = mio.import_image(row.fpath)\n",
    "    img = img.crop_to_landmarks_proportion(0.1)\n",
    "    labeller(img, 'PTS', face_ibug_68_to_face_ibug_68_trimesh)\n",
    "    unfam_images.append(img)"
   ]
  },
  {
   "cell_type": "markdown",
   "metadata": {},
   "source": [
    "Calculate the average luminance for each image."
   ]
  },
  {
   "cell_type": "code",
   "execution_count": 5,
   "metadata": {
    "collapsed": false
   },
   "outputs": [
    {
     "name": "stderr",
     "output_type": "stream",
     "text": [
      "100%|██████████| 6912/6912 [00:02<00:00, 3245.11it/s]\n"
     ]
    }
   ],
   "source": [
    "mean_lumis = np.array([ img.as_greyscale().as_vector().mean() for img in tqdm(unfam_images) ])"
   ]
  },
  {
   "cell_type": "code",
   "execution_count": 15,
   "metadata": {
    "collapsed": false
   },
   "outputs": [
    {
     "data": {
      "text/html": [
       "<div>\n",
       "<table border=\"1\" class=\"dataframe\">\n",
       "  <thead>\n",
       "    <tr style=\"text-align: right;\">\n",
       "      <th></th>\n",
       "      <th>vid</th>\n",
       "      <th>frame</th>\n",
       "      <th>luminance</th>\n",
       "    </tr>\n",
       "  </thead>\n",
       "  <tbody>\n",
       "    <tr>\n",
       "      <th>0</th>\n",
       "      <td>Ahmed_Chalabi_U000_vid06_clip05_2secs</td>\n",
       "      <td>3</td>\n",
       "      <td>0.401390</td>\n",
       "    </tr>\n",
       "    <tr>\n",
       "      <th>1</th>\n",
       "      <td>Ahmed_Chalabi_U000_vid06_clip05_2secs</td>\n",
       "      <td>9</td>\n",
       "      <td>0.398201</td>\n",
       "    </tr>\n",
       "    <tr>\n",
       "      <th>2</th>\n",
       "      <td>Ahmed_Chalabi_U000_vid06_clip05_2secs</td>\n",
       "      <td>15</td>\n",
       "      <td>0.404308</td>\n",
       "    </tr>\n",
       "    <tr>\n",
       "      <th>3</th>\n",
       "      <td>Ahmed_Chalabi_U000_vid06_clip05_2secs</td>\n",
       "      <td>21</td>\n",
       "      <td>0.402420</td>\n",
       "    </tr>\n",
       "    <tr>\n",
       "      <th>4</th>\n",
       "      <td>Ahmed_Chalabi_U000_vid06_clip05_2secs</td>\n",
       "      <td>27</td>\n",
       "      <td>0.399624</td>\n",
       "    </tr>\n",
       "  </tbody>\n",
       "</table>\n",
       "</div>"
      ],
      "text/plain": [
       "                                     vid  frame  luminance\n",
       "0  Ahmed_Chalabi_U000_vid06_clip05_2secs      3   0.401390\n",
       "1  Ahmed_Chalabi_U000_vid06_clip05_2secs      9   0.398201\n",
       "2  Ahmed_Chalabi_U000_vid06_clip05_2secs     15   0.404308\n",
       "3  Ahmed_Chalabi_U000_vid06_clip05_2secs     21   0.402420\n",
       "4  Ahmed_Chalabi_U000_vid06_clip05_2secs     27   0.399624"
      ]
     },
     "execution_count": 15,
     "metadata": {},
     "output_type": "execute_result"
    }
   ],
   "source": [
    "odf = pd.DataFrame({'vid': unfam_df.vid, 'frame': unfam_df.frame, 'luminance': mean_lumis}, columns=['vid', 'frame', 'luminance'])\n",
    "odf.head()"
   ]
  },
  {
   "cell_type": "code",
   "execution_count": 16,
   "metadata": {
    "collapsed": true
   },
   "outputs": [],
   "source": [
    "odf.to_csv('/data1/famface01/analysis/misc/400_nnet_specificity/feats_ave_luminance.csv')"
   ]
  },
  {
   "cell_type": "code",
   "execution_count": null,
   "metadata": {
    "collapsed": true
   },
   "outputs": [],
   "source": []
  }
 ],
 "metadata": {
  "kernelspec": {
   "display_name": "Python 2",
   "language": "python",
   "name": "python2"
  },
  "language_info": {
   "codemirror_mode": {
    "name": "ipython",
    "version": 2
   },
   "file_extension": ".py",
   "mimetype": "text/x-python",
   "name": "python",
   "nbconvert_exporter": "python",
   "pygments_lexer": "ipython2",
   "version": "2.7.12"
  }
 },
 "nbformat": 4,
 "nbformat_minor": 0
}
